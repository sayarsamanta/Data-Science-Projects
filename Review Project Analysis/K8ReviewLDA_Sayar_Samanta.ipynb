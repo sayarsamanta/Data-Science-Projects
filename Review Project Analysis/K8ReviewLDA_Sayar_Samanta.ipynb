{
 "cells": [
  {
   "cell_type": "code",
   "execution_count": null,
   "metadata": {
    "id": "aGrkCGHpC712"
   },
   "outputs": [],
   "source": [
    "#DESCRIPTION\n",
    "\n",
    "#Help a leading mobile brand understand the voice of the customer by analyzing the reviews of their product on Amazon and the topics that customers are talking about. You will perform topic modeling on specific parts of speech. You’ll finally interpret the emerging topics.\n",
    "\n",
    "#Problem Statement: \n",
    "\n",
    "#A popular mobile phone brand, Lenovo has launched their budget smartphone in the Indian market. The client wants to understand the VOC (voice of the customer) on the product. This will be useful to not just evaluate the current product, but to also get some direction for developing the product pipeline. The client is particularly interested in the different aspects that customers care about. Product reviews by customers on a leading e-commerce site should provide a good view.\n",
    "\n",
    "#Domain: Amazon reviews for a leading phone brand\n",
    "\n",
    "#Analysis to be done: POS tagging, topic modeling using LDA, and topic interpretation\n",
    "\n",
    "#Content: \n",
    "\n",
    "#Dataset: ‘K8 Reviews v0.2.csv’\n",
    "\n",
    "#Columns:\n",
    "\n",
    "#Sentiment: The sentiment against the review (4,5 star reviews are positive, 1,2 are negative)\n",
    "\n",
    "#Reviews: The main text of the review\n",
    "\n",
    "#Steps to perform:\n",
    "\n",
    "#Discover the topics in the reviews and present it to business in a consumable format. Employ techniques in syntactic processing and topic modeling.\n",
    "\n",
    "#Perform specific cleanup, POS tagging, and restricting to relevant POS tags, then, perform topic modeling using LDA. Finally, give business-friendly names to the topics and make a table for business.\n",
    "\n",
    "#Tasks: \n",
    "\n",
    "#Read the .csv file using Pandas. Take a look at the top few records.\n",
    "\n",
    "#Normalize casings for the review text and extract the text into a list for easier manipulation.\n",
    "\n",
    "#Tokenize the reviews using NLTKs word_tokenize function.\n",
    "\n",
    "#Perform parts-of-speech tagging on each sentence using the NLTK POS tagger.\n",
    "\n",
    "#For the topic model, we should  want to include only nouns.\n",
    "\n",
    "#Find out all the POS tags that correspond to nouns.\n",
    "\n",
    "#Limit the data to only terms with these tags.\n",
    "\n",
    "#Lemmatize. \n",
    "\n",
    "#Different forms of the terms need to be treated as one.\n",
    "\n",
    "#No need to provide POS tag to lemmatizer for now.\n",
    "\n",
    "#Remove stopwords and punctuation (if there are any). \n",
    "\n",
    "#Create a topic model using LDA on the cleaned-up data with 12 topics.\n",
    "\n",
    "#Print out the top terms for each topic.\n",
    "\n",
    "#What is the coherence of the model with the c_v metric?\n",
    "\n",
    "#Analyze the topics through the business lens.\n",
    "\n",
    "#Determine which of the topics can be combined.\n",
    "\n",
    "#Create topic model using LDA with what you think is the optimal number of topics\n",
    "\n",
    "#What is the coherence of the model?\n",
    "\n",
    "#The business should  be able to interpret the topics.\n",
    "\n",
    "#Name each of the identified topics.\n",
    "\n",
    "#Create a table with the topic name and the top 10 terms in each to present to the  business."
   ]
  },
  {
   "cell_type": "code",
   "execution_count": null,
   "metadata": {
    "colab": {
     "base_uri": "https://localhost:8080/"
    },
    "id": "zD_AfcIdDHBD",
    "outputId": "c0ce969b-116e-4536-d12f-e287a386acc5"
   },
   "outputs": [
    {
     "name": "stdout",
     "output_type": "stream",
     "text": [
      "Mounted at /content/drive\n"
     ]
    }
   ],
   "source": [
    "from google.colab import drive\n",
    "drive.mount('/content/drive')"
   ]
  },
  {
   "cell_type": "code",
   "execution_count": 135,
   "metadata": {
    "colab": {
     "base_uri": "https://localhost:8080/"
    },
    "id": "u0pq9qFCf6na",
    "outputId": "b4b1c1c6-b63e-4d44-8329-516f84fe1a34"
   },
   "outputs": [
    {
     "name": "stdout",
     "output_type": "stream",
     "text": [
      "Collecting pyldavis\n",
      "\u001b[?25l  Downloading https://files.pythonhosted.org/packages/a5/3a/af82e070a8a96e13217c8f362f9a73e82d61ac8fff3a2561946a97f96266/pyLDAvis-2.1.2.tar.gz (1.6MB)\n",
      "\u001b[K     |████████████████████████████████| 1.6MB 2.6MB/s \n",
      "\u001b[?25hRequirement already satisfied: wheel>=0.23.0 in /usr/local/lib/python3.6/dist-packages (from pyldavis) (0.35.1)\n",
      "Requirement already satisfied: numpy>=1.9.2 in /usr/local/lib/python3.6/dist-packages (from pyldavis) (1.18.5)\n",
      "Requirement already satisfied: scipy>=0.18.0 in /usr/local/lib/python3.6/dist-packages (from pyldavis) (1.4.1)\n",
      "Requirement already satisfied: pandas>=0.17.0 in /usr/local/lib/python3.6/dist-packages (from pyldavis) (1.1.3)\n",
      "Requirement already satisfied: joblib>=0.8.4 in /usr/local/lib/python3.6/dist-packages (from pyldavis) (0.17.0)\n",
      "Requirement already satisfied: jinja2>=2.7.2 in /usr/local/lib/python3.6/dist-packages (from pyldavis) (2.11.2)\n",
      "Requirement already satisfied: numexpr in /usr/local/lib/python3.6/dist-packages (from pyldavis) (2.7.1)\n",
      "Requirement already satisfied: pytest in /usr/local/lib/python3.6/dist-packages (from pyldavis) (3.6.4)\n",
      "Requirement already satisfied: future in /usr/local/lib/python3.6/dist-packages (from pyldavis) (0.16.0)\n",
      "Collecting funcy\n",
      "  Downloading https://files.pythonhosted.org/packages/66/89/479de0afbbfb98d1c4b887936808764627300208bb771fcd823403645a36/funcy-1.15-py2.py3-none-any.whl\n",
      "Requirement already satisfied: python-dateutil>=2.7.3 in /usr/local/lib/python3.6/dist-packages (from pandas>=0.17.0->pyldavis) (2.8.1)\n",
      "Requirement already satisfied: pytz>=2017.2 in /usr/local/lib/python3.6/dist-packages (from pandas>=0.17.0->pyldavis) (2018.9)\n",
      "Requirement already satisfied: MarkupSafe>=0.23 in /usr/local/lib/python3.6/dist-packages (from jinja2>=2.7.2->pyldavis) (1.1.1)\n",
      "Requirement already satisfied: py>=1.5.0 in /usr/local/lib/python3.6/dist-packages (from pytest->pyldavis) (1.9.0)\n",
      "Requirement already satisfied: attrs>=17.4.0 in /usr/local/lib/python3.6/dist-packages (from pytest->pyldavis) (20.2.0)\n",
      "Requirement already satisfied: atomicwrites>=1.0 in /usr/local/lib/python3.6/dist-packages (from pytest->pyldavis) (1.4.0)\n",
      "Requirement already satisfied: pluggy<0.8,>=0.5 in /usr/local/lib/python3.6/dist-packages (from pytest->pyldavis) (0.7.1)\n",
      "Requirement already satisfied: setuptools in /usr/local/lib/python3.6/dist-packages (from pytest->pyldavis) (50.3.2)\n",
      "Requirement already satisfied: six>=1.10.0 in /usr/local/lib/python3.6/dist-packages (from pytest->pyldavis) (1.15.0)\n",
      "Requirement already satisfied: more-itertools>=4.0.0 in /usr/local/lib/python3.6/dist-packages (from pytest->pyldavis) (8.5.0)\n",
      "Building wheels for collected packages: pyldavis\n",
      "  Building wheel for pyldavis (setup.py) ... \u001b[?25l\u001b[?25hdone\n",
      "  Created wheel for pyldavis: filename=pyLDAvis-2.1.2-py2.py3-none-any.whl size=97712 sha256=6218842ec7483df6ffb42d4c053aab6ccb0a24528c609d1e3690bd7ec94db7a7\n",
      "  Stored in directory: /root/.cache/pip/wheels/98/71/24/513a99e58bb6b8465bae4d2d5e9dba8f0bef8179e3051ac414\n",
      "Successfully built pyldavis\n",
      "Installing collected packages: funcy, pyldavis\n",
      "Successfully installed funcy-1.15 pyldavis-2.1.2\n"
     ]
    }
   ],
   "source": [
    "#!pip install pyldavis\n",
    "#!pip install spacy\n",
    "#!pip install gensim\n",
    "\n",
    "#loading and installing neccessary library and packages"
   ]
  },
  {
   "cell_type": "code",
   "execution_count": 287,
   "metadata": {
    "id": "tNkTT5O7E8C_"
   },
   "outputs": [],
   "source": [
    "import pandas as pd\n",
    "import numpy as np\n",
    "from textblob import TextBlob \n",
    "\n",
    "import nltk\n",
    "import string\n",
    "import warnings\n",
    "warnings.filterwarnings('ignore')\n",
    "from nltk import tokenize,WordNetLemmatizer, PorterStemmer\n",
    "from nltk.corpus import wordnet\n",
    "\n",
    "from string import punctuation\n",
    "import seaborn as sns\n",
    "import matplotlib.pyplot as plt\n",
    "%matplotlib inline\n",
    "\n",
    "from sklearn.feature_extraction.text import TfidfVectorizer,CountVectorizer\n",
    "from nltk.corpus import stopwords\n",
    "import re, nltk, spacy, gensim\n",
    "from sklearn.decomposition import LatentDirichletAllocation, TruncatedSVD\n",
    "from pprint import pprint\n",
    "from sklearn.model_selection import GridSearchCV\n",
    "import nltk\n",
    "\n",
    "# Plotting tools\n",
    "import pyLDAvis\n",
    "import pyLDAvis.sklearn\n",
    "import matplotlib.pyplot as plt\n",
    "from gensim.models import CoherenceModel"
   ]
  },
  {
   "cell_type": "code",
   "execution_count": 288,
   "metadata": {
    "id": "HVqJHEloFfSk"
   },
   "outputs": [],
   "source": [
    "#pip install --user -U nltk\n",
    "#nltk.download('stopwords')\n",
    "#nltk.download('punkt')\n",
    "#nltk.download('wordnet')\n",
    "#nltk.download('averaged_perceptron_tagger')\n",
    "\n",
    "#Data Preprocessing\n",
    "#With stopword and punctuation removal"
   ]
  },
  {
   "cell_type": "code",
   "execution_count": 289,
   "metadata": {
    "colab": {
     "base_uri": "https://localhost:8080/"
    },
    "id": "joE3V2uuFCKA",
    "outputId": "f0fd6390-c20d-4ef8-bb6e-f1b4510a9666"
   },
   "outputs": [
    {
     "name": "stdout",
     "output_type": "stream",
     "text": [
      "['i', 'me', 'my', 'myself', 'we', 'our', 'ours', 'ourselves', 'you', \"you're\", \"you've\"]\n",
      "\n",
      "length of stopwords list:  179\n"
     ]
    },
    {
     "data": {
      "text/plain": [
       "list"
      ]
     },
     "execution_count": 289,
     "metadata": {
      "tags": []
     },
     "output_type": "execute_result"
    }
   ],
   "source": [
    "stopwords1 = list(stopwords.words('english'))\n",
    "print(stopwords1[0:11])\n",
    "print('\\nlength of stopwords list: ', len(stopwords1))\n",
    "type(stopwords1)"
   ]
  },
  {
   "cell_type": "code",
   "execution_count": 290,
   "metadata": {
    "colab": {
     "base_uri": "https://localhost:8080/",
     "height": 37
    },
    "id": "mY1Q81-KFEWk",
    "outputId": "332be94f-4096-40b7-b427-bf13fe8f4a95"
   },
   "outputs": [
    {
     "data": {
      "application/vnd.google.colaboratory.intrinsic+json": {
       "type": "string"
      },
      "text/plain": [
       "'!\"#$%&\\'()*+,-./:;<=>?@[\\\\]^_`{|}~'"
      ]
     },
     "execution_count": 290,
     "metadata": {
      "tags": []
     },
     "output_type": "execute_result"
    }
   ],
   "source": [
    "punctuation"
   ]
  },
  {
   "cell_type": "code",
   "execution_count": 291,
   "metadata": {
    "id": "t4Op64q2F2zt"
   },
   "outputs": [],
   "source": [
    "stopwords1 = list(stopwords.words('english'))+list(punctuation)"
   ]
  },
  {
   "cell_type": "code",
   "execution_count": 292,
   "metadata": {
    "colab": {
     "base_uri": "https://localhost:8080/"
    },
    "id": "1fIi--cBF5Gt",
    "outputId": "25eae8a2-bc0d-4b3c-d529-bbbed2b52d03"
   },
   "outputs": [
    {
     "name": "stdout",
     "output_type": "stream",
     "text": [
      "211\n",
      "\n",
      "['i', 'me', 'my', 'myself', 'we', 'our', 'ours', 'ourselves', 'you', \"you're\", \"you've\", \"you'll\", \"you'd\", 'your', 'yours', 'yourself', 'yourselves', 'he', 'him', 'his', 'himself', 'she', \"she's\", 'her', 'hers', 'herself', 'it', \"it's\", 'its', 'itself', 'they', 'them', 'their', 'theirs', 'themselves', 'what', 'which', 'who', 'whom', 'this', 'that', \"that'll\", 'these', 'those', 'am', 'is', 'are', 'was', 'were', 'be', 'been', 'being', 'have', 'has', 'had', 'having', 'do', 'does', 'did', 'doing', 'a', 'an', 'the', 'and', 'but', 'if', 'or', 'because', 'as', 'until', 'while', 'of', 'at', 'by', 'for', 'with', 'about', 'against', 'between', 'into', 'through', 'during', 'before', 'after', 'above', 'below', 'to', 'from', 'up', 'down', 'in', 'out', 'on', 'off', 'over', 'under', 'again', 'further', 'then', 'once', 'here', 'there', 'when', 'where', 'why', 'how', 'all', 'any', 'both', 'each', 'few', 'more', 'most', 'other', 'some', 'such', 'no', 'nor', 'not', 'only', 'own', 'same', 'so', 'than', 'too', 'very', 's', 't', 'can', 'will', 'just', 'don', \"don't\", 'should', \"should've\", 'now', 'd', 'll', 'm', 'o', 're', 've', 'y', 'ain', 'aren', \"aren't\", 'couldn', \"couldn't\", 'didn', \"didn't\", 'doesn', \"doesn't\", 'hadn', \"hadn't\", 'hasn', \"hasn't\", 'haven', \"haven't\", 'isn', \"isn't\", 'ma', 'mightn', \"mightn't\", 'mustn', \"mustn't\", 'needn', \"needn't\", 'shan', \"shan't\", 'shouldn', \"shouldn't\", 'wasn', \"wasn't\", 'weren', \"weren't\", 'won', \"won't\", 'wouldn', \"wouldn't\", '!', '\"', '#', '$', '%', '&', \"'\", '(', ')', '*', '+', ',', '-', '.', '/', ':', ';', '<', '=', '>', '?', '@', '[', '\\\\', ']', '^', '_', '`', '{', '|', '}', '~']\n"
     ]
    }
   ],
   "source": [
    "print(len(stopwords1),stopwords1,sep='\\n\\n')"
   ]
  },
  {
   "cell_type": "code",
   "execution_count": 293,
   "metadata": {
    "colab": {
     "base_uri": "https://localhost:8080/",
     "height": 204
    },
    "id": "WdkA-pRKF7MP",
    "outputId": "1e31e8d2-2540-4b0e-928b-6c05ad181cdf"
   },
   "outputs": [
    {
     "data": {
      "text/html": [
       "<div>\n",
       "<style scoped>\n",
       "    .dataframe tbody tr th:only-of-type {\n",
       "        vertical-align: middle;\n",
       "    }\n",
       "\n",
       "    .dataframe tbody tr th {\n",
       "        vertical-align: top;\n",
       "    }\n",
       "\n",
       "    .dataframe thead th {\n",
       "        text-align: right;\n",
       "    }\n",
       "</style>\n",
       "<table border=\"1\" class=\"dataframe\">\n",
       "  <thead>\n",
       "    <tr style=\"text-align: right;\">\n",
       "      <th></th>\n",
       "      <th>sentiment</th>\n",
       "      <th>review</th>\n",
       "    </tr>\n",
       "  </thead>\n",
       "  <tbody>\n",
       "    <tr>\n",
       "      <th>0</th>\n",
       "      <td>1</td>\n",
       "      <td>Good but need updates and improvements</td>\n",
       "    </tr>\n",
       "    <tr>\n",
       "      <th>1</th>\n",
       "      <td>0</td>\n",
       "      <td>Worst mobile i have bought ever, Battery is dr...</td>\n",
       "    </tr>\n",
       "    <tr>\n",
       "      <th>2</th>\n",
       "      <td>1</td>\n",
       "      <td>when I will get my 10% cash back.... its alrea...</td>\n",
       "    </tr>\n",
       "    <tr>\n",
       "      <th>3</th>\n",
       "      <td>1</td>\n",
       "      <td>Good</td>\n",
       "    </tr>\n",
       "    <tr>\n",
       "      <th>4</th>\n",
       "      <td>0</td>\n",
       "      <td>The worst phone everThey have changed the last...</td>\n",
       "    </tr>\n",
       "  </tbody>\n",
       "</table>\n",
       "</div>"
      ],
      "text/plain": [
       "   sentiment                                             review\n",
       "0          1             Good but need updates and improvements\n",
       "1          0  Worst mobile i have bought ever, Battery is dr...\n",
       "2          1  when I will get my 10% cash back.... its alrea...\n",
       "3          1                                               Good\n",
       "4          0  The worst phone everThey have changed the last..."
      ]
     },
     "execution_count": 293,
     "metadata": {
      "tags": []
     },
     "output_type": "execute_result"
    }
   ],
   "source": [
    "#Read the .csv file using Pandas. Take a look at the top few records.\n",
    "reviews = pd.read_csv('/content/drive/My Drive/K8 Reviews v0.2.csv')\n",
    "reviews = reviews[:8000]\n",
    "reviews.head()"
   ]
  },
  {
   "cell_type": "code",
   "execution_count": 298,
   "metadata": {
    "colab": {
     "base_uri": "https://localhost:8080/"
    },
    "id": "YSz49ca0GAF1",
    "outputId": "b223bfb9-f21e-4ac5-a040-43803433543c"
   },
   "outputs": [
    {
     "name": "stdout",
     "output_type": "stream",
     "text": [
      "sentiment    0\n",
      "review       0\n",
      "dtype: int64\n",
      "\n",
      "(8000, 2)\n"
     ]
    }
   ],
   "source": [
    "#checking for null values although it is not neccessary to do\n",
    "print(reviews.isnull().sum(),reviews.shape,sep='\\n\\n')"
   ]
  },
  {
   "cell_type": "code",
   "execution_count": 299,
   "metadata": {
    "id": "tqSqyWizGCXF"
   },
   "outputs": [],
   "source": [
    "reviews.dropna(inplace = True)"
   ]
  },
  {
   "cell_type": "code",
   "execution_count": 300,
   "metadata": {
    "colab": {
     "base_uri": "https://localhost:8080/"
    },
    "id": "tSnUvDe2GEGn",
    "outputId": "d624bb4d-4fc7-4cfe-9fd4-79f2eb400f6b"
   },
   "outputs": [
    {
     "data": {
      "text/plain": [
       "(8000, 2)"
      ]
     },
     "execution_count": 300,
     "metadata": {
      "tags": []
     },
     "output_type": "execute_result"
    }
   ],
   "source": [
    "#checking the shape of the data\n",
    "reviews.shape"
   ]
  },
  {
   "cell_type": "code",
   "execution_count": 301,
   "metadata": {
    "colab": {
     "base_uri": "https://localhost:8080/"
    },
    "id": "ghwJauazGFpM",
    "outputId": "a6575d75-18de-4932-f28e-a96fca1e8190"
   },
   "outputs": [
    {
     "data": {
      "text/plain": [
       "0    4209\n",
       "1    3791\n",
       "Name: sentiment, dtype: int64"
      ]
     },
     "execution_count": 301,
     "metadata": {
      "tags": []
     },
     "output_type": "execute_result"
    }
   ],
   "source": [
    "reviews.sentiment.value_counts()"
   ]
  },
  {
   "cell_type": "code",
   "execution_count": 302,
   "metadata": {
    "id": "coJz-ua3GHHV"
   },
   "outputs": [],
   "source": [
    "#stemming and lemmatization\n",
    "#here we have build a custom function that will first get the noun pos tag and then\n",
    "#do the lemmatization\n",
    "\n",
    "ps=PorterStemmer()\n",
    "\n",
    "lemmatizer = WordNetLemmatizer()"
   ]
  },
  {
   "cell_type": "code",
   "execution_count": 303,
   "metadata": {
    "id": "xZ_-SpvAGJJ-"
   },
   "outputs": [],
   "source": [
    "# function to convert nltk tag to wordnet tag\n",
    "def nltk_tag_to_wordnet_tag(nltk_tag):\n",
    "    \n",
    "    if nltk_tag.startswith('N'):\n",
    "        return wordnet.NOUN\n",
    "    else:          \n",
    "        return None\n",
    "\n",
    "def lemmatize_sentence(sentence):    \n",
    "    #tokenize the sentence and find the POS tag for each token\n",
    "    nltk_tagged = nltk.pos_tag(nltk.word_tokenize(sentence))  \n",
    "#     print(list(nltk_tagged))\n",
    "    \n",
    "    #tuple of (token, wordnet_tag)\n",
    "    wordnet_tagged = map(lambda x: (x[0], nltk_tag_to_wordnet_tag(x[1])), nltk_tagged)\n",
    "\n",
    "    \n",
    "    lemmatized_sentence = []   \n",
    "    \n",
    "    for word, tag in wordnet_tagged:\n",
    "        if tag is None:\n",
    "            #if there is no available tag, append the token as is\n",
    "            lemmatized_sentence.append(word)\n",
    "#             print('IN CASE OF NONE: ', lemmatized_sentence)\n",
    "        \n",
    "        else:        \n",
    "            #else use the tag to lemmatize the token\n",
    "            lemmatized_sentence.append(lemmatizer.lemmatize(word, tag))\n",
    "#             print('IN CASE OF ELSE : ',lemmatized_sentence)\n",
    "\n",
    "    \n",
    "    return \" \".join(lemmatized_sentence)\n",
    "\n",
    "# print(lemmatize_sentence(\" i have been working on my skills \")) #I be love it\n",
    "\n",
    "\n",
    "\n"
   ]
  },
  {
   "cell_type": "code",
   "execution_count": 304,
   "metadata": {
    "id": "DMUK6gViGLJi"
   },
   "outputs": [],
   "source": [
    "# Removing Stopwords and punctuatons\n",
    "def clean_text(a):\n",
    "    ls = [i.lower() for i in tokenize.word_tokenize(a) if i not in stopwords1]\n",
    "    if len(ls)>3:\n",
    "        val= ' '.join(ls)\n",
    "        return val\n",
    "    else :\n",
    "        return None\n",
    "    \n",
    "    \n",
    "# Lemmatization without POS Tags\n",
    "def clean_text_lemma(a):\n",
    "    val= ' '.join([lemmatizer.lemmatize(i.lower()) for i in tokenize.word_tokenize(a) if i not in stopwords1])\n",
    "    return val\n",
    "\n",
    "\n",
    "# Stemming\n",
    "def clean_text_stem(a):    \n",
    "    val= ' '.join([ps.stem(i.lower()) for i in tokenize.word_tokenize(a) if i not in stopwords1])\n",
    "    return val"
   ]
  },
  {
   "cell_type": "code",
   "execution_count": 305,
   "metadata": {
    "colab": {
     "base_uri": "https://localhost:8080/"
    },
    "id": "poHA9a34GNWy",
    "outputId": "506d7dd1-e21a-47a9-80fc-8a268011e3b7"
   },
   "outputs": [
    {
     "data": {
      "text/plain": [
       "5827"
      ]
     },
     "execution_count": 305,
     "metadata": {
      "tags": []
     },
     "output_type": "execute_result"
    }
   ],
   "source": [
    "reviews['clean_txt'] = reviews['review'].apply(clean_text)\n",
    "reviews.dropna(inplace = True)\n",
    "len(reviews)"
   ]
  },
  {
   "cell_type": "code",
   "execution_count": 306,
   "metadata": {
    "colab": {
     "base_uri": "https://localhost:8080/",
     "height": 204
    },
    "id": "ywuw9GIVGPa_",
    "outputId": "58619ce3-dc8c-406b-96ec-a103bca30728"
   },
   "outputs": [
    {
     "data": {
      "text/html": [
       "<div>\n",
       "<style scoped>\n",
       "    .dataframe tbody tr th:only-of-type {\n",
       "        vertical-align: middle;\n",
       "    }\n",
       "\n",
       "    .dataframe tbody tr th {\n",
       "        vertical-align: top;\n",
       "    }\n",
       "\n",
       "    .dataframe thead th {\n",
       "        text-align: right;\n",
       "    }\n",
       "</style>\n",
       "<table border=\"1\" class=\"dataframe\">\n",
       "  <thead>\n",
       "    <tr style=\"text-align: right;\">\n",
       "      <th></th>\n",
       "      <th>sentiment</th>\n",
       "      <th>review</th>\n",
       "      <th>clean_txt</th>\n",
       "    </tr>\n",
       "  </thead>\n",
       "  <tbody>\n",
       "    <tr>\n",
       "      <th>0</th>\n",
       "      <td>1</td>\n",
       "      <td>Good but need updates and improvements</td>\n",
       "      <td>good need updates improvements</td>\n",
       "    </tr>\n",
       "    <tr>\n",
       "      <th>1</th>\n",
       "      <td>0</td>\n",
       "      <td>Worst mobile i have bought ever, Battery is dr...</td>\n",
       "      <td>worst mobile bought ever battery draining like...</td>\n",
       "    </tr>\n",
       "    <tr>\n",
       "      <th>2</th>\n",
       "      <td>1</td>\n",
       "      <td>when I will get my 10% cash back.... its alrea...</td>\n",
       "      <td>i get 10 cash back ... already 15 january..</td>\n",
       "    </tr>\n",
       "    <tr>\n",
       "      <th>4</th>\n",
       "      <td>0</td>\n",
       "      <td>The worst phone everThey have changed the last...</td>\n",
       "      <td>the worst phone everthey changed last phone pr...</td>\n",
       "    </tr>\n",
       "    <tr>\n",
       "      <th>5</th>\n",
       "      <td>0</td>\n",
       "      <td>Only I'm telling don't buyI'm totally disappoi...</td>\n",
       "      <td>only i 'm telling n't buyi 'm totally disappoi...</td>\n",
       "    </tr>\n",
       "  </tbody>\n",
       "</table>\n",
       "</div>"
      ],
      "text/plain": [
       "   sentiment  ...                                          clean_txt\n",
       "0          1  ...                     good need updates improvements\n",
       "1          0  ...  worst mobile bought ever battery draining like...\n",
       "2          1  ...        i get 10 cash back ... already 15 january..\n",
       "4          0  ...  the worst phone everthey changed last phone pr...\n",
       "5          0  ...  only i 'm telling n't buyi 'm totally disappoi...\n",
       "\n",
       "[5 rows x 3 columns]"
      ]
     },
     "execution_count": 306,
     "metadata": {
      "tags": []
     },
     "output_type": "execute_result"
    }
   ],
   "source": [
    "reviews.head()"
   ]
  },
  {
   "cell_type": "code",
   "execution_count": 307,
   "metadata": {
    "id": "NMEdDOHbGYMY"
   },
   "outputs": [],
   "source": [
    "reviews['clean_lemma'] = reviews['clean_txt'].apply(clean_text_lemma)\n",
    "reviews['clean_lemma_pos'] = reviews['clean_txt'].apply(lemmatize_sentence)\n",
    "reviews['clean_stem_txt'] = reviews['clean_txt'].apply(clean_text_stem)"
   ]
  },
  {
   "cell_type": "code",
   "execution_count": 308,
   "metadata": {
    "colab": {
     "base_uri": "https://localhost:8080/",
     "height": 289
    },
    "id": "IkOxCq6qGaCO",
    "outputId": "22f37f8f-abcb-479f-97be-95f0acb89b83"
   },
   "outputs": [
    {
     "data": {
      "text/html": [
       "<div>\n",
       "<style scoped>\n",
       "    .dataframe tbody tr th:only-of-type {\n",
       "        vertical-align: middle;\n",
       "    }\n",
       "\n",
       "    .dataframe tbody tr th {\n",
       "        vertical-align: top;\n",
       "    }\n",
       "\n",
       "    .dataframe thead th {\n",
       "        text-align: right;\n",
       "    }\n",
       "</style>\n",
       "<table border=\"1\" class=\"dataframe\">\n",
       "  <thead>\n",
       "    <tr style=\"text-align: right;\">\n",
       "      <th></th>\n",
       "      <th>sentiment</th>\n",
       "      <th>review</th>\n",
       "      <th>clean_txt</th>\n",
       "      <th>clean_lemma</th>\n",
       "      <th>clean_lemma_pos</th>\n",
       "      <th>clean_stem_txt</th>\n",
       "    </tr>\n",
       "  </thead>\n",
       "  <tbody>\n",
       "    <tr>\n",
       "      <th>0</th>\n",
       "      <td>1</td>\n",
       "      <td>Good but need updates and improvements</td>\n",
       "      <td>good need updates improvements</td>\n",
       "      <td>good need update improvement</td>\n",
       "      <td>good need update improvement</td>\n",
       "      <td>good need updat improv</td>\n",
       "    </tr>\n",
       "    <tr>\n",
       "      <th>1</th>\n",
       "      <td>0</td>\n",
       "      <td>Worst mobile i have bought ever, Battery is dr...</td>\n",
       "      <td>worst mobile bought ever battery draining like...</td>\n",
       "      <td>worst mobile bought ever battery draining like...</td>\n",
       "      <td>worst mobile bought ever battery draining like...</td>\n",
       "      <td>worst mobil bought ever batteri drain like hel...</td>\n",
       "    </tr>\n",
       "    <tr>\n",
       "      <th>2</th>\n",
       "      <td>1</td>\n",
       "      <td>when I will get my 10% cash back.... its alrea...</td>\n",
       "      <td>i get 10 cash back ... already 15 january..</td>\n",
       "      <td>get 10 cash back ... already 15 january..</td>\n",
       "      <td>i get 10 cash back ... already 15 january..</td>\n",
       "      <td>get 10 cash back ... alreadi 15 january..</td>\n",
       "    </tr>\n",
       "    <tr>\n",
       "      <th>4</th>\n",
       "      <td>0</td>\n",
       "      <td>The worst phone everThey have changed the last...</td>\n",
       "      <td>the worst phone everthey changed last phone pr...</td>\n",
       "      <td>worst phone everthey changed last phone proble...</td>\n",
       "      <td>the worst phone everthey changed last phone pr...</td>\n",
       "      <td>worst phone everthey chang last phone problem ...</td>\n",
       "    </tr>\n",
       "    <tr>\n",
       "      <th>5</th>\n",
       "      <td>0</td>\n",
       "      <td>Only I'm telling don't buyI'm totally disappoi...</td>\n",
       "      <td>only i 'm telling n't buyi 'm totally disappoi...</td>\n",
       "      <td>'m telling n't buyi 'm totally disappointedpoo...</td>\n",
       "      <td>only i 'm telling n't buyi 'm totally disappoi...</td>\n",
       "      <td>'m tell n't buyi 'm total disappointedpoor bat...</td>\n",
       "    </tr>\n",
       "  </tbody>\n",
       "</table>\n",
       "</div>"
      ],
      "text/plain": [
       "   sentiment  ...                                     clean_stem_txt\n",
       "0          1  ...                             good need updat improv\n",
       "1          0  ...  worst mobil bought ever batteri drain like hel...\n",
       "2          1  ...          get 10 cash back ... alreadi 15 january..\n",
       "4          0  ...  worst phone everthey chang last phone problem ...\n",
       "5          0  ...  'm tell n't buyi 'm total disappointedpoor bat...\n",
       "\n",
       "[5 rows x 6 columns]"
      ]
     },
     "execution_count": 308,
     "metadata": {
      "tags": []
     },
     "output_type": "execute_result"
    }
   ],
   "source": [
    "reviews.head()"
   ]
  },
  {
   "cell_type": "code",
   "execution_count": 309,
   "metadata": {
    "id": "8QLwIw6fGxcc"
   },
   "outputs": [],
   "source": [
    "#converting into list for better computation\n",
    "data = reviews.clean_lemma_pos.values.tolist()"
   ]
  },
  {
   "cell_type": "code",
   "execution_count": 354,
   "metadata": {
    "id": "knp560HaGzku"
   },
   "outputs": [],
   "source": [
    "#checking the distribution of the frequent words\n",
    "import matplotlib.pyplot as plt\n",
    "from nltk import FreqDist\n",
    "# function to plot most frequent terms\n",
    "def freq_words(x, terms = 30):\n",
    "  all_words = ' '.join([text for text in x])\n",
    "  all_words = all_words.split()\n",
    "\n",
    "  fdist = FreqDist(all_words)\n",
    "  words_df = pd.DataFrame({'word':list(fdist.keys()), 'count':list(fdist.values())})\n",
    "\n",
    "  # selecting top 20 most frequent words\n",
    "  d = words_df.nlargest(columns=\"count\", n = terms) \n",
    "  plt.figure(figsize=(25,5))\n",
    "  ax = sns.barplot(data=d, x= \"word\", y = \"count\")\n",
    "  ax.set(ylabel = 'Count')\n",
    "  plt.show()"
   ]
  },
  {
   "cell_type": "code",
   "execution_count": 355,
   "metadata": {
    "colab": {
     "base_uri": "https://localhost:8080/",
     "height": 278
    },
    "id": "oFoKhFLPzZwr",
    "outputId": "d1382ee4-d9f9-4b89-c01c-a379ab18328e"
   },
   "outputs": [
    {
     "data": {
      "image/png": "[encoded data removed]",
      "text/plain": [
       "<Figure size 1800x360 with 1 Axes>"
      ]
     },
     "metadata": {
      "needs_background": "light",
      "tags": []
     },
     "output_type": "display_data"
    }
   ],
   "source": [
    "freq_words(reviews['clean_lemma_pos'])"
   ]
  },
  {
   "cell_type": "code",
   "execution_count": 310,
   "metadata": {
    "id": "UEnUfR5VG1He"
   },
   "outputs": [],
   "source": [
    "#count vectorizer\n",
    "#It is used to transform a given text into a vector on the basis of the frequency (count) of each word that occurs in the entire text. \n",
    "#This is helpful when we have multiple such texts, and we wish to convert each word in each text into vectors (for using in further text analysis)\n",
    "                                                                                                              \n",
    "vectorizer = CountVectorizer(analyzer='word',       \n",
    "                             min_df=10,                        # minimum reqd occurences of a word \n",
    "                             stop_words='english',             # remove stop words\n",
    "                             lowercase=True,                   # convert all words to lowercase\n",
    "                             token_pattern='[a-zA-Z0-9]{3,}',  # num chars > 3\n",
    "                             # max_features=50000,             # max number of uniq words\n",
    "                            )"
   ]
  },
  {
   "cell_type": "code",
   "execution_count": 356,
   "metadata": {
    "colab": {
     "base_uri": "https://localhost:8080/"
    },
    "id": "CWCC8EsGG6s-",
    "outputId": "4c4c6b7d-1f3f-41db-988f-903b1d56455a"
   },
   "outputs": [
    {
     "data": {
      "text/plain": [
       "scipy.sparse.csr.csr_matrix"
      ]
     },
     "execution_count": 356,
     "metadata": {
      "tags": []
     },
     "output_type": "execute_result"
    }
   ],
   "source": [
    "data_vectorized = vectorizer.fit_transform(data)\n",
    "type(data_vectorized)"
   ]
  },
  {
   "cell_type": "code",
   "execution_count": 312,
   "metadata": {
    "id": "ysx6uk24G809"
   },
   "outputs": [],
   "source": [
    "# Materialize the sparse data\n",
    "data_dense = data_vectorized.todense()"
   ]
  },
  {
   "cell_type": "code",
   "execution_count": 313,
   "metadata": {
    "colab": {
     "base_uri": "https://localhost:8080/"
    },
    "id": "i5RUrO5zG-Wx",
    "outputId": "b0896743-b768-4295-dbe4-bb1321c3a41e"
   },
   "outputs": [
    {
     "name": "stdout",
     "output_type": "stream",
     "text": [
      "Sparsicity:  1.0751104804729859 %\n"
     ]
    }
   ],
   "source": [
    "# Compute Sparsicity = Percentage of Non-Zero cells\n",
    "print(\"Sparsicity: \", ((data_dense > 0).sum()/data_dense.size)*100, \"%\")"
   ]
  },
  {
   "cell_type": "code",
   "execution_count": null,
   "metadata": {
    "id": "CFLyB_fC0XdF"
   },
   "outputs": [],
   "source": [
    "#LDA’s approach to topic modeling is to classify text in a document to a particular topic. Modeled as Dirichlet distributions, LDA builds −\n",
    "\n",
    "#A topic per document model and\n",
    "#Words per topic model"
   ]
  },
  {
   "cell_type": "code",
   "execution_count": 314,
   "metadata": {
    "id": "mylgnI2YHABI"
   },
   "outputs": [],
   "source": [
    "# Build LDA Model\n",
    "lda_model = LatentDirichletAllocation(n_components=12,           # Number of topics\n",
    "                                      max_iter=10,               # Max learning iterations\n",
    "                                      learning_method='online',   \n",
    "                                      random_state=100,          # Random state\n",
    "                                      batch_size=128,            # n docs in each learning iter\n",
    "                                      evaluate_every = -1,       # compute perplexity every n iters, default: Don't\n",
    "                                      n_jobs = -1,               # Use all available CPUs\n",
    "                                     )"
   ]
  },
  {
   "cell_type": "code",
   "execution_count": 315,
   "metadata": {
    "colab": {
     "base_uri": "https://localhost:8080/"
    },
    "id": "AaZI_AGYHCVm",
    "outputId": "b03c1e43-ab85-4826-ab05-22265f6103c0"
   },
   "outputs": [
    {
     "name": "stdout",
     "output_type": "stream",
     "text": [
      "LatentDirichletAllocation(batch_size=128, doc_topic_prior=None,\n",
      "                          evaluate_every=-1, learning_decay=0.7,\n",
      "                          learning_method='online', learning_offset=10.0,\n",
      "                          max_doc_update_iter=100, max_iter=10,\n",
      "                          mean_change_tol=0.001, n_components=12, n_jobs=-1,\n",
      "                          perp_tol=0.1, random_state=100, topic_word_prior=None,\n",
      "                          total_samples=1000000.0, verbose=0)\n"
     ]
    }
   ],
   "source": [
    "lda_output = lda_model.fit_transform(data_vectorized)\n",
    "\n",
    "print(lda_model)  # Model attributes"
   ]
  },
  {
   "cell_type": "code",
   "execution_count": 316,
   "metadata": {
    "colab": {
     "base_uri": "https://localhost:8080/"
    },
    "id": "2JHU-1BwHERP",
    "outputId": "1db41a05-8d73-47f9-b988-da714b096508"
   },
   "outputs": [
    {
     "name": "stdout",
     "output_type": "stream",
     "text": [
      "Log Likelihood:  -414579.66305578593\n",
      "Perplexity:  413.92799356552376\n",
      "{'batch_size': 128,\n",
      " 'doc_topic_prior': None,\n",
      " 'evaluate_every': -1,\n",
      " 'learning_decay': 0.7,\n",
      " 'learning_method': 'online',\n",
      " 'learning_offset': 10.0,\n",
      " 'max_doc_update_iter': 100,\n",
      " 'max_iter': 10,\n",
      " 'mean_change_tol': 0.001,\n",
      " 'n_components': 12,\n",
      " 'n_jobs': -1,\n",
      " 'perp_tol': 0.1,\n",
      " 'random_state': 100,\n",
      " 'topic_word_prior': None,\n",
      " 'total_samples': 1000000.0,\n",
      " 'verbose': 0}\n"
     ]
    }
   ],
   "source": [
    "# Log Likelyhood: Higher the better\n",
    "print(\"Log Likelihood: \", lda_model.score(data_vectorized))\n",
    "\n",
    "# Perplexity: Lower the better. Perplexity = exp(-1. * log-likelihood per word)\n",
    "print(\"Perplexity: \", lda_model.perplexity(data_vectorized))\n",
    "\n",
    "# See model parameters\n",
    "pprint(lda_model.get_params())"
   ]
  },
  {
   "cell_type": "code",
   "execution_count": 317,
   "metadata": {
    "id": "e4f4LM5rH8hu"
   },
   "outputs": [],
   "source": [
    "# Define Search Param\n",
    "search_params = {'n_components': [10, 15, 20, 25, 30], 'learning_decay': [.5, .7, .9]}"
   ]
  },
  {
   "cell_type": "code",
   "execution_count": 318,
   "metadata": {
    "id": "vWy228stIAqO"
   },
   "outputs": [],
   "source": [
    "# Init the Model\n",
    "lda = LatentDirichletAllocation()"
   ]
  },
  {
   "cell_type": "code",
   "execution_count": 319,
   "metadata": {
    "id": "Wy4XRmHzICK8"
   },
   "outputs": [],
   "source": [
    "# Init Grid Search Class\n",
    "model = GridSearchCV(lda, param_grid=search_params)"
   ]
  },
  {
   "cell_type": "code",
   "execution_count": 320,
   "metadata": {
    "colab": {
     "base_uri": "https://localhost:8080/"
    },
    "id": "Thrm_JZKIDtL",
    "outputId": "ed0ed678-2bbd-40d5-ddf0-88f9d205d01c"
   },
   "outputs": [
    {
     "data": {
      "text/plain": [
       "GridSearchCV(cv=None, error_score=nan,\n",
       "             estimator=LatentDirichletAllocation(batch_size=128,\n",
       "                                                 doc_topic_prior=None,\n",
       "                                                 evaluate_every=-1,\n",
       "                                                 learning_decay=0.7,\n",
       "                                                 learning_method='batch',\n",
       "                                                 learning_offset=10.0,\n",
       "                                                 max_doc_update_iter=100,\n",
       "                                                 max_iter=10,\n",
       "                                                 mean_change_tol=0.001,\n",
       "                                                 n_components=10, n_jobs=None,\n",
       "                                                 perp_tol=0.1,\n",
       "                                                 random_state=None,\n",
       "                                                 topic_word_prior=None,\n",
       "                                                 total_samples=1000000.0,\n",
       "                                                 verbose=0),\n",
       "             iid='deprecated', n_jobs=None,\n",
       "             param_grid={'learning_decay': [0.5, 0.7, 0.9],\n",
       "                         'n_components': [10, 15, 20, 25, 30]},\n",
       "             pre_dispatch='2*n_jobs', refit=True, return_train_score=False,\n",
       "             scoring=None, verbose=0)"
      ]
     },
     "execution_count": 320,
     "metadata": {
      "tags": []
     },
     "output_type": "execute_result"
    }
   ],
   "source": [
    "# Do the Grid Search\n",
    "model.fit(data_vectorized)"
   ]
  },
  {
   "cell_type": "code",
   "execution_count": 321,
   "metadata": {
    "colab": {
     "base_uri": "https://localhost:8080/"
    },
    "id": "1wnRyYkXIFD-",
    "outputId": "5d19c87d-2c69-4072-eb74-5b1868e41479"
   },
   "outputs": [
    {
     "name": "stdout",
     "output_type": "stream",
     "text": [
      "Best Model's Params:  {'learning_decay': 0.5, 'n_components': 10}\n",
      "Best Log Likelihood Score:  -90614.66296496465\n",
      "Model Perplexity:  366.12561539068935\n"
     ]
    }
   ],
   "source": [
    "# Best Model\n",
    "best_lda_model = model.best_estimator_\n",
    "\n",
    "# Model Parameters\n",
    "print(\"Best Model's Params: \", model.best_params_)\n",
    "\n",
    "# Log Likelihood Score\n",
    "print(\"Best Log Likelihood Score: \", model.best_score_)\n",
    "\n",
    "# Perplexity\n",
    "print(\"Model Perplexity: \", best_lda_model.perplexity(data_vectorized))"
   ]
  },
  {
   "cell_type": "code",
   "execution_count": 322,
   "metadata": {
    "colab": {
     "base_uri": "https://localhost:8080/"
    },
    "id": "HL8TBCdAW_Kh",
    "outputId": "7f71ce05-2927-4f13-c7c3-b16da9cff7a2"
   },
   "outputs": [
    {
     "data": {
      "text/plain": [
       "{'learning_decay': 0.5, 'n_components': 10}"
      ]
     },
     "execution_count": 322,
     "metadata": {
      "tags": []
     },
     "output_type": "execute_result"
    }
   ],
   "source": [
    "model.cv_results_['params'][0]"
   ]
  },
  {
   "cell_type": "code",
   "execution_count": 323,
   "metadata": {
    "colab": {
     "base_uri": "https://localhost:8080/"
    },
    "id": "kjWpXhzKfWzK",
    "outputId": "142c7a3a-d649-41a9-c61c-ef47c9d097d0"
   },
   "outputs": [
    {
     "data": {
      "text/plain": [
       "([{'learning_decay': 0.5, 'n_components': 10},\n",
       "  {'learning_decay': 0.5, 'n_components': 15},\n",
       "  {'learning_decay': 0.5, 'n_components': 20},\n",
       "  {'learning_decay': 0.5, 'n_components': 25},\n",
       "  {'learning_decay': 0.5, 'n_components': 30},\n",
       "  {'learning_decay': 0.7, 'n_components': 10},\n",
       "  {'learning_decay': 0.7, 'n_components': 15},\n",
       "  {'learning_decay': 0.7, 'n_components': 20},\n",
       "  {'learning_decay': 0.7, 'n_components': 25},\n",
       "  {'learning_decay': 0.7, 'n_components': 30},\n",
       "  {'learning_decay': 0.9, 'n_components': 10},\n",
       "  {'learning_decay': 0.9, 'n_components': 15},\n",
       "  {'learning_decay': 0.9, 'n_components': 20},\n",
       "  {'learning_decay': 0.9, 'n_components': 25},\n",
       "  {'learning_decay': 0.9, 'n_components': 30}],\n",
       " array([ -90614.66296496,  -93697.54661115,  -96303.55612368,\n",
       "         -98741.80602119, -101229.7864391 ,  -90737.82543642,\n",
       "         -93581.23602517,  -96589.71199452,  -98700.86624457,\n",
       "        -100835.94516789,  -90740.04887767,  -93745.80818375,\n",
       "         -96502.87469865,  -98973.91767886, -100832.71371895]))"
      ]
     },
     "execution_count": 323,
     "metadata": {
      "tags": []
     },
     "output_type": "execute_result"
    }
   ],
   "source": [
    "model.cv_results_['params'], model.cv_results_['mean_test_score']"
   ]
  },
  {
   "cell_type": "code",
   "execution_count": 324,
   "metadata": {
    "colab": {
     "base_uri": "https://localhost:8080/"
    },
    "id": "-nmc8o2pfYrS",
    "outputId": "6218daa6-d4a2-47c4-d96c-468122fae6da"
   },
   "outputs": [
    {
     "data": {
      "text/plain": [
       "array([ -90614.66296496,  -93697.54661115,  -96303.55612368,\n",
       "        -98741.80602119, -101229.7864391 ,  -90737.82543642,\n",
       "        -93581.23602517,  -96589.71199452,  -98700.86624457,\n",
       "       -100835.94516789,  -90740.04887767,  -93745.80818375,\n",
       "        -96502.87469865,  -98973.91767886, -100832.71371895])"
      ]
     },
     "execution_count": 324,
     "metadata": {
      "tags": []
     },
     "output_type": "execute_result"
    }
   ],
   "source": [
    "model.cv_results_['mean_test_score']"
   ]
  },
  {
   "cell_type": "code",
   "execution_count": 325,
   "metadata": {
    "colab": {
     "base_uri": "https://localhost:8080/"
    },
    "id": "pE8jchRlfbg3",
    "outputId": "abcf0c6e-3e55-4258-96b5-189e0a2cfb5a"
   },
   "outputs": [
    {
     "data": {
      "text/plain": [
       "{'learning_decay': 0.5, 'n_components': 10}"
      ]
     },
     "execution_count": 325,
     "metadata": {
      "tags": []
     },
     "output_type": "execute_result"
    }
   ],
   "source": [
    "model.best_params_"
   ]
  },
  {
   "cell_type": "code",
   "execution_count": 326,
   "metadata": {
    "id": "N3GK636ufdRT"
   },
   "outputs": [],
   "source": [
    "# Create Document - Topic Matrix\n",
    "lda_output = best_lda_model.transform(data_vectorized)"
   ]
  },
  {
   "cell_type": "code",
   "execution_count": 327,
   "metadata": {
    "colab": {
     "base_uri": "https://localhost:8080/"
    },
    "id": "5N0KBc9LffDT",
    "outputId": "fdccea9c-3d5c-4a9d-f743-3f83db33b054"
   },
   "outputs": [
    {
     "data": {
      "text/plain": [
       "['Topic0',\n",
       " 'Topic1',\n",
       " 'Topic2',\n",
       " 'Topic3',\n",
       " 'Topic4',\n",
       " 'Topic5',\n",
       " 'Topic6',\n",
       " 'Topic7',\n",
       " 'Topic8',\n",
       " 'Topic9']"
      ]
     },
     "execution_count": 327,
     "metadata": {
      "tags": []
     },
     "output_type": "execute_result"
    }
   ],
   "source": [
    "# column names\n",
    "topicnames = [\"Topic\" + str(i) for i in range(best_lda_model.n_components)]\n",
    "topicnames"
   ]
  },
  {
   "cell_type": "code",
   "execution_count": 328,
   "metadata": {
    "id": "8ZpTlqBGfggk"
   },
   "outputs": [],
   "source": [
    "# index names\n",
    "docnames = [\"Doc\" + str(i) for i in range(len(data))]"
   ]
  },
  {
   "cell_type": "code",
   "execution_count": 329,
   "metadata": {
    "colab": {
     "base_uri": "https://localhost:8080/",
     "height": 204
    },
    "id": "gVpuOKShfiof",
    "outputId": "e2664c64-09f9-4143-fd44-1748a69fd28f"
   },
   "outputs": [
    {
     "data": {
      "text/html": [
       "<div>\n",
       "<style scoped>\n",
       "    .dataframe tbody tr th:only-of-type {\n",
       "        vertical-align: middle;\n",
       "    }\n",
       "\n",
       "    .dataframe tbody tr th {\n",
       "        vertical-align: top;\n",
       "    }\n",
       "\n",
       "    .dataframe thead th {\n",
       "        text-align: right;\n",
       "    }\n",
       "</style>\n",
       "<table border=\"1\" class=\"dataframe\">\n",
       "  <thead>\n",
       "    <tr style=\"text-align: right;\">\n",
       "      <th></th>\n",
       "      <th>Topic0</th>\n",
       "      <th>Topic1</th>\n",
       "      <th>Topic2</th>\n",
       "      <th>Topic3</th>\n",
       "      <th>Topic4</th>\n",
       "      <th>Topic5</th>\n",
       "      <th>Topic6</th>\n",
       "      <th>Topic7</th>\n",
       "      <th>Topic8</th>\n",
       "      <th>Topic9</th>\n",
       "    </tr>\n",
       "  </thead>\n",
       "  <tbody>\n",
       "    <tr>\n",
       "      <th>Doc0</th>\n",
       "      <td>0.02</td>\n",
       "      <td>0.02</td>\n",
       "      <td>0.02</td>\n",
       "      <td>0.02</td>\n",
       "      <td>0.02</td>\n",
       "      <td>0.02</td>\n",
       "      <td>0.82</td>\n",
       "      <td>0.02</td>\n",
       "      <td>0.02</td>\n",
       "      <td>0.02</td>\n",
       "    </tr>\n",
       "    <tr>\n",
       "      <th>Doc1</th>\n",
       "      <td>0.66</td>\n",
       "      <td>0.00</td>\n",
       "      <td>0.00</td>\n",
       "      <td>0.00</td>\n",
       "      <td>0.00</td>\n",
       "      <td>0.00</td>\n",
       "      <td>0.00</td>\n",
       "      <td>0.00</td>\n",
       "      <td>0.00</td>\n",
       "      <td>0.32</td>\n",
       "    </tr>\n",
       "    <tr>\n",
       "      <th>Doc2</th>\n",
       "      <td>0.05</td>\n",
       "      <td>0.05</td>\n",
       "      <td>0.05</td>\n",
       "      <td>0.05</td>\n",
       "      <td>0.05</td>\n",
       "      <td>0.55</td>\n",
       "      <td>0.05</td>\n",
       "      <td>0.05</td>\n",
       "      <td>0.05</td>\n",
       "      <td>0.05</td>\n",
       "    </tr>\n",
       "    <tr>\n",
       "      <th>Doc3</th>\n",
       "      <td>0.01</td>\n",
       "      <td>0.01</td>\n",
       "      <td>0.20</td>\n",
       "      <td>0.01</td>\n",
       "      <td>0.01</td>\n",
       "      <td>0.01</td>\n",
       "      <td>0.01</td>\n",
       "      <td>0.01</td>\n",
       "      <td>0.01</td>\n",
       "      <td>0.73</td>\n",
       "    </tr>\n",
       "    <tr>\n",
       "      <th>Doc4</th>\n",
       "      <td>0.03</td>\n",
       "      <td>0.03</td>\n",
       "      <td>0.22</td>\n",
       "      <td>0.51</td>\n",
       "      <td>0.03</td>\n",
       "      <td>0.03</td>\n",
       "      <td>0.03</td>\n",
       "      <td>0.03</td>\n",
       "      <td>0.03</td>\n",
       "      <td>0.03</td>\n",
       "    </tr>\n",
       "  </tbody>\n",
       "</table>\n",
       "</div>"
      ],
      "text/plain": [
       "      Topic0  Topic1  Topic2  Topic3  ...  Topic6  Topic7  Topic8  Topic9\n",
       "Doc0    0.02    0.02    0.02    0.02  ...    0.82    0.02    0.02    0.02\n",
       "Doc1    0.66    0.00    0.00    0.00  ...    0.00    0.00    0.00    0.32\n",
       "Doc2    0.05    0.05    0.05    0.05  ...    0.05    0.05    0.05    0.05\n",
       "Doc3    0.01    0.01    0.20    0.01  ...    0.01    0.01    0.01    0.73\n",
       "Doc4    0.03    0.03    0.22    0.51  ...    0.03    0.03    0.03    0.03\n",
       "\n",
       "[5 rows x 10 columns]"
      ]
     },
     "execution_count": 329,
     "metadata": {
      "tags": []
     },
     "output_type": "execute_result"
    }
   ],
   "source": [
    "# Make the pandas dataframe\n",
    "df_document_topic = pd.DataFrame(np.round(lda_output, 2), columns=topicnames, index=docnames)\n",
    "df_document_topic.head(5)"
   ]
  },
  {
   "cell_type": "code",
   "execution_count": 330,
   "metadata": {
    "colab": {
     "base_uri": "https://localhost:8080/",
     "height": 355
    },
    "id": "RT2jU1CVfkft",
    "outputId": "76d04b46-143e-44e8-f0fa-d2afe7e661fc"
   },
   "outputs": [
    {
     "data": {
      "text/html": [
       "<style  type=\"text/css\" >\n",
       "#T_0186afba_1c64_11eb_bfe5_0242ac1c0002row0_col0,#T_0186afba_1c64_11eb_bfe5_0242ac1c0002row0_col1,#T_0186afba_1c64_11eb_bfe5_0242ac1c0002row0_col2,#T_0186afba_1c64_11eb_bfe5_0242ac1c0002row0_col3,#T_0186afba_1c64_11eb_bfe5_0242ac1c0002row0_col4,#T_0186afba_1c64_11eb_bfe5_0242ac1c0002row0_col5,#T_0186afba_1c64_11eb_bfe5_0242ac1c0002row0_col7,#T_0186afba_1c64_11eb_bfe5_0242ac1c0002row0_col8,#T_0186afba_1c64_11eb_bfe5_0242ac1c0002row0_col9,#T_0186afba_1c64_11eb_bfe5_0242ac1c0002row1_col1,#T_0186afba_1c64_11eb_bfe5_0242ac1c0002row1_col2,#T_0186afba_1c64_11eb_bfe5_0242ac1c0002row1_col3,#T_0186afba_1c64_11eb_bfe5_0242ac1c0002row1_col4,#T_0186afba_1c64_11eb_bfe5_0242ac1c0002row1_col5,#T_0186afba_1c64_11eb_bfe5_0242ac1c0002row1_col6,#T_0186afba_1c64_11eb_bfe5_0242ac1c0002row1_col7,#T_0186afba_1c64_11eb_bfe5_0242ac1c0002row1_col8,#T_0186afba_1c64_11eb_bfe5_0242ac1c0002row1_col10,#T_0186afba_1c64_11eb_bfe5_0242ac1c0002row2_col0,#T_0186afba_1c64_11eb_bfe5_0242ac1c0002row2_col1,#T_0186afba_1c64_11eb_bfe5_0242ac1c0002row2_col2,#T_0186afba_1c64_11eb_bfe5_0242ac1c0002row2_col3,#T_0186afba_1c64_11eb_bfe5_0242ac1c0002row2_col4,#T_0186afba_1c64_11eb_bfe5_0242ac1c0002row2_col6,#T_0186afba_1c64_11eb_bfe5_0242ac1c0002row2_col7,#T_0186afba_1c64_11eb_bfe5_0242ac1c0002row2_col8,#T_0186afba_1c64_11eb_bfe5_0242ac1c0002row2_col9,#T_0186afba_1c64_11eb_bfe5_0242ac1c0002row3_col0,#T_0186afba_1c64_11eb_bfe5_0242ac1c0002row3_col1,#T_0186afba_1c64_11eb_bfe5_0242ac1c0002row3_col3,#T_0186afba_1c64_11eb_bfe5_0242ac1c0002row3_col4,#T_0186afba_1c64_11eb_bfe5_0242ac1c0002row3_col5,#T_0186afba_1c64_11eb_bfe5_0242ac1c0002row3_col6,#T_0186afba_1c64_11eb_bfe5_0242ac1c0002row3_col7,#T_0186afba_1c64_11eb_bfe5_0242ac1c0002row3_col8,#T_0186afba_1c64_11eb_bfe5_0242ac1c0002row4_col0,#T_0186afba_1c64_11eb_bfe5_0242ac1c0002row4_col1,#T_0186afba_1c64_11eb_bfe5_0242ac1c0002row4_col4,#T_0186afba_1c64_11eb_bfe5_0242ac1c0002row4_col5,#T_0186afba_1c64_11eb_bfe5_0242ac1c0002row4_col6,#T_0186afba_1c64_11eb_bfe5_0242ac1c0002row4_col7,#T_0186afba_1c64_11eb_bfe5_0242ac1c0002row4_col8,#T_0186afba_1c64_11eb_bfe5_0242ac1c0002row4_col9,#T_0186afba_1c64_11eb_bfe5_0242ac1c0002row5_col1,#T_0186afba_1c64_11eb_bfe5_0242ac1c0002row5_col2,#T_0186afba_1c64_11eb_bfe5_0242ac1c0002row5_col3,#T_0186afba_1c64_11eb_bfe5_0242ac1c0002row5_col5,#T_0186afba_1c64_11eb_bfe5_0242ac1c0002row5_col6,#T_0186afba_1c64_11eb_bfe5_0242ac1c0002row5_col7,#T_0186afba_1c64_11eb_bfe5_0242ac1c0002row5_col9,#T_0186afba_1c64_11eb_bfe5_0242ac1c0002row6_col1,#T_0186afba_1c64_11eb_bfe5_0242ac1c0002row6_col2,#T_0186afba_1c64_11eb_bfe5_0242ac1c0002row6_col3,#T_0186afba_1c64_11eb_bfe5_0242ac1c0002row6_col4,#T_0186afba_1c64_11eb_bfe5_0242ac1c0002row6_col5,#T_0186afba_1c64_11eb_bfe5_0242ac1c0002row6_col6,#T_0186afba_1c64_11eb_bfe5_0242ac1c0002row6_col7,#T_0186afba_1c64_11eb_bfe5_0242ac1c0002row6_col8,#T_0186afba_1c64_11eb_bfe5_0242ac1c0002row6_col9,#T_0186afba_1c64_11eb_bfe5_0242ac1c0002row6_col10,#T_0186afba_1c64_11eb_bfe5_0242ac1c0002row7_col0,#T_0186afba_1c64_11eb_bfe5_0242ac1c0002row7_col1,#T_0186afba_1c64_11eb_bfe5_0242ac1c0002row7_col2,#T_0186afba_1c64_11eb_bfe5_0242ac1c0002row7_col4,#T_0186afba_1c64_11eb_bfe5_0242ac1c0002row7_col5,#T_0186afba_1c64_11eb_bfe5_0242ac1c0002row7_col6,#T_0186afba_1c64_11eb_bfe5_0242ac1c0002row7_col7,#T_0186afba_1c64_11eb_bfe5_0242ac1c0002row8_col0,#T_0186afba_1c64_11eb_bfe5_0242ac1c0002row8_col1,#T_0186afba_1c64_11eb_bfe5_0242ac1c0002row8_col2,#T_0186afba_1c64_11eb_bfe5_0242ac1c0002row8_col4,#T_0186afba_1c64_11eb_bfe5_0242ac1c0002row8_col5,#T_0186afba_1c64_11eb_bfe5_0242ac1c0002row8_col6,#T_0186afba_1c64_11eb_bfe5_0242ac1c0002row8_col7,#T_0186afba_1c64_11eb_bfe5_0242ac1c0002row8_col8,#T_0186afba_1c64_11eb_bfe5_0242ac1c0002row8_col9,#T_0186afba_1c64_11eb_bfe5_0242ac1c0002row9_col0,#T_0186afba_1c64_11eb_bfe5_0242ac1c0002row9_col1,#T_0186afba_1c64_11eb_bfe5_0242ac1c0002row9_col3,#T_0186afba_1c64_11eb_bfe5_0242ac1c0002row9_col6,#T_0186afba_1c64_11eb_bfe5_0242ac1c0002row9_col7,#T_0186afba_1c64_11eb_bfe5_0242ac1c0002row9_col8,#T_0186afba_1c64_11eb_bfe5_0242ac1c0002row9_col9,#T_0186afba_1c64_11eb_bfe5_0242ac1c0002row10_col1,#T_0186afba_1c64_11eb_bfe5_0242ac1c0002row10_col2,#T_0186afba_1c64_11eb_bfe5_0242ac1c0002row10_col4,#T_0186afba_1c64_11eb_bfe5_0242ac1c0002row10_col5,#T_0186afba_1c64_11eb_bfe5_0242ac1c0002row10_col6,#T_0186afba_1c64_11eb_bfe5_0242ac1c0002row10_col7,#T_0186afba_1c64_11eb_bfe5_0242ac1c0002row10_col8,#T_0186afba_1c64_11eb_bfe5_0242ac1c0002row10_col9,#T_0186afba_1c64_11eb_bfe5_0242ac1c0002row10_col10,#T_0186afba_1c64_11eb_bfe5_0242ac1c0002row11_col1,#T_0186afba_1c64_11eb_bfe5_0242ac1c0002row11_col2,#T_0186afba_1c64_11eb_bfe5_0242ac1c0002row11_col3,#T_0186afba_1c64_11eb_bfe5_0242ac1c0002row11_col4,#T_0186afba_1c64_11eb_bfe5_0242ac1c0002row11_col5,#T_0186afba_1c64_11eb_bfe5_0242ac1c0002row11_col6,#T_0186afba_1c64_11eb_bfe5_0242ac1c0002row11_col7,#T_0186afba_1c64_11eb_bfe5_0242ac1c0002row11_col8,#T_0186afba_1c64_11eb_bfe5_0242ac1c0002row11_col9,#T_0186afba_1c64_11eb_bfe5_0242ac1c0002row11_col10,#T_0186afba_1c64_11eb_bfe5_0242ac1c0002row12_col0,#T_0186afba_1c64_11eb_bfe5_0242ac1c0002row12_col1,#T_0186afba_1c64_11eb_bfe5_0242ac1c0002row12_col2,#T_0186afba_1c64_11eb_bfe5_0242ac1c0002row12_col3,#T_0186afba_1c64_11eb_bfe5_0242ac1c0002row12_col5,#T_0186afba_1c64_11eb_bfe5_0242ac1c0002row12_col6,#T_0186afba_1c64_11eb_bfe5_0242ac1c0002row12_col8,#T_0186afba_1c64_11eb_bfe5_0242ac1c0002row12_col9,#T_0186afba_1c64_11eb_bfe5_0242ac1c0002row13_col0,#T_0186afba_1c64_11eb_bfe5_0242ac1c0002row13_col1,#T_0186afba_1c64_11eb_bfe5_0242ac1c0002row13_col3,#T_0186afba_1c64_11eb_bfe5_0242ac1c0002row13_col4,#T_0186afba_1c64_11eb_bfe5_0242ac1c0002row13_col5,#T_0186afba_1c64_11eb_bfe5_0242ac1c0002row13_col6,#T_0186afba_1c64_11eb_bfe5_0242ac1c0002row13_col7,#T_0186afba_1c64_11eb_bfe5_0242ac1c0002row13_col9,#T_0186afba_1c64_11eb_bfe5_0242ac1c0002row14_col0,#T_0186afba_1c64_11eb_bfe5_0242ac1c0002row14_col1,#T_0186afba_1c64_11eb_bfe5_0242ac1c0002row14_col2,#T_0186afba_1c64_11eb_bfe5_0242ac1c0002row14_col4,#T_0186afba_1c64_11eb_bfe5_0242ac1c0002row14_col6,#T_0186afba_1c64_11eb_bfe5_0242ac1c0002row14_col7,#T_0186afba_1c64_11eb_bfe5_0242ac1c0002row14_col8,#T_0186afba_1c64_11eb_bfe5_0242ac1c0002row14_col9{\n",
       "            color:  black;\n",
       "            font-weight:  400;\n",
       "        }#T_0186afba_1c64_11eb_bfe5_0242ac1c0002row0_col6,#T_0186afba_1c64_11eb_bfe5_0242ac1c0002row0_col10,#T_0186afba_1c64_11eb_bfe5_0242ac1c0002row1_col0,#T_0186afba_1c64_11eb_bfe5_0242ac1c0002row1_col9,#T_0186afba_1c64_11eb_bfe5_0242ac1c0002row2_col5,#T_0186afba_1c64_11eb_bfe5_0242ac1c0002row2_col10,#T_0186afba_1c64_11eb_bfe5_0242ac1c0002row3_col2,#T_0186afba_1c64_11eb_bfe5_0242ac1c0002row3_col9,#T_0186afba_1c64_11eb_bfe5_0242ac1c0002row3_col10,#T_0186afba_1c64_11eb_bfe5_0242ac1c0002row4_col2,#T_0186afba_1c64_11eb_bfe5_0242ac1c0002row4_col3,#T_0186afba_1c64_11eb_bfe5_0242ac1c0002row4_col10,#T_0186afba_1c64_11eb_bfe5_0242ac1c0002row5_col0,#T_0186afba_1c64_11eb_bfe5_0242ac1c0002row5_col4,#T_0186afba_1c64_11eb_bfe5_0242ac1c0002row5_col8,#T_0186afba_1c64_11eb_bfe5_0242ac1c0002row5_col10,#T_0186afba_1c64_11eb_bfe5_0242ac1c0002row6_col0,#T_0186afba_1c64_11eb_bfe5_0242ac1c0002row7_col3,#T_0186afba_1c64_11eb_bfe5_0242ac1c0002row7_col8,#T_0186afba_1c64_11eb_bfe5_0242ac1c0002row7_col9,#T_0186afba_1c64_11eb_bfe5_0242ac1c0002row7_col10,#T_0186afba_1c64_11eb_bfe5_0242ac1c0002row8_col3,#T_0186afba_1c64_11eb_bfe5_0242ac1c0002row8_col10,#T_0186afba_1c64_11eb_bfe5_0242ac1c0002row9_col2,#T_0186afba_1c64_11eb_bfe5_0242ac1c0002row9_col4,#T_0186afba_1c64_11eb_bfe5_0242ac1c0002row9_col5,#T_0186afba_1c64_11eb_bfe5_0242ac1c0002row9_col10,#T_0186afba_1c64_11eb_bfe5_0242ac1c0002row10_col0,#T_0186afba_1c64_11eb_bfe5_0242ac1c0002row10_col3,#T_0186afba_1c64_11eb_bfe5_0242ac1c0002row11_col0,#T_0186afba_1c64_11eb_bfe5_0242ac1c0002row12_col4,#T_0186afba_1c64_11eb_bfe5_0242ac1c0002row12_col7,#T_0186afba_1c64_11eb_bfe5_0242ac1c0002row12_col10,#T_0186afba_1c64_11eb_bfe5_0242ac1c0002row13_col2,#T_0186afba_1c64_11eb_bfe5_0242ac1c0002row13_col8,#T_0186afba_1c64_11eb_bfe5_0242ac1c0002row13_col10,#T_0186afba_1c64_11eb_bfe5_0242ac1c0002row14_col3,#T_0186afba_1c64_11eb_bfe5_0242ac1c0002row14_col5,#T_0186afba_1c64_11eb_bfe5_0242ac1c0002row14_col10{\n",
       "            color:  green;\n",
       "            font-weight:  700;\n",
       "        }</style><table id=\"T_0186afba_1c64_11eb_bfe5_0242ac1c0002\" ><thead>    <tr>        <th class=\"blank level0\" ></th>        <th class=\"col_heading level0 col0\" >Topic0</th>        <th class=\"col_heading level0 col1\" >Topic1</th>        <th class=\"col_heading level0 col2\" >Topic2</th>        <th class=\"col_heading level0 col3\" >Topic3</th>        <th class=\"col_heading level0 col4\" >Topic4</th>        <th class=\"col_heading level0 col5\" >Topic5</th>        <th class=\"col_heading level0 col6\" >Topic6</th>        <th class=\"col_heading level0 col7\" >Topic7</th>        <th class=\"col_heading level0 col8\" >Topic8</th>        <th class=\"col_heading level0 col9\" >Topic9</th>        <th class=\"col_heading level0 col10\" >dominant_topic</th>    </tr></thead><tbody>\n",
       "                <tr>\n",
       "                        <th id=\"T_0186afba_1c64_11eb_bfe5_0242ac1c0002level0_row0\" class=\"row_heading level0 row0\" >Doc0</th>\n",
       "                        <td id=\"T_0186afba_1c64_11eb_bfe5_0242ac1c0002row0_col0\" class=\"data row0 col0\" >0.020000</td>\n",
       "                        <td id=\"T_0186afba_1c64_11eb_bfe5_0242ac1c0002row0_col1\" class=\"data row0 col1\" >0.020000</td>\n",
       "                        <td id=\"T_0186afba_1c64_11eb_bfe5_0242ac1c0002row0_col2\" class=\"data row0 col2\" >0.020000</td>\n",
       "                        <td id=\"T_0186afba_1c64_11eb_bfe5_0242ac1c0002row0_col3\" class=\"data row0 col3\" >0.020000</td>\n",
       "                        <td id=\"T_0186afba_1c64_11eb_bfe5_0242ac1c0002row0_col4\" class=\"data row0 col4\" >0.020000</td>\n",
       "                        <td id=\"T_0186afba_1c64_11eb_bfe5_0242ac1c0002row0_col5\" class=\"data row0 col5\" >0.020000</td>\n",
       "                        <td id=\"T_0186afba_1c64_11eb_bfe5_0242ac1c0002row0_col6\" class=\"data row0 col6\" >0.820000</td>\n",
       "                        <td id=\"T_0186afba_1c64_11eb_bfe5_0242ac1c0002row0_col7\" class=\"data row0 col7\" >0.020000</td>\n",
       "                        <td id=\"T_0186afba_1c64_11eb_bfe5_0242ac1c0002row0_col8\" class=\"data row0 col8\" >0.020000</td>\n",
       "                        <td id=\"T_0186afba_1c64_11eb_bfe5_0242ac1c0002row0_col9\" class=\"data row0 col9\" >0.020000</td>\n",
       "                        <td id=\"T_0186afba_1c64_11eb_bfe5_0242ac1c0002row0_col10\" class=\"data row0 col10\" >6</td>\n",
       "            </tr>\n",
       "            <tr>\n",
       "                        <th id=\"T_0186afba_1c64_11eb_bfe5_0242ac1c0002level0_row1\" class=\"row_heading level0 row1\" >Doc1</th>\n",
       "                        <td id=\"T_0186afba_1c64_11eb_bfe5_0242ac1c0002row1_col0\" class=\"data row1 col0\" >0.660000</td>\n",
       "                        <td id=\"T_0186afba_1c64_11eb_bfe5_0242ac1c0002row1_col1\" class=\"data row1 col1\" >0.000000</td>\n",
       "                        <td id=\"T_0186afba_1c64_11eb_bfe5_0242ac1c0002row1_col2\" class=\"data row1 col2\" >0.000000</td>\n",
       "                        <td id=\"T_0186afba_1c64_11eb_bfe5_0242ac1c0002row1_col3\" class=\"data row1 col3\" >0.000000</td>\n",
       "                        <td id=\"T_0186afba_1c64_11eb_bfe5_0242ac1c0002row1_col4\" class=\"data row1 col4\" >0.000000</td>\n",
       "                        <td id=\"T_0186afba_1c64_11eb_bfe5_0242ac1c0002row1_col5\" class=\"data row1 col5\" >0.000000</td>\n",
       "                        <td id=\"T_0186afba_1c64_11eb_bfe5_0242ac1c0002row1_col6\" class=\"data row1 col6\" >0.000000</td>\n",
       "                        <td id=\"T_0186afba_1c64_11eb_bfe5_0242ac1c0002row1_col7\" class=\"data row1 col7\" >0.000000</td>\n",
       "                        <td id=\"T_0186afba_1c64_11eb_bfe5_0242ac1c0002row1_col8\" class=\"data row1 col8\" >0.000000</td>\n",
       "                        <td id=\"T_0186afba_1c64_11eb_bfe5_0242ac1c0002row1_col9\" class=\"data row1 col9\" >0.320000</td>\n",
       "                        <td id=\"T_0186afba_1c64_11eb_bfe5_0242ac1c0002row1_col10\" class=\"data row1 col10\" >0</td>\n",
       "            </tr>\n",
       "            <tr>\n",
       "                        <th id=\"T_0186afba_1c64_11eb_bfe5_0242ac1c0002level0_row2\" class=\"row_heading level0 row2\" >Doc2</th>\n",
       "                        <td id=\"T_0186afba_1c64_11eb_bfe5_0242ac1c0002row2_col0\" class=\"data row2 col0\" >0.050000</td>\n",
       "                        <td id=\"T_0186afba_1c64_11eb_bfe5_0242ac1c0002row2_col1\" class=\"data row2 col1\" >0.050000</td>\n",
       "                        <td id=\"T_0186afba_1c64_11eb_bfe5_0242ac1c0002row2_col2\" class=\"data row2 col2\" >0.050000</td>\n",
       "                        <td id=\"T_0186afba_1c64_11eb_bfe5_0242ac1c0002row2_col3\" class=\"data row2 col3\" >0.050000</td>\n",
       "                        <td id=\"T_0186afba_1c64_11eb_bfe5_0242ac1c0002row2_col4\" class=\"data row2 col4\" >0.050000</td>\n",
       "                        <td id=\"T_0186afba_1c64_11eb_bfe5_0242ac1c0002row2_col5\" class=\"data row2 col5\" >0.550000</td>\n",
       "                        <td id=\"T_0186afba_1c64_11eb_bfe5_0242ac1c0002row2_col6\" class=\"data row2 col6\" >0.050000</td>\n",
       "                        <td id=\"T_0186afba_1c64_11eb_bfe5_0242ac1c0002row2_col7\" class=\"data row2 col7\" >0.050000</td>\n",
       "                        <td id=\"T_0186afba_1c64_11eb_bfe5_0242ac1c0002row2_col8\" class=\"data row2 col8\" >0.050000</td>\n",
       "                        <td id=\"T_0186afba_1c64_11eb_bfe5_0242ac1c0002row2_col9\" class=\"data row2 col9\" >0.050000</td>\n",
       "                        <td id=\"T_0186afba_1c64_11eb_bfe5_0242ac1c0002row2_col10\" class=\"data row2 col10\" >5</td>\n",
       "            </tr>\n",
       "            <tr>\n",
       "                        <th id=\"T_0186afba_1c64_11eb_bfe5_0242ac1c0002level0_row3\" class=\"row_heading level0 row3\" >Doc3</th>\n",
       "                        <td id=\"T_0186afba_1c64_11eb_bfe5_0242ac1c0002row3_col0\" class=\"data row3 col0\" >0.010000</td>\n",
       "                        <td id=\"T_0186afba_1c64_11eb_bfe5_0242ac1c0002row3_col1\" class=\"data row3 col1\" >0.010000</td>\n",
       "                        <td id=\"T_0186afba_1c64_11eb_bfe5_0242ac1c0002row3_col2\" class=\"data row3 col2\" >0.200000</td>\n",
       "                        <td id=\"T_0186afba_1c64_11eb_bfe5_0242ac1c0002row3_col3\" class=\"data row3 col3\" >0.010000</td>\n",
       "                        <td id=\"T_0186afba_1c64_11eb_bfe5_0242ac1c0002row3_col4\" class=\"data row3 col4\" >0.010000</td>\n",
       "                        <td id=\"T_0186afba_1c64_11eb_bfe5_0242ac1c0002row3_col5\" class=\"data row3 col5\" >0.010000</td>\n",
       "                        <td id=\"T_0186afba_1c64_11eb_bfe5_0242ac1c0002row3_col6\" class=\"data row3 col6\" >0.010000</td>\n",
       "                        <td id=\"T_0186afba_1c64_11eb_bfe5_0242ac1c0002row3_col7\" class=\"data row3 col7\" >0.010000</td>\n",
       "                        <td id=\"T_0186afba_1c64_11eb_bfe5_0242ac1c0002row3_col8\" class=\"data row3 col8\" >0.010000</td>\n",
       "                        <td id=\"T_0186afba_1c64_11eb_bfe5_0242ac1c0002row3_col9\" class=\"data row3 col9\" >0.730000</td>\n",
       "                        <td id=\"T_0186afba_1c64_11eb_bfe5_0242ac1c0002row3_col10\" class=\"data row3 col10\" >9</td>\n",
       "            </tr>\n",
       "            <tr>\n",
       "                        <th id=\"T_0186afba_1c64_11eb_bfe5_0242ac1c0002level0_row4\" class=\"row_heading level0 row4\" >Doc4</th>\n",
       "                        <td id=\"T_0186afba_1c64_11eb_bfe5_0242ac1c0002row4_col0\" class=\"data row4 col0\" >0.030000</td>\n",
       "                        <td id=\"T_0186afba_1c64_11eb_bfe5_0242ac1c0002row4_col1\" class=\"data row4 col1\" >0.030000</td>\n",
       "                        <td id=\"T_0186afba_1c64_11eb_bfe5_0242ac1c0002row4_col2\" class=\"data row4 col2\" >0.220000</td>\n",
       "                        <td id=\"T_0186afba_1c64_11eb_bfe5_0242ac1c0002row4_col3\" class=\"data row4 col3\" >0.510000</td>\n",
       "                        <td id=\"T_0186afba_1c64_11eb_bfe5_0242ac1c0002row4_col4\" class=\"data row4 col4\" >0.030000</td>\n",
       "                        <td id=\"T_0186afba_1c64_11eb_bfe5_0242ac1c0002row4_col5\" class=\"data row4 col5\" >0.030000</td>\n",
       "                        <td id=\"T_0186afba_1c64_11eb_bfe5_0242ac1c0002row4_col6\" class=\"data row4 col6\" >0.030000</td>\n",
       "                        <td id=\"T_0186afba_1c64_11eb_bfe5_0242ac1c0002row4_col7\" class=\"data row4 col7\" >0.030000</td>\n",
       "                        <td id=\"T_0186afba_1c64_11eb_bfe5_0242ac1c0002row4_col8\" class=\"data row4 col8\" >0.030000</td>\n",
       "                        <td id=\"T_0186afba_1c64_11eb_bfe5_0242ac1c0002row4_col9\" class=\"data row4 col9\" >0.030000</td>\n",
       "                        <td id=\"T_0186afba_1c64_11eb_bfe5_0242ac1c0002row4_col10\" class=\"data row4 col10\" >3</td>\n",
       "            </tr>\n",
       "            <tr>\n",
       "                        <th id=\"T_0186afba_1c64_11eb_bfe5_0242ac1c0002level0_row5\" class=\"row_heading level0 row5\" >Doc5</th>\n",
       "                        <td id=\"T_0186afba_1c64_11eb_bfe5_0242ac1c0002row5_col0\" class=\"data row5 col0\" >0.190000</td>\n",
       "                        <td id=\"T_0186afba_1c64_11eb_bfe5_0242ac1c0002row5_col1\" class=\"data row5 col1\" >0.010000</td>\n",
       "                        <td id=\"T_0186afba_1c64_11eb_bfe5_0242ac1c0002row5_col2\" class=\"data row5 col2\" >0.010000</td>\n",
       "                        <td id=\"T_0186afba_1c64_11eb_bfe5_0242ac1c0002row5_col3\" class=\"data row5 col3\" >0.010000</td>\n",
       "                        <td id=\"T_0186afba_1c64_11eb_bfe5_0242ac1c0002row5_col4\" class=\"data row5 col4\" >0.300000</td>\n",
       "                        <td id=\"T_0186afba_1c64_11eb_bfe5_0242ac1c0002row5_col5\" class=\"data row5 col5\" >0.010000</td>\n",
       "                        <td id=\"T_0186afba_1c64_11eb_bfe5_0242ac1c0002row5_col6\" class=\"data row5 col6\" >0.010000</td>\n",
       "                        <td id=\"T_0186afba_1c64_11eb_bfe5_0242ac1c0002row5_col7\" class=\"data row5 col7\" >0.010000</td>\n",
       "                        <td id=\"T_0186afba_1c64_11eb_bfe5_0242ac1c0002row5_col8\" class=\"data row5 col8\" >0.440000</td>\n",
       "                        <td id=\"T_0186afba_1c64_11eb_bfe5_0242ac1c0002row5_col9\" class=\"data row5 col9\" >0.010000</td>\n",
       "                        <td id=\"T_0186afba_1c64_11eb_bfe5_0242ac1c0002row5_col10\" class=\"data row5 col10\" >8</td>\n",
       "            </tr>\n",
       "            <tr>\n",
       "                        <th id=\"T_0186afba_1c64_11eb_bfe5_0242ac1c0002level0_row6\" class=\"row_heading level0 row6\" >Doc6</th>\n",
       "                        <td id=\"T_0186afba_1c64_11eb_bfe5_0242ac1c0002row6_col0\" class=\"data row6 col0\" >0.700000</td>\n",
       "                        <td id=\"T_0186afba_1c64_11eb_bfe5_0242ac1c0002row6_col1\" class=\"data row6 col1\" >0.030000</td>\n",
       "                        <td id=\"T_0186afba_1c64_11eb_bfe5_0242ac1c0002row6_col2\" class=\"data row6 col2\" >0.030000</td>\n",
       "                        <td id=\"T_0186afba_1c64_11eb_bfe5_0242ac1c0002row6_col3\" class=\"data row6 col3\" >0.030000</td>\n",
       "                        <td id=\"T_0186afba_1c64_11eb_bfe5_0242ac1c0002row6_col4\" class=\"data row6 col4\" >0.030000</td>\n",
       "                        <td id=\"T_0186afba_1c64_11eb_bfe5_0242ac1c0002row6_col5\" class=\"data row6 col5\" >0.030000</td>\n",
       "                        <td id=\"T_0186afba_1c64_11eb_bfe5_0242ac1c0002row6_col6\" class=\"data row6 col6\" >0.030000</td>\n",
       "                        <td id=\"T_0186afba_1c64_11eb_bfe5_0242ac1c0002row6_col7\" class=\"data row6 col7\" >0.030000</td>\n",
       "                        <td id=\"T_0186afba_1c64_11eb_bfe5_0242ac1c0002row6_col8\" class=\"data row6 col8\" >0.030000</td>\n",
       "                        <td id=\"T_0186afba_1c64_11eb_bfe5_0242ac1c0002row6_col9\" class=\"data row6 col9\" >0.030000</td>\n",
       "                        <td id=\"T_0186afba_1c64_11eb_bfe5_0242ac1c0002row6_col10\" class=\"data row6 col10\" >0</td>\n",
       "            </tr>\n",
       "            <tr>\n",
       "                        <th id=\"T_0186afba_1c64_11eb_bfe5_0242ac1c0002level0_row7\" class=\"row_heading level0 row7\" >Doc7</th>\n",
       "                        <td id=\"T_0186afba_1c64_11eb_bfe5_0242ac1c0002row7_col0\" class=\"data row7 col0\" >0.010000</td>\n",
       "                        <td id=\"T_0186afba_1c64_11eb_bfe5_0242ac1c0002row7_col1\" class=\"data row7 col1\" >0.010000</td>\n",
       "                        <td id=\"T_0186afba_1c64_11eb_bfe5_0242ac1c0002row7_col2\" class=\"data row7 col2\" >0.010000</td>\n",
       "                        <td id=\"T_0186afba_1c64_11eb_bfe5_0242ac1c0002row7_col3\" class=\"data row7 col3\" >0.220000</td>\n",
       "                        <td id=\"T_0186afba_1c64_11eb_bfe5_0242ac1c0002row7_col4\" class=\"data row7 col4\" >0.010000</td>\n",
       "                        <td id=\"T_0186afba_1c64_11eb_bfe5_0242ac1c0002row7_col5\" class=\"data row7 col5\" >0.010000</td>\n",
       "                        <td id=\"T_0186afba_1c64_11eb_bfe5_0242ac1c0002row7_col6\" class=\"data row7 col6\" >0.010000</td>\n",
       "                        <td id=\"T_0186afba_1c64_11eb_bfe5_0242ac1c0002row7_col7\" class=\"data row7 col7\" >0.010000</td>\n",
       "                        <td id=\"T_0186afba_1c64_11eb_bfe5_0242ac1c0002row7_col8\" class=\"data row7 col8\" >0.280000</td>\n",
       "                        <td id=\"T_0186afba_1c64_11eb_bfe5_0242ac1c0002row7_col9\" class=\"data row7 col9\" >0.460000</td>\n",
       "                        <td id=\"T_0186afba_1c64_11eb_bfe5_0242ac1c0002row7_col10\" class=\"data row7 col10\" >9</td>\n",
       "            </tr>\n",
       "            <tr>\n",
       "                        <th id=\"T_0186afba_1c64_11eb_bfe5_0242ac1c0002level0_row8\" class=\"row_heading level0 row8\" >Doc8</th>\n",
       "                        <td id=\"T_0186afba_1c64_11eb_bfe5_0242ac1c0002row8_col0\" class=\"data row8 col0\" >0.010000</td>\n",
       "                        <td id=\"T_0186afba_1c64_11eb_bfe5_0242ac1c0002row8_col1\" class=\"data row8 col1\" >0.010000</td>\n",
       "                        <td id=\"T_0186afba_1c64_11eb_bfe5_0242ac1c0002row8_col2\" class=\"data row8 col2\" >0.010000</td>\n",
       "                        <td id=\"T_0186afba_1c64_11eb_bfe5_0242ac1c0002row8_col3\" class=\"data row8 col3\" >0.870000</td>\n",
       "                        <td id=\"T_0186afba_1c64_11eb_bfe5_0242ac1c0002row8_col4\" class=\"data row8 col4\" >0.010000</td>\n",
       "                        <td id=\"T_0186afba_1c64_11eb_bfe5_0242ac1c0002row8_col5\" class=\"data row8 col5\" >0.010000</td>\n",
       "                        <td id=\"T_0186afba_1c64_11eb_bfe5_0242ac1c0002row8_col6\" class=\"data row8 col6\" >0.010000</td>\n",
       "                        <td id=\"T_0186afba_1c64_11eb_bfe5_0242ac1c0002row8_col7\" class=\"data row8 col7\" >0.010000</td>\n",
       "                        <td id=\"T_0186afba_1c64_11eb_bfe5_0242ac1c0002row8_col8\" class=\"data row8 col8\" >0.010000</td>\n",
       "                        <td id=\"T_0186afba_1c64_11eb_bfe5_0242ac1c0002row8_col9\" class=\"data row8 col9\" >0.010000</td>\n",
       "                        <td id=\"T_0186afba_1c64_11eb_bfe5_0242ac1c0002row8_col10\" class=\"data row8 col10\" >3</td>\n",
       "            </tr>\n",
       "            <tr>\n",
       "                        <th id=\"T_0186afba_1c64_11eb_bfe5_0242ac1c0002level0_row9\" class=\"row_heading level0 row9\" >Doc9</th>\n",
       "                        <td id=\"T_0186afba_1c64_11eb_bfe5_0242ac1c0002row9_col0\" class=\"data row9 col0\" >0.010000</td>\n",
       "                        <td id=\"T_0186afba_1c64_11eb_bfe5_0242ac1c0002row9_col1\" class=\"data row9 col1\" >0.010000</td>\n",
       "                        <td id=\"T_0186afba_1c64_11eb_bfe5_0242ac1c0002row9_col2\" class=\"data row9 col2\" >0.350000</td>\n",
       "                        <td id=\"T_0186afba_1c64_11eb_bfe5_0242ac1c0002row9_col3\" class=\"data row9 col3\" >0.010000</td>\n",
       "                        <td id=\"T_0186afba_1c64_11eb_bfe5_0242ac1c0002row9_col4\" class=\"data row9 col4\" >0.220000</td>\n",
       "                        <td id=\"T_0186afba_1c64_11eb_bfe5_0242ac1c0002row9_col5\" class=\"data row9 col5\" >0.330000</td>\n",
       "                        <td id=\"T_0186afba_1c64_11eb_bfe5_0242ac1c0002row9_col6\" class=\"data row9 col6\" >0.010000</td>\n",
       "                        <td id=\"T_0186afba_1c64_11eb_bfe5_0242ac1c0002row9_col7\" class=\"data row9 col7\" >0.010000</td>\n",
       "                        <td id=\"T_0186afba_1c64_11eb_bfe5_0242ac1c0002row9_col8\" class=\"data row9 col8\" >0.010000</td>\n",
       "                        <td id=\"T_0186afba_1c64_11eb_bfe5_0242ac1c0002row9_col9\" class=\"data row9 col9\" >0.010000</td>\n",
       "                        <td id=\"T_0186afba_1c64_11eb_bfe5_0242ac1c0002row9_col10\" class=\"data row9 col10\" >2</td>\n",
       "            </tr>\n",
       "            <tr>\n",
       "                        <th id=\"T_0186afba_1c64_11eb_bfe5_0242ac1c0002level0_row10\" class=\"row_heading level0 row10\" >Doc10</th>\n",
       "                        <td id=\"T_0186afba_1c64_11eb_bfe5_0242ac1c0002row10_col0\" class=\"data row10 col0\" >0.550000</td>\n",
       "                        <td id=\"T_0186afba_1c64_11eb_bfe5_0242ac1c0002row10_col1\" class=\"data row10 col1\" >0.010000</td>\n",
       "                        <td id=\"T_0186afba_1c64_11eb_bfe5_0242ac1c0002row10_col2\" class=\"data row10 col2\" >0.010000</td>\n",
       "                        <td id=\"T_0186afba_1c64_11eb_bfe5_0242ac1c0002row10_col3\" class=\"data row10 col3\" >0.340000</td>\n",
       "                        <td id=\"T_0186afba_1c64_11eb_bfe5_0242ac1c0002row10_col4\" class=\"data row10 col4\" >0.010000</td>\n",
       "                        <td id=\"T_0186afba_1c64_11eb_bfe5_0242ac1c0002row10_col5\" class=\"data row10 col5\" >0.010000</td>\n",
       "                        <td id=\"T_0186afba_1c64_11eb_bfe5_0242ac1c0002row10_col6\" class=\"data row10 col6\" >0.010000</td>\n",
       "                        <td id=\"T_0186afba_1c64_11eb_bfe5_0242ac1c0002row10_col7\" class=\"data row10 col7\" >0.010000</td>\n",
       "                        <td id=\"T_0186afba_1c64_11eb_bfe5_0242ac1c0002row10_col8\" class=\"data row10 col8\" >0.010000</td>\n",
       "                        <td id=\"T_0186afba_1c64_11eb_bfe5_0242ac1c0002row10_col9\" class=\"data row10 col9\" >0.010000</td>\n",
       "                        <td id=\"T_0186afba_1c64_11eb_bfe5_0242ac1c0002row10_col10\" class=\"data row10 col10\" >0</td>\n",
       "            </tr>\n",
       "            <tr>\n",
       "                        <th id=\"T_0186afba_1c64_11eb_bfe5_0242ac1c0002level0_row11\" class=\"row_heading level0 row11\" >Doc11</th>\n",
       "                        <td id=\"T_0186afba_1c64_11eb_bfe5_0242ac1c0002row11_col0\" class=\"data row11 col0\" >0.900000</td>\n",
       "                        <td id=\"T_0186afba_1c64_11eb_bfe5_0242ac1c0002row11_col1\" class=\"data row11 col1\" >0.010000</td>\n",
       "                        <td id=\"T_0186afba_1c64_11eb_bfe5_0242ac1c0002row11_col2\" class=\"data row11 col2\" >0.010000</td>\n",
       "                        <td id=\"T_0186afba_1c64_11eb_bfe5_0242ac1c0002row11_col3\" class=\"data row11 col3\" >0.010000</td>\n",
       "                        <td id=\"T_0186afba_1c64_11eb_bfe5_0242ac1c0002row11_col4\" class=\"data row11 col4\" >0.010000</td>\n",
       "                        <td id=\"T_0186afba_1c64_11eb_bfe5_0242ac1c0002row11_col5\" class=\"data row11 col5\" >0.010000</td>\n",
       "                        <td id=\"T_0186afba_1c64_11eb_bfe5_0242ac1c0002row11_col6\" class=\"data row11 col6\" >0.010000</td>\n",
       "                        <td id=\"T_0186afba_1c64_11eb_bfe5_0242ac1c0002row11_col7\" class=\"data row11 col7\" >0.010000</td>\n",
       "                        <td id=\"T_0186afba_1c64_11eb_bfe5_0242ac1c0002row11_col8\" class=\"data row11 col8\" >0.010000</td>\n",
       "                        <td id=\"T_0186afba_1c64_11eb_bfe5_0242ac1c0002row11_col9\" class=\"data row11 col9\" >0.010000</td>\n",
       "                        <td id=\"T_0186afba_1c64_11eb_bfe5_0242ac1c0002row11_col10\" class=\"data row11 col10\" >0</td>\n",
       "            </tr>\n",
       "            <tr>\n",
       "                        <th id=\"T_0186afba_1c64_11eb_bfe5_0242ac1c0002level0_row12\" class=\"row_heading level0 row12\" >Doc12</th>\n",
       "                        <td id=\"T_0186afba_1c64_11eb_bfe5_0242ac1c0002row12_col0\" class=\"data row12 col0\" >0.010000</td>\n",
       "                        <td id=\"T_0186afba_1c64_11eb_bfe5_0242ac1c0002row12_col1\" class=\"data row12 col1\" >0.010000</td>\n",
       "                        <td id=\"T_0186afba_1c64_11eb_bfe5_0242ac1c0002row12_col2\" class=\"data row12 col2\" >0.010000</td>\n",
       "                        <td id=\"T_0186afba_1c64_11eb_bfe5_0242ac1c0002row12_col3\" class=\"data row12 col3\" >0.010000</td>\n",
       "                        <td id=\"T_0186afba_1c64_11eb_bfe5_0242ac1c0002row12_col4\" class=\"data row12 col4\" >0.740000</td>\n",
       "                        <td id=\"T_0186afba_1c64_11eb_bfe5_0242ac1c0002row12_col5\" class=\"data row12 col5\" >0.010000</td>\n",
       "                        <td id=\"T_0186afba_1c64_11eb_bfe5_0242ac1c0002row12_col6\" class=\"data row12 col6\" >0.010000</td>\n",
       "                        <td id=\"T_0186afba_1c64_11eb_bfe5_0242ac1c0002row12_col7\" class=\"data row12 col7\" >0.160000</td>\n",
       "                        <td id=\"T_0186afba_1c64_11eb_bfe5_0242ac1c0002row12_col8\" class=\"data row12 col8\" >0.010000</td>\n",
       "                        <td id=\"T_0186afba_1c64_11eb_bfe5_0242ac1c0002row12_col9\" class=\"data row12 col9\" >0.010000</td>\n",
       "                        <td id=\"T_0186afba_1c64_11eb_bfe5_0242ac1c0002row12_col10\" class=\"data row12 col10\" >4</td>\n",
       "            </tr>\n",
       "            <tr>\n",
       "                        <th id=\"T_0186afba_1c64_11eb_bfe5_0242ac1c0002level0_row13\" class=\"row_heading level0 row13\" >Doc13</th>\n",
       "                        <td id=\"T_0186afba_1c64_11eb_bfe5_0242ac1c0002row13_col0\" class=\"data row13 col0\" >0.020000</td>\n",
       "                        <td id=\"T_0186afba_1c64_11eb_bfe5_0242ac1c0002row13_col1\" class=\"data row13 col1\" >0.020000</td>\n",
       "                        <td id=\"T_0186afba_1c64_11eb_bfe5_0242ac1c0002row13_col2\" class=\"data row13 col2\" >0.240000</td>\n",
       "                        <td id=\"T_0186afba_1c64_11eb_bfe5_0242ac1c0002row13_col3\" class=\"data row13 col3\" >0.020000</td>\n",
       "                        <td id=\"T_0186afba_1c64_11eb_bfe5_0242ac1c0002row13_col4\" class=\"data row13 col4\" >0.020000</td>\n",
       "                        <td id=\"T_0186afba_1c64_11eb_bfe5_0242ac1c0002row13_col5\" class=\"data row13 col5\" >0.020000</td>\n",
       "                        <td id=\"T_0186afba_1c64_11eb_bfe5_0242ac1c0002row13_col6\" class=\"data row13 col6\" >0.020000</td>\n",
       "                        <td id=\"T_0186afba_1c64_11eb_bfe5_0242ac1c0002row13_col7\" class=\"data row13 col7\" >0.020000</td>\n",
       "                        <td id=\"T_0186afba_1c64_11eb_bfe5_0242ac1c0002row13_col8\" class=\"data row13 col8\" >0.600000</td>\n",
       "                        <td id=\"T_0186afba_1c64_11eb_bfe5_0242ac1c0002row13_col9\" class=\"data row13 col9\" >0.020000</td>\n",
       "                        <td id=\"T_0186afba_1c64_11eb_bfe5_0242ac1c0002row13_col10\" class=\"data row13 col10\" >8</td>\n",
       "            </tr>\n",
       "            <tr>\n",
       "                        <th id=\"T_0186afba_1c64_11eb_bfe5_0242ac1c0002level0_row14\" class=\"row_heading level0 row14\" >Doc14</th>\n",
       "                        <td id=\"T_0186afba_1c64_11eb_bfe5_0242ac1c0002row14_col0\" class=\"data row14 col0\" >0.010000</td>\n",
       "                        <td id=\"T_0186afba_1c64_11eb_bfe5_0242ac1c0002row14_col1\" class=\"data row14 col1\" >0.010000</td>\n",
       "                        <td id=\"T_0186afba_1c64_11eb_bfe5_0242ac1c0002row14_col2\" class=\"data row14 col2\" >0.010000</td>\n",
       "                        <td id=\"T_0186afba_1c64_11eb_bfe5_0242ac1c0002row14_col3\" class=\"data row14 col3\" >0.470000</td>\n",
       "                        <td id=\"T_0186afba_1c64_11eb_bfe5_0242ac1c0002row14_col4\" class=\"data row14 col4\" >0.010000</td>\n",
       "                        <td id=\"T_0186afba_1c64_11eb_bfe5_0242ac1c0002row14_col5\" class=\"data row14 col5\" >0.480000</td>\n",
       "                        <td id=\"T_0186afba_1c64_11eb_bfe5_0242ac1c0002row14_col6\" class=\"data row14 col6\" >0.010000</td>\n",
       "                        <td id=\"T_0186afba_1c64_11eb_bfe5_0242ac1c0002row14_col7\" class=\"data row14 col7\" >0.010000</td>\n",
       "                        <td id=\"T_0186afba_1c64_11eb_bfe5_0242ac1c0002row14_col8\" class=\"data row14 col8\" >0.010000</td>\n",
       "                        <td id=\"T_0186afba_1c64_11eb_bfe5_0242ac1c0002row14_col9\" class=\"data row14 col9\" >0.010000</td>\n",
       "                        <td id=\"T_0186afba_1c64_11eb_bfe5_0242ac1c0002row14_col10\" class=\"data row14 col10\" >5</td>\n",
       "            </tr>\n",
       "    </tbody></table>"
      ],
      "text/plain": [
       "<pandas.io.formats.style.Styler at 0x7ff6e1310ba8>"
      ]
     },
     "execution_count": 330,
     "metadata": {
      "tags": []
     },
     "output_type": "execute_result"
    }
   ],
   "source": [
    "# Get dominant topic for each document\n",
    "dominant_topic = np.argmax(df_document_topic.values, axis=1)\n",
    "df_document_topic['dominant_topic'] = dominant_topic\n",
    "\n",
    "# Styling\n",
    "def color_green(val):\n",
    "    color = 'green' if val > .1 else 'black'\n",
    "    return 'color: {col}'.format(col=color)\n",
    "\n",
    "def make_bold(val):\n",
    "    weight = 700 if val > .1 else 400\n",
    "    return 'font-weight: {weight}'.format(weight=weight)\n",
    "\n",
    "# Apply Style\n",
    "df_document_topics = df_document_topic.head(15).style.applymap(color_green).applymap(make_bold)\n",
    "df_document_topics"
   ]
  },
  {
   "cell_type": "code",
   "execution_count": 331,
   "metadata": {
    "colab": {
     "base_uri": "https://localhost:8080/",
     "height": 359
    },
    "id": "36NepMFyfmre",
    "outputId": "931eac70-45d5-415a-89f6-c1ba08d7d243"
   },
   "outputs": [
    {
     "data": {
      "text/html": [
       "<div>\n",
       "<style scoped>\n",
       "    .dataframe tbody tr th:only-of-type {\n",
       "        vertical-align: middle;\n",
       "    }\n",
       "\n",
       "    .dataframe tbody tr th {\n",
       "        vertical-align: top;\n",
       "    }\n",
       "\n",
       "    .dataframe thead th {\n",
       "        text-align: right;\n",
       "    }\n",
       "</style>\n",
       "<table border=\"1\" class=\"dataframe\">\n",
       "  <thead>\n",
       "    <tr style=\"text-align: right;\">\n",
       "      <th></th>\n",
       "      <th>Topic Num</th>\n",
       "      <th>Num Documents</th>\n",
       "    </tr>\n",
       "  </thead>\n",
       "  <tbody>\n",
       "    <tr>\n",
       "      <th>0</th>\n",
       "      <td>4</td>\n",
       "      <td>1150</td>\n",
       "    </tr>\n",
       "    <tr>\n",
       "      <th>1</th>\n",
       "      <td>0</td>\n",
       "      <td>947</td>\n",
       "    </tr>\n",
       "    <tr>\n",
       "      <th>2</th>\n",
       "      <td>6</td>\n",
       "      <td>595</td>\n",
       "    </tr>\n",
       "    <tr>\n",
       "      <th>3</th>\n",
       "      <td>8</td>\n",
       "      <td>537</td>\n",
       "    </tr>\n",
       "    <tr>\n",
       "      <th>4</th>\n",
       "      <td>1</td>\n",
       "      <td>462</td>\n",
       "    </tr>\n",
       "    <tr>\n",
       "      <th>5</th>\n",
       "      <td>9</td>\n",
       "      <td>455</td>\n",
       "    </tr>\n",
       "    <tr>\n",
       "      <th>6</th>\n",
       "      <td>5</td>\n",
       "      <td>455</td>\n",
       "    </tr>\n",
       "    <tr>\n",
       "      <th>7</th>\n",
       "      <td>2</td>\n",
       "      <td>454</td>\n",
       "    </tr>\n",
       "    <tr>\n",
       "      <th>8</th>\n",
       "      <td>3</td>\n",
       "      <td>434</td>\n",
       "    </tr>\n",
       "    <tr>\n",
       "      <th>9</th>\n",
       "      <td>7</td>\n",
       "      <td>338</td>\n",
       "    </tr>\n",
       "  </tbody>\n",
       "</table>\n",
       "</div>"
      ],
      "text/plain": [
       "   Topic Num  Num Documents\n",
       "0          4           1150\n",
       "1          0            947\n",
       "2          6            595\n",
       "3          8            537\n",
       "4          1            462\n",
       "5          9            455\n",
       "6          5            455\n",
       "7          2            454\n",
       "8          3            434\n",
       "9          7            338"
      ]
     },
     "execution_count": 331,
     "metadata": {
      "tags": []
     },
     "output_type": "execute_result"
    }
   ],
   "source": [
    "df_topic_distribution = df_document_topic['dominant_topic'].value_counts().reset_index(name=\"Num Documents\")\n",
    "df_topic_distribution.columns = ['Topic Num', 'Num Documents']\n",
    "df_topic_distribution"
   ]
  },
  {
   "cell_type": "code",
   "execution_count": 332,
   "metadata": {
    "colab": {
     "base_uri": "https://localhost:8080/",
     "height": 881
    },
    "id": "xhhZdsu9fqJE",
    "outputId": "16cd16fa-34fc-4752-ad6b-8e05dbd41df0"
   },
   "outputs": [
    {
     "data": {
      "text/html": [
       "\n",
       "<link rel=\"stylesheet\" type=\"text/css\" href=\"https://cdn.rawgit.com/bmabey/pyLDAvis/files/ldavis.v1.0.0.css\">\n",
       "\n",
       "\n",
       "<div id=\"ldavis_el1031406984202457526076615026\"></div>\n",
       "<script type=\"text/javascript\">\n",
       "\n",
       "var ldavis_el1031406984202457526076615026_data = {\"mdsDat\": {\"x\": [32.42095184326172, 0.648955225944519, 71.01968383789062, 3.7859814167022705, -42.666500091552734, -3.6216893196105957, -3.632401704788208, -36.58440017700195, 44.391380310058594, 40.235809326171875], \"y\": [8.115229606628418, 71.70709991455078, 9.971006393432617, 33.18513488769531, -9.22206974029541, -43.52651596069336, -4.171707630157471, 35.804412841796875, 50.61538314819336, -31.591665267944336], \"topics\": [1, 2, 3, 4, 5, 6, 7, 8, 9, 10], \"cluster\": [1, 1, 1, 1, 1, 1, 1, 1, 1, 1], \"Freq\": [16.211204010091105, 13.41132952398798, 12.503739383122959, 11.32723027743769, 11.281864675774681, 8.6996630034796, 7.920676901778126, 7.1676789721692975, 6.002520240902666, 5.474093011255894]}, \"tinfo\": {\"Term\": [\"good\", \"mobile\", \"camera\", \"battery\", \"nice\", \"buy\", \"product\", \"phone\", \"lenovo\", \"price\", \"bad\", \"note\", \"screen\", \"charging\", \"best\", \"worst\", \"quality\", \"money\", \"amazon\", \"poor\", \"excellent\", \"service\", \"feature\", \"working\", \"charge\", \"network\", \"problem\", \"backup\", \"month\", \"issue\", \"drained\", \"charge\", \"drains\", \"takes\", \"4000mah\", \"charged\", \"capacity\", \"fastly\", \"watching\", \"quickly\", \"minimum\", \"draining\", \"mind\", \"hour\", \"drain\", \"turbo\", \"lasting\", \"overheating\", \"heated\", \"hold\", \"charging\", \"minute\", \"hot\", \"min\", \"hrs\", \"slight\", \"recent\", \"long\", \"rapidly\", \"usage\", \"100\", \"fully\", \"battery\", \"heat\", \"gets\", \"fast\", \"charger\", \"mah\", \"slow\", \"getting\", \"time\", \"backup\", \"4000\", \"heating\", \"day\", \"use\", \"normal\", \"issue\", \"phone\", \"using\", \"like\", \"problem\", \"mobile\", \"good\", \"life\", \"worst\", \"depth\", \"sensor\", \"finger\", \"print\", \"bokeh\", \"selfie\", \"snapdragon\", \"impressive\", \"improvement\", \"photography\", \"object\", \"space\", \"player\", \"handy\", \"mode\", \"cell\", \"improve\", \"fingerprint\", \"rear\", \"processer\", \"g5s\", \"effect\", \"focus\", \"honor\", \"coz\", \"management\", \"internal\", \"flash\", \"noise\", \"background\", \"dual\", \"music\", \"photo\", \"camera\", \"picture\", \"light\", \"memory\", \"average\", \"ram\", \"low\", \"good\", \"quality\", \"better\", \"sound\", \"speaker\", \"need\", \"work\", \"phone\", \"performance\", \"update\", \"app\", \"battery\", \"use\", \"great\", \"like\", \"overall\", \"beast\", \"beautiful\", \"apart\", \"looking\", \"super\", \"late\", \"cool\", \"awesome\", \"drawback\", \"superb\", \"loved\", \"amazing\", \"little\", \"good\", \"delivery\", \"bit\", \"specially\", \"bettery\", \"overall\", \"segment\", \"hitting\", \"size\", \"worth\", \"smooth\", \"weight\", \"backup\", \"easy\", \"handling\", \"handle\", \"game\", \"clarity\", \"price\", \"heating\", \"performance\", \"quality\", \"camera\", \"nice\", \"expected\", \"phone\", \"battery\", \"really\", \"product\", \"best\", \"sound\", \"problem\", \"display\", \"issue\", \"great\", \"fast\", \"feature\", \"better\", \"center\", \"warranty\", \"repair\", \"resolved\", \"horrible\", \"contacted\", \"saying\", \"decision\", \"visited\", \"reboot\", \"told\", \"changed\", \"dead\", \"2018\", \"care\", \"mistake\", \"service\", \"forum\", \"period\", \"customer\", \"centre\", \"extremely\", \"wait\", \"sir\", \"help\", \"cheating\", \"switching\", \"resolve\", \"sale\", \"absolutely\", \"regret\", \"useless\", \"solution\", \"bought\", \"oreo\", \"issue\", \"people\", \"amazon\", \"lenovo\", \"phone\", \"buying\", \"week\", \"update\", \"refund\", \"hope\", \"buy\", \"know\", \"day\", \"month\", \"replacement\", \"got\", \"worst\", \"problem\", \"time\", \"support\", \"note\", \"using\", \"device\", \"heating\", \"charging\", \"like\", \"jio\", \"lte\", \"strength\", \"fault\", \"customization\", \"shortcut\", \"volta\", \"try\", \"k8note\", \"menu\", \"venom\", \"network\", \"select\", \"airtel\", \"report\", \"automatically\", \"volte\", \"message\", \"vibe\", \"sims\", \"signal\", \"home\", \"par\", \"1st\", \"msg\", \"separate\", \"kindly\", \"tech\", \"sim\", \"ask\", \"incoming\", \"setting\", \"change\", \"note\", \"wifi\", \"volume\", \"voice\", \"option\", \"connect\", \"lenovo\", \"compare\", \"calling\", \"slot\", \"restart\", \"app\", \"support\", \"mobile\", \"problem\", \"available\", \"working\", \"device\", \"contact\", \"time\", \"handset\", \"like\", \"phone\", \"issue\", \"screen\", \"apps\", \"good\", \"poor\", \"better\", \"day\", \"using\", \"feature\", \"thank\", \"deca\", \"mirroring\", \"cast\", \"guard\", \"curved\", \"core\", \"edge\", \"tempered\", \"cracked\", \"sucks\", \"fit\", \"mirror\", \"stock\", \"iphone\", \"purpose\", \"fan\", \"yes\", \"manufacturing\", \"cons\", \"common\", \"resolution\", \"daily\", \"split\", \"screen\", \"difficult\", \"considering\", \"movie\", \"thanks\", \"specs\", \"android\", \"decent\", \"small\", \"smartphone\", \"glass\", \"great\", \"plus\", \"feature\", \"audio\", \"gorilla\", \"lenovo\", \"price\", \"really\", \"display\", \"phone\", \"processor\", \"note\", \"basic\", \"best\", \"range\", \"thing\", \"like\", \"option\", \"camera\", \"quality\", \"amazon\", \"5mp\", \"total\", \"blurred\", \"photos\", \"offer\", \"process\", \"directly\", \"pixel\", \"metal\", \"value\", \"wasted\", \"condition\", \"dslr\", \"return\", \"64gb\", \"piece\", \"money\", \"hours\", \"information\", \"bed\", \"lenova\", \"seller\", \"damage\", \"waste\", \"trust\", \"poor\", \"policy\", \"want\", \"hate\", \"exchange\", \"result\", \"application\", \"worst\", \"pls\", \"bad\", \"quality\", \"product\", \"suggest\", \"pic\", \"camera\", \"amazon\", \"buy\", \"charger\", \"phone\", \"working\", \"feel\", \"performance\", \"received\", \"battery\", \"lenovo\", \"video\", \"like\", \"mobile\", \"dual\", \"hai\", \"nahi\", \"defective\", \"bhi\", \"damaged\", \"aur\", \"broken\", \"raha\", \"fall\", \"koi\", \"mera\", \"bahut\", \"ago\", \"cash\", \"selling\", \"replaced\", \"happy\", \"india\", \"supplied\", \"checked\", \"asked\", \"loss\", \"updating\", \"happened\", \"badly\", \"foot\", \"delivered\", \"broke\", \"stopped\", \"deal\", \"month\", \"gorilla\", \"glass\", \"bad\", \"got\", \"new\", \"product\", \"speaker\", \"working\", \"properly\", \"amazon\", \"purchase\", \"problem\", \"handset\", \"replacement\", \"experience\", \"day\", \"use\", \"bought\", \"received\", \"mobile\", \"bluetooth\", \"phone\", \"using\", \"service\", \"time\", \"lenovo\", \"quality\", \"screen\", \"reasonable\", \"dnt\", \"bye\", \"osm\", \"mat\", \"suggestion\", \"nhi\", \"wonderful\", \"earphone\", \"head\", \"connection\", \"failed\", \"15k\", \"suck\", \"required\", \"simply\", \"dis\", \"special\", \"prefer\", \"box\", \"liked\", \"wrost\", \"awsome\", \"gud\", \"watch\", \"recommend\", \"plz\", \"hanging\", \"smart\", \"2000\", \"dont\", \"buy\", \"range\", \"price\", \"mobile\", \"purchase\", \"ear\", \"phone\", \"worst\", \"best\", \"product\", \"waste\", \"missing\", \"better\", \"given\", \"available\", \"heating\", \"problem\", \"totally\", \"money\", \"like\", \"using\", \"worth\", \"issue\", \"invoice\", \"excellent\", \"features\", \"killer\", \"pack\", \"processing\", \"meet\", \"lack\", \"functioning\", \"nice\", \"date\", \"dolby\", \"performing\", \"friendly\", \"atmos\", \"perfect\", \"budget\", \"love\", \"needs\", \"recorder\", \"auto\", \"14k\", \"facility\", \"word\", \"look\", \"shown\", \"wise\", \"upgrade\", \"miss\", \"best\", \"headphone\", \"class\", \"mobile\", \"feature\", \"user\", \"good\", \"phone\", \"awesome\", \"performance\", \"version\", \"sound\", \"working\", \"product\", \"great\", \"like\", \"camera\", \"experience\", \"lenovo\", \"note\"], \"Freq\": [2642.0, 1300.0, 1845.0, 1781.0, 486.0, 680.0, 1070.0, 3566.0, 1248.0, 492.0, 507.0, 734.0, 408.0, 606.0, 389.0, 500.0, 738.0, 340.0, 527.0, 402.0, 200.0, 300.0, 433.0, 637.0, 288.0, 260.0, 828.0, 361.0, 284.0, 841.0, 36.866796029891674, 278.9423682092855, 92.43532909746575, 148.16048059330257, 62.303672198918726, 68.75444558438666, 19.456214213173684, 19.454998325877536, 17.520181939518814, 73.05695417259783, 13.647413468062652, 93.16515697604106, 9.77640094317771, 246.44715668387153, 132.40982450593822, 206.99597616961958, 12.465004715887437, 24.708796031113028, 91.53324775941554, 17.036433518529623, 501.37723029153676, 40.85357842849121, 71.39278233315416, 31.762788713600735, 12.336185755406573, 8.414035717467108, 10.686119990032255, 61.60716601180511, 9.843760869310978, 109.43017835646666, 59.85961391423957, 50.6243625891971, 1083.9454688762462, 168.428283894513, 116.08549781701313, 249.45912883019594, 164.53860372598567, 60.06656700909233, 87.20996864283394, 127.05309636625428, 249.85153494078605, 173.54544199206603, 53.6864654100684, 262.51530111471214, 188.08308290859912, 153.60070131594856, 73.25704278394926, 216.3001200947752, 482.3441549021531, 133.262143245847, 152.08898501806888, 177.3417478950298, 187.59574449127012, 182.65326056704436, 80.956176113144, 86.44268562738715, 147.19437266499062, 58.72116967144239, 47.79387355847209, 38.85063070343379, 38.74181265147868, 55.50273134466875, 17.98473933433827, 16.990343136464126, 23.158126731693546, 12.022911366011973, 11.02932774722875, 21.113507725137094, 32.105012623094744, 10.035657001978382, 180.48295348524766, 40.8264750405151, 35.76070870413571, 28.541482204440698, 113.80725275800741, 12.936719665538373, 9.299084349361602, 62.271714834282875, 27.327797580357064, 19.724900143194795, 11.4949921940799, 25.17954684035009, 22.66236232162926, 70.56325270412792, 11.92745920097003, 16.778974951119842, 222.91752078011837, 98.78359854555046, 65.80339053233781, 842.6697134956394, 62.58320818649146, 78.61716271340427, 55.85275673555142, 96.44235437061958, 84.28497731482419, 91.18286174364783, 520.5564592584474, 203.5886308723492, 118.22277531651302, 106.95977874639442, 80.5685306384404, 63.78696980314181, 84.93787681732614, 241.43792989912387, 98.60954928728135, 78.14813744803533, 61.81452462344545, 119.2131431916461, 73.98735009710265, 61.00331276243909, 62.26294108099595, 58.91210005728886, 11.480797305327004, 13.147876065094176, 13.872861956889283, 65.88110144040506, 73.07782890793094, 11.108151829270245, 25.294417585917817, 207.33137445682928, 18.424702236269393, 58.92472662236472, 18.499095974030244, 79.32889730592161, 61.04509510416732, 1596.721915889127, 66.55695532373696, 47.87269229044448, 10.994461084584197, 9.794913561348876, 112.1527546884803, 19.10842140889379, 9.95189614755708, 9.372227234007354, 80.667121914759, 39.89017024791301, 15.429172461173193, 184.8153934622293, 13.322847252258933, 8.793574443783587, 7.317340885545784, 61.454741656417845, 30.553749299706148, 194.20689133996663, 261.7275896185796, 188.4173697507094, 257.00950344495897, 544.7348462858221, 171.7486342431438, 52.56877474122144, 723.8860424658121, 415.44654132017365, 80.68494690056427, 218.51161103403945, 104.7375589740222, 82.53836371565889, 152.18469152549696, 65.44972893318433, 136.93217060175564, 79.92740757486372, 90.03357349971913, 72.98517412679438, 66.60917341003267, 94.77173807161054, 54.05345266160592, 20.460910642673454, 17.40699236886886, 16.386909857337475, 14.353162953246184, 19.069255672515524, 13.308743891586097, 12.317257194795399, 11.296818576102803, 24.32162686237397, 14.75050754353477, 17.197078031435126, 19.47507639738657, 55.706361884736694, 15.7109433808398, 256.76919640402, 10.24545951011432, 10.028699026065873, 100.18594296135595, 52.501639809682466, 12.928861345941861, 16.693747222550588, 17.754333404887813, 58.15026566496928, 12.229370375665974, 9.150551990444262, 11.388967731491858, 27.9891880433655, 15.869442455609668, 17.403106777145066, 37.69577358230531, 23.556990709031272, 102.73723023286281, 52.510861033054184, 319.9726406666633, 36.13030309224352, 194.19891798881417, 342.27136489183397, 714.6581961064097, 55.5965717742485, 47.26325330358546, 112.31159021474886, 41.513193094574774, 35.08859983667025, 164.2090405101538, 40.81031171975191, 97.60045849402847, 73.36461134214991, 40.380775699417924, 57.83944481952385, 82.84983524474332, 93.33905498081205, 77.9333337711458, 45.24161001554968, 67.80244305192387, 57.066798994134686, 45.20979859826228, 50.088598726550174, 47.80777547712792, 46.1726170693488, 84.02369822496206, 28.737774804105975, 19.846891034467802, 12.936815854753693, 11.949302003832084, 11.948628662178827, 37.8147700735067, 31.056655919519933, 11.714248202943045, 11.705769884055588, 17.458334236888863, 218.35640924251007, 12.329602021359065, 10.635102828211537, 9.811019025327964, 64.81507157599785, 23.477601292371133, 36.183239849355985, 27.188629049973017, 13.468986727144568, 88.58357248972457, 16.48478549914616, 18.08987192836933, 15.567385345451772, 10.812851977024113, 12.236334460434659, 19.964842961679768, 9.974138847359338, 147.16601528282914, 12.192601334789314, 23.29090695860852, 25.900329388679875, 37.44499954644888, 448.7180910816376, 52.554220837063, 37.718474106756986, 37.77870326975025, 127.3638767956957, 29.775200861632275, 458.7094617896076, 45.56629590744403, 37.62729907962046, 43.07904173000959, 33.8045025159362, 73.95186315536225, 64.26739236828529, 274.71160970296575, 197.7964450902752, 56.59719783902545, 131.1639831623219, 71.4861556383998, 39.54328075221471, 103.57037845263203, 43.58532750216294, 80.23950080560876, 158.04496013645556, 87.99552894405556, 69.01000976013759, 47.51271382151181, 72.46041585181482, 51.818318944000936, 48.78069369740296, 50.564533079755016, 45.06212328474704, 44.474124282546505, 46.92393982649061, 48.65713504749279, 24.530731915689177, 115.24444504813465, 17.405608241621856, 16.38774000741775, 64.34073926844982, 14.351854129139962, 12.316230037728772, 12.31621772852697, 11.297894379100232, 13.156300985203936, 11.85749768543253, 77.8230056457294, 11.51690459834051, 10.375521235726106, 10.96404686564202, 16.770842210603792, 8.324625259227174, 17.991331832849752, 8.244627589720196, 19.514107774778296, 10.213245218465556, 8.538610772771571, 286.44589789330456, 12.62230669359349, 9.100395196848712, 10.0280013711952, 42.857095888667395, 11.967053564896124, 97.17736396080207, 33.61991969714626, 20.73930006998423, 41.139259761023574, 57.275007547889096, 121.66048767037873, 35.529608132789534, 135.7076800445457, 30.89509456959007, 34.01320808360126, 214.72177593994837, 112.56632386677009, 70.73213935319203, 65.53272177638536, 329.6344661082043, 53.75933672025922, 112.98287803180416, 28.963620032084044, 64.63911383730813, 44.77000465717819, 37.48984790393659, 53.32726490719594, 37.405928254729226, 42.05545371551325, 36.87032650181695, 34.26632385925572, 27.576731673011732, 20.71210698051451, 10.830107879589573, 9.914209226116085, 29.527922147896295, 23.625830386951076, 10.734448625494165, 11.556585284993004, 11.512265790842182, 92.78359104875123, 15.616657554343861, 29.458946260831816, 10.612748801970884, 164.85552768013386, 16.341952101366967, 38.48499537390865, 250.43627136688372, 10.698973726875128, 7.803133675545687, 12.435175334478483, 11.654898310270088, 12.859188758891449, 11.414823966564903, 107.67889914000378, 13.3201225713896, 233.3480630726807, 24.07836268673639, 84.68716744678446, 7.3606527368662205, 17.08885791783743, 16.185117999033487, 33.631218487155586, 192.36871351117807, 32.64584019870414, 149.34425613975662, 189.5522821387725, 234.0972026144642, 30.00256421887187, 24.354832569338562, 286.203791104833, 120.77011953754078, 139.3395121277416, 57.079427307506755, 209.44275280009475, 78.291865868559, 30.523907481115582, 61.78269167495413, 32.278590082367145, 78.8455528841633, 57.09309147755844, 31.782720546209507, 36.953108030591125, 41.661228009920244, 32.648832788451294, 116.81609814508944, 32.022149554129854, 53.20619024743677, 26.036693761101127, 23.043933828248626, 18.056103806473825, 34.05644588280462, 14.065794577165128, 13.068170898783496, 18.47152181743805, 10.067743031817617, 19.01352370153756, 21.023588617558524, 14.225030989032776, 12.479124495305204, 23.409844474254633, 64.675005732874, 8.080282317398902, 9.064801257185026, 13.208258633554468, 14.375514237369064, 9.446389590265797, 13.424005300147464, 10.727012951887714, 6.75292800073624, 6.80216590671139, 29.135868970680242, 12.696047473191713, 23.636921598467392, 15.637489384081753, 153.23097542486425, 41.64837656759461, 63.75674855707122, 235.31379807641216, 101.53536037928352, 63.47751379978845, 344.2494335186435, 85.48078145597304, 219.9026626223411, 79.54657588128046, 154.05598396064389, 52.18830564760851, 146.9747009706515, 38.36032940888554, 36.0695797893213, 46.37113177780654, 67.54903358262504, 60.12391943924744, 43.87266747710762, 36.94060329408373, 87.99554201802759, 36.04383397041332, 74.72298397930491, 43.08592849009771, 40.4648346859733, 42.88303186904732, 45.906840318953044, 39.94166473311508, 37.53808949276564, 18.01685039996311, 14.035193313379189, 13.039788722510389, 11.048971307394208, 11.048965378684679, 22.93713837116081, 21.93599665083733, 16.834056765949672, 76.21642152355416, 23.390706914523076, 33.501235176252415, 9.058051449027884, 8.92449631686973, 12.51225966841078, 12.556330233363433, 15.305670473648616, 12.894410475085005, 9.686054250404014, 8.871569994344847, 60.924041230400796, 16.643186963795795, 16.670640797308426, 9.883218211539102, 39.04086621593395, 9.099003624960524, 39.01306218429341, 51.39810694108412, 76.42364468404195, 49.01833321860051, 7.878293131692888, 68.17198553066811, 312.5502107913363, 105.85059388219457, 176.77303756679194, 306.2413907618069, 61.53721697060174, 25.551852627262527, 406.68820349131033, 113.71277053932675, 66.43254581673132, 112.25577537142053, 42.42014102640676, 27.442065607039794, 49.26683523052225, 23.978363151366228, 30.972035352617954, 55.60176822212954, 55.24915357922617, 25.853902856741335, 37.40468558173534, 36.887962651104274, 31.503883953471203, 28.128980321757943, 30.109149713300127, 20.711703258296918, 176.5197925441262, 38.27053347019106, 71.7359624527929, 8.654199620866681, 13.547986325856288, 8.050861375051353, 15.937366644402374, 7.950908315583535, 299.322302530401, 22.398783898414425, 87.43905833268589, 9.952744374687681, 18.962250680269598, 50.00365104265897, 37.529625013455096, 51.675221233636506, 38.69861802482965, 8.990642269535437, 23.562567842596483, 17.338375333034122, 11.930662107959547, 9.888940500625704, 6.444600970379628, 57.15642561807807, 8.191937530880029, 14.91722304581138, 5.922112594038841, 5.054208099132081, 152.90419884896136, 31.396812474613018, 14.026183644960852, 378.8606852435654, 131.6862617410277, 30.077889582714448, 230.7182358813023, 225.78586977988653, 48.27613627821871, 58.692856860779706, 17.427988837357162, 41.17855073275438, 57.697916645442554, 68.41934629732556, 38.75492891573723, 44.07558649560245, 66.14377514303341, 27.406896267318118, 40.8288065002432, 30.53031010251526], \"Total\": [2642.0, 1300.0, 1845.0, 1781.0, 486.0, 680.0, 1070.0, 3566.0, 1248.0, 492.0, 507.0, 734.0, 408.0, 606.0, 389.0, 500.0, 738.0, 340.0, 527.0, 402.0, 200.0, 300.0, 433.0, 637.0, 288.0, 260.0, 828.0, 361.0, 284.0, 841.0, 37.77228949783635, 288.9236348011128, 95.95209845920269, 154.17586739258292, 64.89898134538282, 71.75462671958758, 20.34848981677734, 20.348552579570008, 18.412544747947234, 77.55202653390998, 14.54069460634695, 100.88838000711948, 10.6687482727042, 271.25993024437014, 148.78324720651267, 237.61903352804183, 14.531219031410016, 29.123577961511614, 108.66069330580466, 20.42754751944151, 606.2001773514443, 49.57550104657175, 86.6849157915344, 38.878052868495935, 15.540764640838301, 10.675486203205244, 13.61300904646438, 78.61375989056968, 12.643842495563721, 141.32854619230267, 82.2166413328186, 69.08456526272785, 1781.8736922666105, 251.92879750237805, 169.78248330218617, 403.57832997576946, 256.5410159017081, 85.38169349643867, 137.41008998128362, 219.2754217193149, 580.2656628252438, 361.2896341572952, 77.62060292917268, 689.2491713526387, 483.69715803014697, 396.64274551348666, 123.37715008296412, 841.4873772831806, 3566.6455596687556, 393.7571136360834, 533.735941919267, 828.5249719739645, 1300.974730497478, 2642.4779089834733, 190.43618202665897, 500.19635396512973, 149.02695639496724, 59.61353895358597, 48.6835977863295, 39.7408481506105, 39.735929673013295, 57.60775623190337, 18.874475814344468, 17.880816341735375, 24.826747035126427, 12.912650287728342, 11.91901390507893, 22.824693482407767, 34.761788337651836, 10.925376293022467, 199.43863692608315, 45.7184867342007, 40.66229456046026, 32.73224206677441, 130.59364111411807, 14.904180020833214, 10.915348130853888, 73.22033590731526, 32.73012930774012, 23.803622612632346, 13.887886339079817, 30.690849432443354, 27.768976274696076, 87.28745466546778, 14.846283804231192, 20.91433389116923, 283.8483398529822, 129.1265002075164, 85.29515612748612, 1845.4351624115782, 93.43869964559403, 124.22024555542548, 83.40020782286317, 166.37235518944945, 159.0981587768322, 204.43013378123408, 2642.4779089834733, 738.7056544991443, 337.2233740797552, 300.7105890496933, 196.88316969245213, 156.1632762356154, 266.94343627485375, 3566.6455596687556, 504.7033068418959, 336.041025434324, 171.55593430732293, 1781.8736922666105, 396.64274551348666, 313.83388680797333, 533.735941919267, 198.93881629166802, 13.370330413586842, 16.243739308800638, 17.230137627312153, 83.49000892598438, 94.63938592608329, 14.436969206180546, 34.35957296991832, 285.41841837010054, 27.9233371849429, 91.57496835631297, 29.147425891944877, 126.438124155246, 98.60936830161347, 2642.4779089834733, 110.37306129773923, 80.15842761404454, 19.35335125054289, 17.248817423780103, 198.93881629166802, 34.155864872066026, 18.313232256070222, 17.36951109659274, 154.08771571250765, 76.63766659272143, 30.03950892099749, 361.2896341572952, 26.16161931845558, 18.446755889669486, 15.3628684732935, 130.07322942780718, 68.99956163493512, 492.62616242655844, 689.2491713526387, 504.7033068418959, 738.7056544991443, 1845.4351624115782, 486.3602060749838, 124.5662443712759, 3566.6455596687556, 1781.8736922666105, 240.7540990934482, 1070.7914345430374, 389.3081074864001, 300.7105890496933, 828.5249719739645, 213.88303526651967, 841.4873772831806, 313.83388680797333, 403.57832997576946, 433.09734803169476, 337.2233740797552, 95.6589873374584, 54.940713398063515, 21.3481389600024, 18.294266754518837, 17.2762675458859, 15.240397834463081, 20.319020753410957, 14.221495525224986, 13.204484235656334, 12.186441506763378, 26.402020239263486, 16.2459281097957, 19.28502532073338, 22.306250748982812, 63.927753978657584, 18.233725916697693, 300.3750700360767, 12.186442089153584, 12.161087640343878, 123.60520870013467, 64.88540262048882, 16.13843893575355, 21.266942247411794, 23.168846305351053, 76.6742277293546, 16.16455045976249, 12.162563794971572, 15.151866833115003, 37.238676111416055, 21.148227354785227, 23.284993576791056, 51.398244617570306, 32.37748894013022, 187.565059111788, 87.97059464228334, 841.4873772831806, 59.8746492663919, 527.0985331592377, 1248.9278817492227, 3566.6455596687556, 108.98060089736785, 88.88349830805838, 336.041025434324, 76.1834032613129, 60.36453527202777, 680.555708809249, 86.85143358171356, 483.69715803014697, 284.75761685414824, 93.35234178999342, 228.03229471627992, 500.19635396512973, 828.5249719739645, 580.2656628252438, 144.90532485464072, 734.3228394346273, 393.7571136360834, 239.14183422196163, 689.2491713526387, 606.2001773514443, 533.735941919267, 84.93121644238958, 29.628064690092483, 20.740169543334822, 13.827203811450296, 12.83964984838262, 12.83964483913566, 42.482961207679566, 35.462483012696865, 13.864740298564936, 13.863716904809175, 20.788082143482757, 260.9730101018049, 14.824581487613194, 12.831753257580997, 11.85918538039871, 78.87647833772331, 28.659138510928283, 44.597504486302796, 33.74728296929172, 16.854496703858462, 111.25810262875115, 20.719862232608115, 22.829993085806006, 19.84618548593002, 13.844957988958225, 15.697392964517398, 25.63583850301457, 12.827787111515779, 190.00220088999043, 15.785973752893875, 30.813597284940155, 34.787442481429345, 51.41732332368841, 734.3228394346273, 76.65499853317755, 53.44998893683103, 55.37067609258055, 230.65367399359135, 42.668466760611715, 1248.9278817492227, 72.80709148531534, 58.06956193289832, 74.45325220783253, 55.7952599550904, 171.55593430732293, 144.90532485464072, 1300.974730497478, 828.5249719739645, 127.17652498623723, 637.3322266919688, 239.14183422196163, 77.57081391724941, 580.2656628252438, 100.62081261276174, 533.735941919267, 3566.6455596687556, 841.4873772831806, 408.9080788705356, 141.57228276071461, 2642.4779089834733, 402.60008588111634, 337.2233740797552, 483.69715803014697, 393.7571136360834, 433.09734803169476, 47.811232124034255, 49.83977752846459, 25.417991968420008, 120.95026220449958, 18.292869761933208, 17.27499528453446, 68.08919459645266, 15.239243719550162, 13.203496508517985, 13.203496447557184, 12.185620986914312, 15.203628432022528, 14.168778406230945, 94.16791943881847, 14.132285379150717, 13.179737242515081, 14.221560399099333, 22.135479550648643, 11.082940280087268, 24.13982762127928, 11.127147845069258, 26.430510434637217, 14.068374854216339, 12.11990668762665, 408.9080788705356, 18.122479153705623, 13.12692182104756, 15.136283627685863, 64.87607356655232, 18.162312182882093, 172.20472952026046, 57.718632278102, 34.09158158451001, 79.4906236161842, 121.83796626447815, 313.83388680797333, 71.20032946451532, 433.09734803169476, 63.2744306246268, 76.48291276611371, 1248.9278817492227, 492.62616242655844, 240.7540990934482, 213.88303526651967, 3566.6455596687556, 168.94756508933054, 734.3228394346273, 69.00575562695839, 389.3081074864001, 219.70571392160045, 173.1984180983639, 533.735941919267, 230.65367399359135, 1845.4351624115782, 738.7056544991443, 527.0985331592377, 28.474281014705102, 21.603030839887555, 11.789255726921658, 10.805207360079239, 32.474055885658984, 27.601949578732487, 12.784012479297084, 13.766014023638709, 13.760867483584196, 116.99264471275296, 19.74913104552186, 37.30856655688821, 13.833032993535571, 217.87757004857235, 21.62944832785812, 52.23899524286218, 340.41547158008785, 14.770149523596647, 10.859470938135937, 17.726573201186852, 16.79581411473504, 18.839439269568146, 16.824108641498643, 169.07859512719259, 22.8105735988462, 402.60008588111634, 41.793859409273374, 146.99639881275274, 12.79575010500214, 29.880807517851924, 28.56543191215072, 64.81999631030709, 500.19635396512973, 69.30070432855027, 507.8163623332359, 738.7056544991443, 1070.7914345430374, 63.54227920720643, 48.10826089376101, 1845.4351624115782, 527.0985331592377, 680.555708809249, 256.5410159017081, 3566.6455596687556, 637.3322266919688, 104.26761194449703, 504.7033068418959, 120.38567841741711, 1781.8736922666105, 1248.9278817492227, 133.8649653817567, 533.735941919267, 1300.974730497478, 283.8483398529822, 117.70537829623927, 32.911430084919026, 54.845902189421125, 26.925974778587985, 23.933247429878655, 18.9453681177594, 35.89664661571095, 14.95506461738528, 13.957488557537479, 19.941680981660745, 10.964919212425697, 20.961635544464727, 25.94294102168989, 17.830557892383933, 15.87596036546379, 29.862246830518625, 84.55523972517504, 11.00535531920911, 12.92576412466116, 18.896665855446763, 20.85088216975597, 13.906391592687187, 19.800063309983944, 17.031128359129085, 10.924294165574798, 11.010696337186648, 48.34114384786039, 21.090238837082016, 40.18253215760932, 28.075943216500022, 284.75761685414824, 76.48291276611371, 121.83796626447815, 507.8163623332359, 228.03229471627992, 133.42782809521992, 1070.7914345430374, 196.88316969245213, 637.3322266919688, 192.55557133019173, 527.0985331592377, 154.2480041257387, 828.5249719739645, 100.62081261276174, 93.35234178999342, 185.99791510443248, 483.69715803014697, 396.64274551348666, 187.565059111788, 120.38567841741711, 1300.974730497478, 129.13979466538527, 3566.6455596687556, 393.7571136360834, 300.3750700360767, 580.2656628252438, 1248.9278817492227, 738.7056544991443, 408.9080788705356, 18.90635016362714, 14.924717226704248, 13.929308779321369, 11.938491538878106, 11.938492991317052, 24.902546060614167, 23.907266704011818, 18.921328821772143, 86.80605416966036, 26.798253352191175, 38.914627009246885, 10.965544740135782, 10.911967431623815, 15.85071874783867, 15.975968489865432, 19.9051038272629, 16.85187070873899, 12.901235231025371, 11.943234404770056, 83.41776059897109, 22.864450093020373, 23.008672151404838, 13.781594184804797, 57.15540226915156, 14.018577198681175, 62.959390656989775, 84.77918347735609, 127.35407174152103, 83.96675643248683, 13.766189740328475, 131.53016689169235, 680.555708809249, 219.70571392160045, 492.62616242655844, 1300.974730497478, 154.2480041257387, 47.998456132759344, 3566.6455596687556, 500.19635396512973, 389.3081074864001, 1070.7914345430374, 169.07859512719259, 81.77275327352908, 337.2233740797552, 61.51376704988617, 127.17652498623723, 689.2491713526387, 828.5249719739645, 78.16426593251765, 340.41547158008785, 533.735941919267, 393.7571136360834, 154.08771571250765, 841.4873772831806, 21.60258142062631, 200.074818249189, 48.13481870313031, 94.02232387850222, 11.86961549929203, 18.599226641186384, 12.715081106465632, 25.63652582182868, 12.823427484616687, 486.3602060749838, 37.41116138786799, 146.95223140411247, 16.748813902459325, 32.544856283908544, 85.86880874804586, 66.47869695055758, 100.09096855539394, 80.13225534402628, 18.76284363594382, 49.23679517587492, 36.51092240344761, 26.66080233775309, 22.626002153890287, 14.809102153293413, 132.9858312723619, 19.71015993544326, 36.438017141820076, 14.843645567839364, 12.731186341279138, 389.3081074864001, 80.6597514551531, 35.7427218114336, 1300.974730497478, 433.09734803169476, 97.61820416119508, 2642.4779089834733, 3566.6455596687556, 285.41841837010054, 504.7033068418959, 54.58123533943552, 300.7105890496933, 637.3322266919688, 1070.7914345430374, 313.83388680797333, 533.735941919267, 1845.4351624115782, 185.99791510443248, 1248.9278817492227, 734.3228394346273], \"Category\": [\"Default\", \"Default\", \"Default\", \"Default\", \"Default\", \"Default\", \"Default\", \"Default\", \"Default\", \"Default\", \"Default\", \"Default\", \"Default\", \"Default\", \"Default\", \"Default\", \"Default\", \"Default\", \"Default\", \"Default\", \"Default\", \"Default\", \"Default\", \"Default\", \"Default\", \"Default\", \"Default\", \"Default\", \"Default\", \"Default\", \"Topic1\", \"Topic1\", \"Topic1\", \"Topic1\", \"Topic1\", \"Topic1\", \"Topic1\", \"Topic1\", \"Topic1\", \"Topic1\", \"Topic1\", \"Topic1\", \"Topic1\", \"Topic1\", \"Topic1\", \"Topic1\", \"Topic1\", \"Topic1\", \"Topic1\", \"Topic1\", \"Topic1\", \"Topic1\", \"Topic1\", \"Topic1\", \"Topic1\", \"Topic1\", \"Topic1\", \"Topic1\", \"Topic1\", \"Topic1\", \"Topic1\", \"Topic1\", \"Topic1\", \"Topic1\", \"Topic1\", \"Topic1\", \"Topic1\", \"Topic1\", \"Topic1\", \"Topic1\", \"Topic1\", \"Topic1\", \"Topic1\", \"Topic1\", \"Topic1\", \"Topic1\", \"Topic1\", \"Topic1\", \"Topic1\", \"Topic1\", \"Topic1\", \"Topic1\", \"Topic1\", \"Topic1\", \"Topic1\", \"Topic1\", \"Topic2\", \"Topic2\", \"Topic2\", \"Topic2\", \"Topic2\", \"Topic2\", \"Topic2\", \"Topic2\", \"Topic2\", \"Topic2\", \"Topic2\", \"Topic2\", \"Topic2\", \"Topic2\", \"Topic2\", \"Topic2\", \"Topic2\", \"Topic2\", \"Topic2\", \"Topic2\", \"Topic2\", \"Topic2\", \"Topic2\", \"Topic2\", \"Topic2\", \"Topic2\", \"Topic2\", \"Topic2\", \"Topic2\", \"Topic2\", \"Topic2\", \"Topic2\", \"Topic2\", \"Topic2\", \"Topic2\", \"Topic2\", \"Topic2\", \"Topic2\", \"Topic2\", \"Topic2\", \"Topic2\", \"Topic2\", \"Topic2\", \"Topic2\", \"Topic2\", \"Topic2\", \"Topic2\", \"Topic2\", \"Topic2\", \"Topic2\", \"Topic2\", \"Topic2\", \"Topic2\", \"Topic2\", \"Topic2\", \"Topic2\", \"Topic3\", \"Topic3\", \"Topic3\", \"Topic3\", \"Topic3\", \"Topic3\", \"Topic3\", \"Topic3\", \"Topic3\", \"Topic3\", \"Topic3\", \"Topic3\", \"Topic3\", \"Topic3\", \"Topic3\", \"Topic3\", \"Topic3\", \"Topic3\", \"Topic3\", \"Topic3\", \"Topic3\", \"Topic3\", \"Topic3\", \"Topic3\", \"Topic3\", \"Topic3\", \"Topic3\", \"Topic3\", \"Topic3\", \"Topic3\", \"Topic3\", \"Topic3\", \"Topic3\", \"Topic3\", \"Topic3\", \"Topic3\", \"Topic3\", \"Topic3\", \"Topic3\", \"Topic3\", \"Topic3\", \"Topic3\", \"Topic3\", \"Topic3\", \"Topic3\", \"Topic3\", \"Topic3\", \"Topic3\", \"Topic3\", \"Topic3\", \"Topic3\", \"Topic4\", \"Topic4\", \"Topic4\", \"Topic4\", \"Topic4\", \"Topic4\", \"Topic4\", \"Topic4\", \"Topic4\", \"Topic4\", \"Topic4\", \"Topic4\", \"Topic4\", \"Topic4\", \"Topic4\", \"Topic4\", \"Topic4\", \"Topic4\", \"Topic4\", \"Topic4\", \"Topic4\", \"Topic4\", \"Topic4\", \"Topic4\", \"Topic4\", \"Topic4\", \"Topic4\", \"Topic4\", \"Topic4\", \"Topic4\", \"Topic4\", \"Topic4\", \"Topic4\", \"Topic4\", \"Topic4\", \"Topic4\", \"Topic4\", \"Topic4\", \"Topic4\", \"Topic4\", \"Topic4\", \"Topic4\", \"Topic4\", \"Topic4\", \"Topic4\", \"Topic4\", \"Topic4\", \"Topic4\", \"Topic4\", \"Topic4\", \"Topic4\", \"Topic4\", \"Topic4\", \"Topic4\", \"Topic4\", \"Topic4\", \"Topic4\", \"Topic4\", \"Topic4\", \"Topic4\", \"Topic4\", \"Topic5\", \"Topic5\", \"Topic5\", \"Topic5\", \"Topic5\", \"Topic5\", \"Topic5\", \"Topic5\", \"Topic5\", \"Topic5\", \"Topic5\", \"Topic5\", \"Topic5\", \"Topic5\", \"Topic5\", \"Topic5\", \"Topic5\", \"Topic5\", \"Topic5\", \"Topic5\", \"Topic5\", \"Topic5\", \"Topic5\", \"Topic5\", \"Topic5\", \"Topic5\", \"Topic5\", \"Topic5\", \"Topic5\", \"Topic5\", \"Topic5\", \"Topic5\", \"Topic5\", \"Topic5\", \"Topic5\", \"Topic5\", \"Topic5\", \"Topic5\", \"Topic5\", \"Topic5\", \"Topic5\", \"Topic5\", \"Topic5\", \"Topic5\", \"Topic5\", \"Topic5\", \"Topic5\", \"Topic5\", \"Topic5\", \"Topic5\", \"Topic5\", \"Topic5\", \"Topic5\", \"Topic5\", \"Topic5\", \"Topic5\", \"Topic5\", \"Topic5\", \"Topic5\", \"Topic5\", \"Topic5\", \"Topic5\", \"Topic5\", \"Topic5\", \"Topic5\", \"Topic6\", \"Topic6\", \"Topic6\", \"Topic6\", \"Topic6\", \"Topic6\", \"Topic6\", \"Topic6\", \"Topic6\", \"Topic6\", \"Topic6\", \"Topic6\", \"Topic6\", \"Topic6\", \"Topic6\", \"Topic6\", \"Topic6\", \"Topic6\", \"Topic6\", \"Topic6\", \"Topic6\", \"Topic6\", \"Topic6\", \"Topic6\", \"Topic6\", \"Topic6\", \"Topic6\", \"Topic6\", \"Topic6\", \"Topic6\", \"Topic6\", \"Topic6\", \"Topic6\", \"Topic6\", \"Topic6\", \"Topic6\", \"Topic6\", \"Topic6\", \"Topic6\", \"Topic6\", \"Topic6\", \"Topic6\", \"Topic6\", \"Topic6\", \"Topic6\", \"Topic6\", \"Topic6\", \"Topic6\", \"Topic6\", \"Topic6\", \"Topic6\", \"Topic6\", \"Topic6\", \"Topic6\", \"Topic6\", \"Topic6\", \"Topic7\", \"Topic7\", \"Topic7\", \"Topic7\", \"Topic7\", \"Topic7\", \"Topic7\", \"Topic7\", \"Topic7\", \"Topic7\", \"Topic7\", \"Topic7\", \"Topic7\", \"Topic7\", \"Topic7\", \"Topic7\", \"Topic7\", \"Topic7\", \"Topic7\", \"Topic7\", \"Topic7\", \"Topic7\", \"Topic7\", \"Topic7\", \"Topic7\", \"Topic7\", \"Topic7\", \"Topic7\", \"Topic7\", \"Topic7\", \"Topic7\", \"Topic7\", \"Topic7\", \"Topic7\", \"Topic7\", \"Topic7\", \"Topic7\", \"Topic7\", \"Topic7\", \"Topic7\", \"Topic7\", \"Topic7\", \"Topic7\", \"Topic7\", \"Topic7\", \"Topic7\", \"Topic7\", \"Topic7\", \"Topic7\", \"Topic7\", \"Topic7\", \"Topic7\", \"Topic7\", \"Topic7\", \"Topic8\", \"Topic8\", \"Topic8\", \"Topic8\", \"Topic8\", \"Topic8\", \"Topic8\", \"Topic8\", \"Topic8\", \"Topic8\", \"Topic8\", \"Topic8\", \"Topic8\", \"Topic8\", \"Topic8\", \"Topic8\", \"Topic8\", \"Topic8\", \"Topic8\", \"Topic8\", \"Topic8\", \"Topic8\", \"Topic8\", \"Topic8\", \"Topic8\", \"Topic8\", \"Topic8\", \"Topic8\", \"Topic8\", \"Topic8\", \"Topic8\", \"Topic8\", \"Topic8\", \"Topic8\", \"Topic8\", \"Topic8\", \"Topic8\", \"Topic8\", \"Topic8\", \"Topic8\", \"Topic8\", \"Topic8\", \"Topic8\", \"Topic8\", \"Topic8\", \"Topic8\", \"Topic8\", \"Topic8\", \"Topic8\", \"Topic8\", \"Topic8\", \"Topic8\", \"Topic8\", \"Topic8\", \"Topic8\", \"Topic8\", \"Topic8\", \"Topic8\", \"Topic8\", \"Topic9\", \"Topic9\", \"Topic9\", \"Topic9\", \"Topic9\", \"Topic9\", \"Topic9\", \"Topic9\", \"Topic9\", \"Topic9\", \"Topic9\", \"Topic9\", \"Topic9\", \"Topic9\", \"Topic9\", \"Topic9\", \"Topic9\", \"Topic9\", \"Topic9\", \"Topic9\", \"Topic9\", \"Topic9\", \"Topic9\", \"Topic9\", \"Topic9\", \"Topic9\", \"Topic9\", \"Topic9\", \"Topic9\", \"Topic9\", \"Topic9\", \"Topic9\", \"Topic9\", \"Topic9\", \"Topic9\", \"Topic9\", \"Topic9\", \"Topic9\", \"Topic9\", \"Topic9\", \"Topic9\", \"Topic9\", \"Topic9\", \"Topic9\", \"Topic9\", \"Topic9\", \"Topic9\", \"Topic9\", \"Topic9\", \"Topic9\", \"Topic9\", \"Topic9\", \"Topic9\", \"Topic9\", \"Topic10\", \"Topic10\", \"Topic10\", \"Topic10\", \"Topic10\", \"Topic10\", \"Topic10\", \"Topic10\", \"Topic10\", \"Topic10\", \"Topic10\", \"Topic10\", \"Topic10\", \"Topic10\", \"Topic10\", \"Topic10\", \"Topic10\", \"Topic10\", \"Topic10\", \"Topic10\", \"Topic10\", \"Topic10\", \"Topic10\", \"Topic10\", \"Topic10\", \"Topic10\", \"Topic10\", \"Topic10\", \"Topic10\", \"Topic10\", \"Topic10\", \"Topic10\", \"Topic10\", \"Topic10\", \"Topic10\", \"Topic10\", \"Topic10\", \"Topic10\", \"Topic10\", \"Topic10\", \"Topic10\", \"Topic10\", \"Topic10\", \"Topic10\", \"Topic10\", \"Topic10\", \"Topic10\", \"Topic10\", \"Topic10\"], \"logprob\": [30.0, 29.0, 28.0, 27.0, 26.0, 25.0, 24.0, 23.0, 22.0, 21.0, 20.0, 19.0, 18.0, 17.0, 16.0, 15.0, 14.0, 13.0, 12.0, 11.0, 10.0, 9.0, 8.0, 7.0, 6.0, 5.0, 4.0, 3.0, 2.0, 1.0, -5.7122, -3.6885, -4.793, -4.3212, -5.1875, -5.089, -6.3514, -6.3514, -6.4562, -5.0283, -6.706, -4.7851, -7.0395, -3.8124, -4.4336, -3.9868, -6.7966, -6.1124, -4.8028, -6.4842, -3.1022, -5.6095, -5.0513, -5.8612, -6.807, -7.1896, -6.9506, -5.1987, -7.0327, -4.6242, -5.2275, -5.3951, -2.3312, -4.193, -4.5652, -3.8002, -4.2164, -5.2241, -4.8512, -4.4749, -3.7987, -4.1631, -5.3364, -3.7492, -4.0826, -4.2852, -5.0255, -3.9429, -3.1409, -4.4272, -4.2951, -4.1414, -4.0852, -4.1119, -4.9256, -4.86, -4.1382, -5.0571, -5.263, -5.4702, -5.473, -5.1135, -6.2404, -6.2973, -5.9876, -6.6431, -6.7294, -6.08, -5.6609, -6.8238, -3.9343, -5.4206, -5.5531, -5.7786, -4.3954, -6.5698, -6.9, -4.9984, -5.822, -6.148, -6.688, -5.9039, -6.0092, -4.8734, -6.6511, -6.3098, -3.7231, -4.537, -4.9432, -2.3933, -4.9934, -4.7653, -5.1072, -4.561, -4.6957, -4.6171, -2.875, -3.8138, -4.3573, -4.4575, -4.7408, -4.9744, -4.688, -3.6433, -4.5387, -4.7713, -5.0058, -4.349, -4.826, -5.019, -4.9986, -5.0539, -6.6192, -6.4836, -6.4299, -4.872, -4.7683, -6.6522, -5.8293, -3.7255, -6.1462, -4.9836, -6.1421, -4.6862, -4.9482, -1.6841, -4.8618, -5.1913, -6.6625, -6.778, -4.34, -6.1097, -6.7621, -6.8221, -4.6695, -5.3737, -6.3236, -3.8405, -6.4704, -6.8858, -7.0696, -4.9415, -5.6404, -3.7909, -3.4925, -3.8212, -3.5107, -2.7595, -3.9138, -5.0977, -2.4752, -3.0305, -4.6693, -3.673, -4.4084, -4.6466, -4.0348, -4.8786, -4.1404, -4.6787, -4.5597, -4.7696, -4.861, -4.4096, -4.9711, -5.9425, -6.1042, -6.1645, -6.2971, -6.013, -6.3726, -6.45, -6.5365, -5.7697, -6.2698, -6.1163, -5.9919, -4.9409, -6.2067, -3.4128, -6.6342, -6.6556, -4.354, -5.0002, -6.4016, -6.146, -6.0844, -4.898, -6.4572, -6.7472, -6.5284, -5.6292, -6.1966, -6.1044, -5.3315, -5.8016, -4.3289, -5.0, -3.1928, -5.3739, -3.6921, -3.1254, -2.3892, -4.9429, -5.1053, -4.2398, -5.235, -5.4032, -3.8599, -5.2521, -4.3801, -4.6656, -5.2627, -4.9034, -4.544, -4.4248, -4.6052, -5.149, -4.7444, -4.9168, -5.1497, -5.0472, -5.0938, -5.1286, -4.5259, -5.5988, -5.969, -6.3969, -6.4763, -6.4764, -5.3243, -5.5212, -6.4962, -6.4969, -6.0972, -3.5709, -6.445, -6.5929, -6.6735, -4.7855, -5.801, -5.3684, -5.6542, -6.3566, -4.4731, -6.1546, -6.0617, -6.2118, -6.5763, -6.4526, -5.963, -6.657, -3.9655, -6.4562, -5.809, -5.7028, -5.3341, -2.8506, -4.9952, -5.3269, -5.3253, -4.11, -5.5633, -2.8286, -5.1378, -5.3293, -5.194, -5.4364, -4.6536, -4.794, -3.3413, -3.6698, -4.9211, -4.0806, -4.6875, -5.2796, -4.3168, -5.1823, -4.572, -3.8941, -4.4797, -4.7228, -5.096, -4.674, -5.0093, -5.0697, -5.0338, -5.149, -5.1621, -4.8486, -4.8123, -5.4972, -3.95, -5.8403, -5.9006, -4.5329, -6.0332, -6.1862, -6.1862, -6.2725, -6.1202, -6.2241, -4.3427, -6.2533, -6.3577, -6.3025, -5.8775, -6.5779, -5.8072, -6.5875, -5.726, -6.3734, -6.5525, -3.0396, -6.1616, -6.4888, -6.3917, -4.9392, -6.2149, -4.1206, -5.182, -5.6651, -4.9801, -4.6492, -3.8959, -5.1267, -3.7866, -5.2665, -5.1704, -3.3278, -3.9736, -4.4382, -4.5146, -2.8991, -4.7126, -3.9699, -5.3311, -4.5283, -4.8956, -5.073, -4.7207, -5.0753, -4.9581, -5.0897, -5.1629, -5.2863, -5.5726, -6.221, -6.3093, -5.218, -5.441, -6.2298, -6.156, -6.1599, -4.073, -5.855, -5.2203, -6.2412, -3.4982, -5.8096, -4.953, -3.0801, -6.2331, -6.5488, -6.0828, -6.1476, -6.0492, -6.1684, -3.9241, -6.014, -3.1508, -5.422, -4.1643, -6.6071, -5.7649, -5.8192, -5.0878, -3.3439, -5.1176, -3.597, -3.3586, -3.1476, -5.202, -5.4106, -2.9466, -3.8094, -3.6664, -4.5589, -3.2588, -4.2429, -5.1848, -4.4797, -5.1289, -4.2358, -4.5586, -5.1444, -4.9936, -4.8737, -5.1175, -3.7428, -5.037, -4.5292, -5.2439, -5.366, -5.6099, -4.9754, -5.8597, -5.9332, -5.5872, -6.1941, -5.5582, -5.4578, -5.8484, -5.9793, -5.3502, -4.334, -6.414, -6.299, -5.9226, -5.8379, -6.2578, -5.9064, -6.1306, -6.5934, -6.5862, -5.1314, -5.9621, -5.3406, -5.7537, -3.4715, -4.7741, -4.3483, -3.0425, -3.883, -4.3527, -2.662, -4.0551, -3.1102, -4.1271, -3.4661, -4.5485, -3.5131, -4.8564, -4.9179, -4.6667, -4.2905, -4.407, -4.7221, -4.8941, -4.0261, -4.9187, -4.1896, -4.7402, -4.803, -4.7449, -4.6768, -4.816, -4.878, -5.4347, -5.6844, -5.758, -5.9237, -5.9237, -5.1932, -5.2379, -5.5026, -3.9924, -5.1737, -4.8144, -6.1223, -6.1372, -5.7993, -5.7958, -5.5978, -5.7692, -6.0553, -6.1431, -4.2164, -5.514, -5.5123, -6.0352, -4.6614, -6.1178, -4.6621, -4.3864, -3.9897, -4.4338, -6.2619, -4.104, -2.5812, -3.664, -3.1511, -2.6016, -4.2064, -5.0853, -2.318, -3.5923, -4.1298, -3.6052, -4.5784, -5.0139, -4.4287, -5.1488, -4.8929, -4.3078, -4.3141, -5.0735, -4.7042, -4.7181, -4.8759, -4.9892, -4.9212, -5.2031, -3.0604, -4.5892, -3.9609, -6.0758, -5.6276, -6.1481, -5.4652, -6.1606, -2.5323, -5.1248, -3.7629, -5.936, -5.2914, -4.3217, -4.6087, -4.2889, -4.578, -6.0377, -5.0742, -5.3809, -5.7547, -5.9424, -6.3706, -4.1881, -6.1307, -5.5313, -6.4552, -6.6136, -3.204, -4.7871, -5.5929, -2.2967, -3.3534, -4.8301, -2.7926, -2.8143, -4.3569, -4.1615, -5.3758, -4.5159, -4.1786, -4.0082, -4.5766, -4.4479, -4.042, -4.923, -4.5245, -4.8151], \"loglift\": [30.0, 29.0, 28.0, 27.0, 26.0, 25.0, 24.0, 23.0, 22.0, 21.0, 20.0, 19.0, 18.0, 17.0, 16.0, 15.0, 14.0, 13.0, 12.0, 11.0, 10.0, 9.0, 8.0, 7.0, 6.0, 5.0, 4.0, 3.0, 2.0, 1.0, 1.7952, 1.7843, 1.7821, 1.7797, 1.7787, 1.7768, 1.7746, 1.7746, 1.7698, 1.7598, 1.7561, 1.7398, 1.7321, 1.7235, 1.7029, 1.6815, 1.6661, 1.6551, 1.6479, 1.6379, 1.6296, 1.626, 1.6254, 1.6173, 1.5885, 1.5814, 1.5774, 1.5757, 1.5691, 1.5637, 1.5021, 1.5086, 1.3224, 1.4168, 1.4393, 1.3384, 1.3753, 1.4678, 1.3648, 1.2737, 0.9768, 1.0862, 1.4508, 0.8542, 0.8749, 0.8708, 1.2982, 0.461, -0.1813, 0.7361, 0.564, 0.2779, -0.1171, -0.8524, 0.9641, 0.0639, 1.9967, 1.994, 1.9906, 1.9864, 1.9837, 1.9718, 1.9608, 1.958, 1.9395, 1.9377, 1.9315, 1.9311, 1.9296, 1.9241, 1.9092, 1.8959, 1.8806, 1.8721, 1.8715, 1.8675, 1.8488, 1.8471, 1.8287, 1.8211, 1.82, 1.8111, 1.8059, 1.7964, 1.7902, 1.7888, 1.7674, 1.7412, 1.7496, 1.2252, 1.6083, 1.5516, 1.6081, 1.4638, 1.3738, 1.2017, 0.3845, 0.7203, 0.9609, 0.9754, 1.1156, 1.1137, 0.864, -0.6837, 0.3763, 0.5504, 0.9883, -0.6954, 0.3299, 0.3711, -0.1395, 0.7921, 1.9268, 1.8677, 1.8624, 1.8423, 1.8206, 1.817, 1.7728, 1.7595, 1.6634, 1.6382, 1.6245, 1.613, 1.5996, 1.5754, 1.5733, 1.5637, 1.5137, 1.5133, 1.506, 1.4983, 1.4693, 1.4622, 1.432, 1.4262, 1.4129, 1.4088, 1.4043, 1.3383, 1.3374, 1.3293, 1.2645, 1.1483, 1.1108, 1.0938, 1.0234, 0.859, 1.0382, 1.2164, 0.4844, 0.6231, 0.9859, 0.4898, 0.7662, 0.7863, 0.3846, 0.895, 0.2635, 0.7114, 0.579, 0.2984, 0.4572, 2.1686, 2.1617, 2.1355, 2.1282, 2.1251, 2.118, 2.1145, 2.1116, 2.1084, 2.1022, 2.0959, 2.0814, 2.0634, 2.0422, 2.0403, 2.029, 2.0211, 2.0045, 1.9852, 1.9679, 1.9662, 1.9562, 1.9358, 1.9118, 1.9014, 1.899, 1.8934, 1.8925, 1.8924, 1.8908, 1.8868, 1.8679, 1.8599, 1.576, 1.662, 1.211, 1.6728, 1.1795, 0.8835, 0.5704, 1.5049, 1.5464, 1.082, 1.5708, 1.6354, 0.7562, 1.4227, 0.5774, 0.8218, 1.3399, 0.8061, 0.38, -0.0054, 0.1703, 1.0139, -0.2044, 0.2464, 0.5122, -0.4438, -0.3621, -0.2696, 2.1712, 2.1515, 2.1379, 2.1154, 2.1101, 2.1101, 2.0656, 2.0493, 2.0134, 2.0128, 2.0074, 2.0037, 1.9977, 1.9942, 1.9924, 1.9856, 1.9825, 1.9729, 1.9659, 1.9577, 1.9541, 1.9533, 1.9493, 1.9391, 1.9348, 1.9329, 1.932, 1.9304, 1.9265, 1.9237, 1.9021, 1.887, 1.8649, 1.6894, 1.8045, 1.8334, 1.7997, 1.5881, 1.8222, 1.1803, 1.7133, 1.7481, 1.6348, 1.6809, 1.3405, 1.3689, 0.6268, 0.7496, 1.3724, 0.6011, 0.9744, 1.5082, 0.4587, 1.3453, 0.2871, -0.9345, -0.0759, 0.4027, 1.0902, -1.4145, 0.1318, 0.2486, -0.0762, 0.0143, -0.0941, 2.4232, 2.4179, 2.4064, 2.3936, 2.3922, 2.3892, 2.3853, 2.3819, 2.3723, 2.3723, 2.3662, 2.2973, 2.2638, 2.2512, 2.2372, 2.2027, 2.1817, 2.1643, 2.1557, 2.1479, 2.1421, 2.1385, 2.1216, 2.0916, 2.0859, 2.0802, 2.0755, 2.0302, 2.0273, 2.0247, 1.8697, 1.9014, 1.9449, 1.7832, 1.6871, 1.4943, 1.7468, 1.2814, 1.725, 1.6316, 0.6812, 0.9657, 1.217, 1.259, 0.0605, 1.2968, 0.5702, 1.5737, 0.6463, 0.8511, 0.9115, 0.1384, 0.6228, -1.3396, -0.5556, -0.2913, 2.5037, 2.4936, 2.4508, 2.4496, 2.4406, 2.3801, 2.361, 2.3607, 2.3573, 2.3039, 2.3009, 2.2995, 2.2707, 2.2568, 2.2554, 2.2301, 2.2287, 2.2132, 2.2052, 2.1812, 2.1703, 2.1538, 2.1478, 2.0845, 1.9977, 1.9903, 1.9843, 1.9842, 1.9827, 1.9769, 1.9676, 1.8795, 1.5801, 1.783, 1.3118, 1.1755, 1.0153, 1.7853, 1.855, 0.6719, 1.0622, 0.9497, 1.0328, -0.2992, 0.4388, 1.3072, 0.4353, 1.2194, -0.5822, -0.5497, 1.0978, -0.1346, -0.9056, 0.3731, 2.628, 2.6082, 2.6052, 2.602, 2.5977, 2.5875, 2.583, 2.5743, 2.5698, 2.559, 2.5502, 2.538, 2.4253, 2.4097, 2.3948, 2.3921, 2.3676, 2.3266, 2.2808, 2.2774, 2.2637, 2.2489, 2.2469, 2.1733, 2.1546, 2.154, 2.1293, 2.1281, 2.105, 2.0503, 2.0159, 2.0278, 1.988, 1.8664, 1.8265, 1.8927, 1.5008, 1.8013, 1.5715, 1.7515, 1.4055, 1.5519, 0.9062, 1.6713, 1.6847, 1.2465, 0.667, 0.749, 1.1828, 1.4542, -0.058, 1.3594, -1.23, 0.4231, 0.631, 0.0306, -0.6678, -0.2819, 0.2475, 2.7648, 2.7515, 2.747, 2.7356, 2.7356, 2.7308, 2.7269, 2.6961, 2.6829, 2.677, 2.6632, 2.6219, 2.6119, 2.5765, 2.5721, 2.5502, 2.5453, 2.5264, 2.5157, 2.4988, 2.4954, 2.4908, 2.4805, 2.4318, 2.3808, 2.3344, 2.3125, 2.3023, 2.2748, 2.2549, 2.1558, 2.0348, 2.0827, 1.7881, 1.3665, 1.8941, 2.1825, 0.6417, 1.3317, 1.0448, 0.5576, 1.4303, 1.7211, 0.8895, 1.8709, 1.4005, 0.2956, 0.1052, 1.7066, 0.6046, 0.141, 0.2874, 1.1123, -0.5174, 2.863, 2.7799, 2.6758, 2.6346, 2.5892, 2.5883, 2.4481, 2.4298, 2.4272, 2.4197, 2.3922, 2.386, 2.3847, 2.365, 2.3644, 2.3334, 2.244, 2.1773, 2.1694, 2.1682, 2.1605, 2.1011, 2.0775, 2.0731, 2.0607, 2.0272, 2.012, 1.9863, 1.9813, 1.9706, 1.9616, 1.9697, 1.6714, 1.7146, 1.7279, 0.4669, 0.1453, 1.1281, 0.7535, 1.7635, 0.9169, 0.5031, 0.1546, 0.8135, 0.4111, -0.4235, 0.9902, -0.5155, -0.2751]}, \"token.table\": {\"Topic\": [1, 4, 5, 6, 1, 2, 4, 9, 10, 1, 9, 4, 5, 3, 5, 7, 9, 4, 5, 1, 6, 1, 7, 7, 5, 7, 1, 2, 4, 4, 5, 8, 5, 7, 2, 3, 4, 9, 10, 4, 5, 6, 7, 8, 9, 1, 2, 4, 6, 8, 10, 2, 3, 1, 2, 4, 5, 6, 10, 1, 3, 6, 7, 9, 1, 2, 3, 4, 5, 6, 10, 5, 7, 7, 8, 2, 5, 6, 10, 2, 5, 6, 7, 8, 10, 8, 1, 5, 8, 10, 1, 5, 7, 9, 2, 5, 6, 7, 8, 9, 1, 2, 3, 6, 7, 10, 3, 6, 10, 3, 9, 2, 6, 1, 2, 3, 6, 10, 1, 2, 4, 5, 7, 8, 9, 3, 6, 8, 9, 6, 8, 1, 5, 6, 7, 9, 1, 2, 3, 4, 5, 6, 7, 8, 10, 3, 9, 3, 10, 5, 7, 9, 3, 6, 9, 10, 1, 2, 3, 4, 5, 6, 7, 8, 9, 10, 1, 3, 8, 1, 2, 3, 2, 4, 5, 6, 8, 9, 7, 2, 1, 2, 4, 5, 6, 8, 9, 4, 7, 9, 4, 6, 8, 7, 8, 2, 3, 6, 10, 1, 2, 4, 5, 6, 7, 8, 9, 10, 1, 2, 3, 4, 5, 8, 9, 9, 1, 3, 5, 7, 1, 2, 3, 5, 6, 7, 9, 10, 1, 2, 4, 7, 8, 3, 8, 5, 6, 2, 8, 4, 4, 8, 4, 5, 6, 7, 4, 8, 1, 4, 1, 4, 1, 4, 7, 8, 10, 1, 2, 3, 4, 5, 7, 8, 4, 7, 8, 5, 8, 2, 3, 7, 6, 9, 10, 6, 8, 1, 2, 5, 1, 2, 5, 7, 2, 4, 5, 8, 4, 6, 9, 1, 6, 10, 2, 6, 2, 4, 5, 6, 9, 4, 1, 3, 2, 6, 2, 7, 6, 6, 4, 5, 7, 8, 5, 1, 6, 4, 5, 7, 8, 1, 4, 5, 9, 10, 1, 2, 3, 4, 5, 6, 7, 8, 9, 4, 9, 6, 8, 10, 6, 2, 3, 6, 7, 4, 7, 8, 1, 3, 4, 7, 8, 3, 4, 6, 7, 8, 2, 7, 1, 2, 3, 4, 5, 6, 7, 8, 9, 6, 7, 10, 2, 7, 1, 9, 10, 1, 2, 3, 6, 7, 8, 9, 10, 9, 1, 2, 9, 10, 1, 4, 7, 8, 9, 1, 2, 4, 7, 8, 1, 1, 4, 7, 1, 4, 7, 2, 3, 7, 6, 7, 2, 3, 5, 6, 7, 10, 4, 5, 7, 9, 6, 9, 2, 3, 5, 8, 6, 2, 3, 4, 6, 10, 4, 7, 1, 2, 3, 4, 6, 7, 8, 9, 10, 1, 2, 3, 4, 5, 6, 7, 8, 10, 1, 4, 5, 7, 10, 6, 9, 8, 4, 6, 1, 2, 3, 4, 6, 7, 1, 5, 1, 2, 3, 5, 6, 9, 10, 7, 9, 10, 1, 2, 4, 6, 7, 8, 2, 1, 2, 7, 10, 5, 6, 1, 2, 4, 7, 2, 7, 10, 6, 7, 8, 4, 6, 5, 6, 7, 10, 1, 3, 4, 5, 6, 10, 9, 10, 2, 7, 1, 2, 3, 1, 2, 3, 4, 5, 6, 7, 1, 2, 3, 4, 5, 8, 9, 2, 4, 5, 7, 8, 9, 10, 6, 8, 1, 2, 3, 5, 6, 7, 8, 10, 6, 8, 1, 2, 3, 4, 5, 6, 7, 8, 2, 3, 4, 6, 8, 9, 10, 6, 1, 3, 7, 9, 10, 8, 1, 3, 3, 5, 6, 2, 3, 5, 7, 8, 2, 1, 2, 4, 5, 7, 9, 2, 6, 8, 6, 8, 10, 5, 7, 1, 9, 2, 4, 6, 8, 9, 10, 1, 2, 3, 4, 5, 8, 9, 1, 7, 1, 2, 3, 4, 5, 7, 8, 9, 1, 4, 5, 7, 1, 3, 9, 1, 6, 10, 5, 7, 2, 7, 1, 2, 4, 6, 4, 1, 4, 5, 6, 8, 1, 4, 2, 7, 1, 7, 2, 1, 2, 9, 2, 10, 4, 5, 6, 6, 8, 6, 7, 9, 2, 3, 5, 10, 1, 6, 1, 2, 3, 4, 5, 7, 8, 9, 5, 5, 6, 4, 6, 10, 1, 5, 7, 1, 2, 4, 5, 9, 10, 8, 9, 2, 10, 1, 3, 3, 4, 6, 7, 8, 9, 1, 2, 4, 5, 6, 7, 8, 9, 10, 1, 2, 3, 4, 6, 7, 9, 10, 1, 2, 5, 6, 7, 1, 2, 3, 4, 5, 6, 7, 8, 9, 10, 2, 7, 9, 2, 3, 6, 1, 3, 4, 6, 1, 2, 6, 7, 10, 1, 3, 6, 9, 10, 5, 7, 8, 2, 3, 5, 6, 10, 3, 6, 8, 1, 2, 3, 5, 6, 7, 8, 9, 10, 5, 1, 6, 7, 1, 2, 5, 3, 6, 7, 9, 1, 10, 2, 3, 5, 6, 4, 5, 8, 1, 5, 6, 8, 5, 7, 1, 5, 9, 1, 1, 1, 2, 7, 8, 9, 6, 7, 6, 1, 5, 7, 10, 5, 6, 9, 10, 4, 7, 1, 3, 4, 5, 6, 7, 8, 9, 10, 1, 2, 5, 7, 4, 7, 8, 9, 10, 1, 2, 4, 6, 8, 2, 6, 1, 4, 5, 2, 5, 6, 7, 8, 1, 2, 4, 5, 6, 7, 1, 4, 5, 10, 4, 5, 1, 2, 4, 5, 6, 7, 8, 6, 9, 2, 3, 6, 10, 1, 2, 1, 2, 3, 4, 6, 8, 1, 2, 4, 5, 6, 7, 8, 10, 2, 6, 7, 2, 4, 5, 6, 7, 8, 9, 1, 2, 4, 6, 8, 9, 1, 2, 3, 7, 10, 1, 7, 9, 4, 10, 4, 5, 6, 4, 5, 6, 7, 9, 2, 6, 10, 1, 2, 3, 4, 6, 7, 8, 10, 1, 4, 6, 10, 4, 8, 1, 2, 3, 4, 5, 6, 7, 8, 9, 10, 2, 5, 7, 2, 7, 2, 3, 7, 9, 2, 3, 5, 7, 8, 7, 8, 2, 7, 2, 5, 1, 4, 5, 7, 8, 9, 1, 2, 6, 4, 5, 7, 9, 4, 5, 7, 1, 2, 4, 5, 6, 7, 8, 8, 9, 2, 3, 6, 9, 2, 1, 2, 3, 4, 5, 6, 7, 8, 9, 6, 7, 2, 8, 1, 10, 1, 2, 3, 6, 7, 1, 2, 3, 4, 5, 6, 7, 8, 9, 10, 1, 2, 4, 5, 6, 7, 8, 4, 5, 6, 8, 9, 4, 5, 6, 1, 2, 3, 4, 5, 6, 7, 8, 10, 1, 2, 8, 1, 2, 3, 5, 6, 7, 1, 2, 3, 6, 9, 10, 1, 5, 1, 2, 3, 4, 6, 7, 8, 2, 3, 7, 9, 4, 1, 4, 5, 7, 8, 9, 1, 5, 1, 4, 6, 7, 9, 5, 10, 4, 5, 7, 9, 1, 4, 6, 9, 4, 5, 8, 4, 5, 7, 8, 2, 5, 6, 9, 4, 6, 4, 5, 4, 1, 4, 5, 6, 9, 2, 7, 9, 10, 4, 5, 7, 8, 9, 1, 3, 4, 5, 7, 4, 2, 3, 4, 5, 6, 8, 3, 6, 9, 2, 5, 2, 7, 6, 7, 1, 8, 2, 3, 5, 4, 7, 8, 5, 6, 5, 2, 5, 10, 4, 5, 2, 5, 6, 2, 8, 9, 4, 5, 3, 4, 5, 7, 3, 5, 7, 1, 7, 2, 4, 5, 6, 1, 2, 3, 7, 9, 10, 3, 6, 7, 8, 10, 3, 5, 6, 9, 1, 2, 3, 6, 8, 10, 2, 3, 5, 6, 8, 10, 2, 4, 5, 6, 2, 3, 5, 6, 7, 8, 10, 2, 3, 7, 2, 5, 7, 8, 7, 9, 2, 3, 1, 4, 6, 2, 6, 1, 2, 4, 6, 10, 4, 6, 8, 9, 5, 1, 9, 6, 1, 4, 5, 6, 7, 6, 9, 1, 2, 3, 6, 2, 3, 6, 9, 10, 8, 9, 10, 4, 5, 6, 7, 4, 6, 9, 1, 4, 5, 7, 6, 6, 2, 4, 6, 7, 8, 1, 2, 3, 4, 5, 6, 8, 9, 10, 1, 2, 3, 4, 5, 6, 7, 8, 9, 10, 4, 5, 7, 1, 2, 3, 4, 8, 9, 2, 4, 7, 8, 3, 5, 7, 1, 2, 4, 7, 10, 1, 2, 4, 5, 6, 8, 1, 7, 8, 4, 5, 10, 1, 2, 4, 6, 1, 2, 4, 5, 6, 7, 8, 9, 1, 2, 4, 1, 2, 3, 4, 5, 6, 7, 8, 10, 1, 2, 3, 4, 5, 6, 7, 8, 9, 7, 9, 10, 2, 5, 6, 1, 2, 4, 5, 7, 8, 10, 4, 5, 6, 1, 2, 3, 4, 5, 6, 7, 9, 10, 4, 2, 5, 7, 9, 2, 5, 7, 4, 5, 7, 2, 5, 6, 4, 8, 9, 1, 2, 4, 5, 7, 4, 4, 7, 9, 10, 4, 7, 4, 9, 1, 1, 2, 3, 4, 8, 1, 2, 3, 4, 6, 10, 4, 5, 9, 1, 2, 4, 7, 10, 2, 6, 9, 1, 6, 9, 10, 1, 2, 4, 5, 6, 7, 8, 9, 10, 1, 2, 3, 4, 5, 6, 7, 8, 9, 10, 1, 2, 4, 5, 7, 8, 9, 1, 3, 4, 5, 6, 7, 8, 9, 4, 9, 1, 6], \"Freq\": [0.7297792639949361, 0.1337928650657383, 0.07297792639949362, 0.060814938666244676, 0.15003299410594972, 0.22504949115892459, 0.11252474557946229, 0.03750824852648743, 0.45009898231784917, 0.09164250225875074, 0.8247825203287567, 0.1511625497064337, 0.8062002651009798, 0.21792522525033983, 0.07264174175011327, 0.07264174175011327, 0.5811339340009062, 0.8517791812622935, 0.08966096644866246, 0.6956915813868899, 0.2963130809610828, 0.9553308652110444, 0.03081712468422724, 0.9833435297467154, 0.18493305697714502, 0.7397322279085801, 0.1418558609982594, 0.04728528699941979, 0.7565645919907167, 0.07709226175736503, 0.07709226175736503, 0.8094687484523329, 0.8572484039545571, 0.07793167308677793, 0.0711810623586081, 0.6248115473700045, 0.07909006928734234, 0.06327205542987388, 0.15027113164595046, 0.36805262734698624, 0.037943569829586216, 0.06450406871029656, 0.2295585974689966, 0.29216548768781386, 0.005691535474437932, 0.09871970443181059, 0.1219478701804719, 0.13936899449196788, 0.5632830194050369, 0.005807041437165329, 0.06968449724598394, 0.17411352508552136, 0.812529783732433, 0.03497401605036689, 0.3613981658537912, 0.017487008025183444, 0.431346197954525, 0.08743504012591723, 0.06411902942567263, 0.15427338119749154, 0.10799136683824406, 0.15427338119749154, 0.5245294960714711, 0.04628201435924746, 0.17658823826592515, 0.2119058859191102, 0.021190588591911017, 0.03531764765318503, 0.33904941747057626, 0.16246117920465114, 0.05650823624509605, 0.7601685007109661, 0.19004212517774152, 0.23979800755156816, 0.6714344211443909, 0.34937016638981516, 0.034937016638981515, 0.023291344425987678, 0.5822836106496919, 0.1422375501629112, 0.015804172240323468, 0.4899293394500275, 0.015804172240323468, 0.20545423912420507, 0.0948250334419408, 0.9501003035737684, 0.02738906426274164, 0.2191125141019331, 0.24650157836467476, 0.4656140924666079, 0.07606830485395101, 0.8240733025844693, 0.06339025404495917, 0.038034152426975505, 0.14939864099963526, 0.4481959229989058, 0.11008320915762598, 0.031452345473607424, 0.007863086368401856, 0.24375567742045753, 0.07212736747241157, 0.5770189397792925, 0.27047762802154335, 0.0060106139560342975, 0.012021227912068595, 0.06010613956034297, 0.7252510233294903, 0.10160521582876916, 0.1681741503372731, 0.21768163826124823, 0.7256054608708274, 0.8128396576463762, 0.1434422925258311, 0.48160806054082733, 0.0027678624169013067, 0.5120545471267417, 0.0027678624169013067, 0.0027678624169013067, 0.1516296159623773, 0.04726117900126046, 0.007876863166876743, 0.021661373708911042, 0.29341315296615866, 0.46276571105400865, 0.013784510542034301, 0.09153909486905358, 0.09153909486905358, 0.6407736640833751, 0.09153909486905358, 0.04770620106807776, 0.9064178202934775, 0.04347463443800033, 0.40576325475466973, 0.42025479956733647, 0.028983089625333552, 0.11593235850133421, 0.6083483945605096, 0.06678363372020354, 0.2329009075116342, 0.011785347127094743, 0.005050863054469176, 0.015713796169459657, 0.04433535347811832, 0.0033672420363127834, 0.011224140121042612, 0.8227171400956458, 0.07479246728142235, 0.8003083374378445, 0.12312435960582223, 0.05641248247196738, 0.6769497896636085, 0.16923744741590213, 0.26970925593597617, 0.16696287272227095, 0.16953153230261359, 0.3930049157924224, 0.06820405039468104, 0.3499164324596679, 0.1986813641932013, 0.0029653934954209146, 0.1453042812756248, 0.053377082917576466, 0.011861573981683658, 0.011861573981683658, 0.1453042812756248, 0.011861573981683658, 0.4058249228349673, 0.579749889764239, 0.965610352598104, 0.024950589221008877, 0.36178354370462873, 0.5988141413042131, 0.4026644159899545, 0.19358866153363197, 0.007743546461345278, 0.07743546461345278, 0.27876767260843005, 0.04646127876807167, 0.933052964054437, 0.9814794902480134, 0.0479833506444078, 0.0053314834049342, 0.5491427907082226, 0.0479833506444078, 0.0906352178838814, 0.2345852698171048, 0.0213259336197368, 0.035963564335207095, 0.22776924078964492, 0.7312591414825442, 0.04741529992736474, 0.3319070994915532, 0.6163988990557416, 0.027857755369336594, 0.9471636825574442, 0.08991820270995855, 0.21980005106878758, 0.1698454940076995, 0.5195273934353161, 0.05583672212005632, 0.0014693874242120084, 0.24097953757076937, 0.011755099393696067, 0.010285711969484058, 0.20424485196546915, 0.016163261666332092, 0.4599182637783586, 0.0014693874242120084, 0.06423161500634621, 0.0183518900018132, 0.275278350027198, 0.5138529200507697, 0.06423161500634621, 0.04587972500453301, 0.0091759450009066, 0.9332839271464091, 0.06888290296768829, 0.01722072574192207, 0.6543875781930387, 0.2583108861288311, 0.030887023917715715, 0.4568028274146377, 0.2953232988623696, 0.002167510450366015, 0.02275885972884316, 0.15497699720117009, 0.0010837552251830075, 0.03576392243103925, 0.9337302262271321, 0.015642658122070927, 0.8759888548359719, 0.015642658122070927, 0.07821329061035463, 0.11216698950593527, 0.7851689265415469, 0.04133930682635585, 0.9508040570061846, 0.8967925871730366, 0.0874919597241987, 0.9931110776331588, 0.8168247072456977, 0.18494144314996927, 0.038897396260971495, 0.7196018308279727, 0.038897396260971495, 0.17503828317437173, 0.9233082836895942, 0.06155388557930628, 0.9656530875089399, 0.031150099597062577, 0.961610465477683, 0.02787276711529516, 0.6431720067063997, 0.03118409729485575, 0.2221866932258472, 0.09745030404642421, 0.0038980121618569685, 0.8264596724285441, 0.0032992402092955854, 0.05773670366267274, 0.07918176502309406, 0.009897720627886757, 0.006598480418591171, 0.014846580941830135, 0.7423652163956509, 0.12372753606594182, 0.06186376803297091, 0.2645969420345549, 0.6879520492898428, 0.4202925252400014, 0.44927821663586354, 0.13043561128137973, 0.13988861918178178, 0.4476435813817017, 0.391688133708989, 0.7189623173331895, 0.17974057933329737, 0.2334937387717071, 0.13734925810100418, 0.6318065872646192, 0.05360699122413064, 0.02680349561206532, 0.10721398244826127, 0.7773013727498942, 0.0703095336617385, 0.11718255610289752, 0.7030953366173851, 0.09374604488231801, 0.07709183488478871, 0.02569727829492957, 0.8737074620276054, 0.20712658261041164, 0.7456556973974819, 0.04142531652208233, 0.2285379650231354, 0.6856138950694062, 0.2191545910313017, 0.0644572326562652, 0.5156578612501216, 0.10313157225002433, 0.09024012571877128, 0.9186111906043442, 0.23283176444026155, 0.7275992638758174, 0.04405985439804711, 0.9399435604916716, 0.7920571735273028, 0.14401039518678233, 0.9088501706849138, 0.9261941746707216, 0.8090273949749097, 0.016180547899498195, 0.04045136974874549, 0.12944438319598556, 0.9346049262793261, 0.2132442468364347, 0.710814156121449, 0.23775405195218066, 0.059438512988045165, 0.6538236428684968, 0.9610062348365824, 0.05345998161523467, 0.026729990807617336, 0.2138399264609387, 0.10691996323046934, 0.5880597977675813, 0.3886729472747547, 0.09096600893664472, 0.028943730116205137, 0.20260611081343596, 0.10543787399474729, 0.02274150223416118, 0.018606683646131873, 0.14058383199299637, 0.004134818588029305, 0.8815129727479931, 0.051853704279293714, 0.32055913244299367, 0.5698829021208777, 0.07123536276510971, 0.9831504559187695, 0.0866271393249379, 0.24255599010982612, 0.5890645474095777, 0.0866271393249379, 0.9141092072167522, 0.018232902734397604, 0.966343844923073, 0.041372624658911984, 0.14480418630619193, 0.020686312329455992, 0.16549049863564794, 0.5999030575542238, 0.6070321798836648, 0.04530090894654215, 0.08154163610377586, 0.09966199968239273, 0.17214345399686018, 0.9863987264854609, 0.006710195418268441, 0.041816188424474536, 0.13799342180076596, 0.08781399569139652, 0.18817284791013542, 0.2968949378137692, 0.05436104495181689, 0.045997807266921986, 0.12126694643097614, 0.02508971305468472, 0.71734114795998, 0.22072035321845543, 0.05518008830461386, 0.07822270211480456, 0.8604497232628502, 0.11868118587943156, 0.7714277082163051, 0.11868118587943156, 0.009350905262344906, 0.08415814736110416, 0.30390442102620946, 0.30857987365738193, 0.0794826947299317, 0.16831629472220833, 0.009350905262344906, 0.03272816841820717, 0.9380412229821222, 0.00680493239500421, 0.38788114651523997, 0.00680493239500421, 0.5920291183653663, 0.05321973023697373, 0.2356873767637408, 0.18246764652676706, 0.007602818605281962, 0.5169916651591734, 0.8871966600969708, 0.006721186818916446, 0.08065424182699735, 0.013442373637832891, 0.006721186818916446, 0.9795540723608881, 0.9218108169983221, 0.02973583280639749, 0.03964777707519665, 0.9588117558379085, 0.02084373382256323, 0.010421866911281615, 0.2506863686685204, 0.6446220908619096, 0.0716246767624344, 0.14458145230584185, 0.7951979876821302, 0.7856308059279181, 0.0035230080983314717, 0.056368129573303546, 0.03523008098331472, 0.11625926724493856, 0.0035230080983314717, 0.2916760481061574, 0.0416680068723082, 0.1041700171807705, 0.5416840893400066, 0.11519933829102794, 0.8755149710118123, 0.22934360166946283, 0.4969111369505028, 0.1911196680578857, 0.03822393361157714, 0.9186807598620949, 0.8467592948287163, 0.10925926384886661, 0.040972223943324976, 0.11495699559428803, 0.8846690530516949, 0.40159557243661326, 0.5689270609518687, 0.08830642727907853, 0.2247799967103817, 0.4254764223446511, 0.008027857025370774, 0.07225071322833698, 0.0321114281014831, 0.008027857025370774, 0.11238999835519085, 0.0321114281014831, 0.16129213052283872, 0.04301123480609033, 0.03763483045532904, 0.1666685348736, 0.06989325655989678, 0.01612921305228387, 0.10752808701522582, 0.24731460013501938, 0.14516291747055485, 0.12392772361452781, 0.8055302034944307, 0.3093785615500982, 0.2209846868214987, 0.4419693736429974, 0.0911947398600115, 0.8207526587401035, 0.9313996530543165, 0.14063154420992102, 0.7734734931545656, 0.6169805995652684, 0.09663551559456011, 0.22300503598744642, 0.0024778337331938494, 0.02477833733193849, 0.03221183853152004, 0.9337273462426041, 0.9401756260535272, 0.004617899437827167, 0.04848794409718525, 0.16855332948069157, 0.10159378763219766, 0.3140171617722473, 0.05772374297283958, 0.304781362896593, 0.14542487514437807, 0.041549964326965165, 0.7894493222123382, 0.44117247093456385, 0.03836282355952729, 0.0863163530089364, 0.1246791765684637, 0.2973118825863365, 0.009590705889881822, 0.9859583552281862, 0.03055091667597901, 0.8859765836033913, 0.03055091667597901, 0.03055091667597901, 0.06577377265375399, 0.8550590444988019, 0.011456400050070597, 0.8134044035550124, 0.022912800100141194, 0.14893320065091775, 0.8249279966521537, 0.09165866629468375, 0.030552888764894582, 0.2724623319115649, 0.09082077730385496, 0.6357454411269847, 0.8205840496218659, 0.0820584049621866, 0.24581457451251718, 0.09218046544219395, 0.061453643628129294, 0.5838096144672283, 0.7382256775597784, 0.028950026570971704, 0.014475013285485852, 0.05790005314194341, 0.043425039856457556, 0.11580010628388682, 0.3119290848564865, 0.623858169712973, 0.8245270688673808, 0.09161411876304232, 0.33827098930007526, 0.18451144870913197, 0.4689665988023771, 0.6832271371219033, 0.12957756048863683, 0.023559556452479424, 0.035339334678719136, 0.053009002018078705, 0.035339334678719136, 0.04122922379183899, 0.5791802793227199, 0.013681423921009132, 0.004560474640336377, 0.17785851097311872, 0.004560474640336377, 0.16417708705210957, 0.05472569568403653, 0.08128261753088738, 0.032513047012354954, 0.13005218804941981, 0.06502609402470991, 0.14630871155559727, 0.39015656414825944, 0.16256523506177475, 0.46783446693675107, 0.5252878225254749, 0.06925318065209397, 0.19716342688383037, 0.6043569918108965, 0.02724715304344681, 0.007568653623179668, 0.001892163405794917, 0.005298057536225768, 0.08741794934772518, 0.44454373886063525, 0.5491422656513729, 0.017541375027501437, 0.057009468839379664, 0.04823878132562895, 0.2543499378987708, 0.013156031270626076, 0.0964775626512579, 0.07016550011000575, 0.4473050632012866, 0.19437034228660047, 0.2549119243102957, 0.02549119243102957, 0.38874068457320093, 0.006372798107757392, 0.006372798107757392, 0.12426956310126915, 0.9293238415426964, 0.15746543008512012, 0.10497695339008008, 0.01749615889834668, 0.6823501970355205, 0.01749615889834668, 0.9940072551785698, 0.45564407533454176, 0.45564407533454176, 0.48789066510280876, 0.43368059120249663, 0.05421007390031208, 0.029814905307368886, 0.11925962122947555, 0.4372852778414103, 0.029814905307368886, 0.37765546722667254, 0.9153002818206397, 0.23556372866419434, 0.007852124288806479, 0.007852124288806479, 0.03926062144403239, 0.1099297400432907, 0.5967614459492924, 0.05871601569275805, 0.2348640627710322, 0.6458761726203386, 0.023653176390966226, 0.7687282327064024, 0.20105199932321294, 0.3907547395791506, 0.5470566354108108, 0.11194759451569643, 0.8582648912870059, 0.13637532724255927, 0.235557383418966, 0.024795514044101685, 0.19836411235281348, 0.012397757022050843, 0.3843304676835761, 0.6668550863003829, 0.01984687756846378, 0.09129563681493337, 0.007938751027385511, 0.031755004109542045, 0.08732626130124062, 0.09129563681493337, 0.8466723080910561, 0.14724735792887933, 0.3815746335739039, 0.0043525623601586, 0.38012377945385106, 0.07254270600264333, 0.04642733184169173, 0.0087051247203172, 0.027566228281004464, 0.08124783072296053, 0.05216876802619046, 0.7564471363797617, 0.10433753605238091, 0.07825315203928569, 0.21842130018714387, 0.5460532504678597, 0.21842130018714387, 0.8322095436968432, 0.04895350257040254, 0.04895350257040254, 0.772205906602015, 0.1447886074878778, 0.8402082458401184, 0.12603123687601778, 0.14909416529825412, 0.14909416529825412, 0.5798106428265438, 0.09939611019883608, 0.926125967747598, 0.8190583027241497, 0.05768016216367251, 0.03460809729820351, 0.023072064865469005, 0.04614412973093801, 0.9068792422765345, 0.08847602363673507, 0.2031123649227267, 0.7447453380499979, 0.7721627781728438, 0.12869379636214065, 0.9507395901338422, 0.07377842378125851, 0.8853410853751021, 0.024592807927086173, 0.926420201867694, 0.04027913921163887, 0.16226602670775156, 0.7464237228556572, 0.032453205341550315, 0.18172970721891496, 0.7269188288756598, 0.09208551739737454, 0.7366841391789963, 0.09208551739737454, 0.8282624383585321, 0.03601141036341444, 0.14404564145365775, 0.9721060456205034, 0.141519927339607, 0.849119564037642, 0.256688342369883, 0.04515813430581275, 0.16280695789200914, 0.38027902573316, 0.10457673207661901, 0.007130231732496751, 0.007130231732496751, 0.03565115866248375, 0.9890356398813475, 0.8655048519907765, 0.07212540433256472, 0.07445040402368228, 0.14890080804736455, 0.7657755842435892, 0.03900789123329857, 0.7801578246659715, 0.15603156493319428, 0.21876437977415747, 0.12665306197451223, 0.47207050372318193, 0.09211131779964525, 0.06908348834973393, 0.023027829449911313, 0.9026320306975926, 0.050146223927644035, 0.3510616088369036, 0.624109526821162, 0.8258082115520625, 0.06881735096267189, 0.7619327743173989, 0.13853323169407253, 0.11907728832539241, 0.7144637299523545, 0.059538644162696205, 0.059538644162696205, 0.048041204681863, 0.0064054939575817335, 0.2738348666866191, 0.36751521581625196, 0.1721476501100091, 0.045639144447769855, 0.03683159025609497, 0.016013734893954332, 0.03282815653260639, 0.42533934012949753, 0.11552426522035734, 0.30456397194457846, 0.07351544150386377, 0.05776213261017867, 0.010502205929123395, 0.010502205929123395, 0.0052511029645616976, 0.04830130525963964, 0.6359671859185886, 0.177104785952012, 0.1207532631490991, 0.016100435086546547, 0.28478501832464476, 0.1161623101061051, 0.029977370349962607, 0.0861849397561425, 0.14988685174981303, 0.09930003928425114, 0.06932266893428853, 0.011241513881235978, 0.06932266893428853, 0.08243776846239717, 0.17494407185506922, 0.043736017963767304, 0.7435123053840441, 0.3042307289530536, 0.6186024822045423, 0.06084614579061071, 0.7886660056242568, 0.11448377500997275, 0.025440838891105058, 0.06360209722776264, 0.21054874592357545, 0.03759799034349561, 0.17295075558007983, 0.15039196137398245, 0.42861708991585, 0.02395496210538247, 0.7905137494776214, 0.11977481052691234, 0.0359324431580737, 0.011977481052691235, 0.07190938018212142, 0.21572814054636427, 0.6471844216390928, 0.037438107627450486, 0.2995048610196039, 0.024958738418300323, 0.14975243050980194, 0.4866953991568563, 0.6175502449763306, 0.3087751224881653, 0.034308346943129474, 0.17120763633337147, 0.4451398544667658, 0.117399522057169, 0.07826634803811267, 0.009783293504764083, 0.07337470128573062, 0.034241527266674295, 0.06359140778096654, 0.004891646752382042, 0.9788016970847743, 0.702726750231332, 0.2693785875886773, 0.023424225007711064, 0.1303320069001281, 0.8145750431258006, 0.03258300172503203, 0.09022876373309538, 0.721830109864763, 0.18045752746619076, 0.9213893251016168, 0.3145870613413544, 0.6291741226827088, 0.6714611565350114, 0.059951888976340295, 0.13189415574794866, 0.13189415574794866, 0.07213072849555308, 0.8655687419466368, 0.9119994234583846, 0.022422779290422613, 0.8072200544552142, 0.1345366757425357, 0.022422779290422613, 0.07266983721723458, 0.8720380466068149, 0.8230864881078077, 0.12860726376684495, 0.02572145275336899, 0.9373170820409007, 0.9628150772033311, 0.8270213943270924, 0.06051376056051896, 0.04034250704034597, 0.020171253520172985, 0.020171253520172985, 0.8469325763978925, 0.14115542939964876, 0.983555271835032, 0.2356418262666464, 0.1570945508444309, 0.1570945508444309, 0.39273637711107734, 0.2690382690969229, 0.2690382690969229, 0.3301833302553145, 0.12229012231678314, 0.8774948177403424, 0.1096868522175428, 0.14450703429736173, 0.0030746177510076965, 0.014604434317286558, 0.21137997038177914, 0.0007686544377519241, 0.03228348638558081, 0.06764159052216932, 0.23520825795208877, 0.2913200319079792, 0.04011258863028128, 0.9025332441813289, 0.04512666220906644, 0.00501407357878516, 0.09987795161654686, 0.7343967030628447, 0.005875173624502757, 0.108690712053301, 0.047001388996022055, 0.14749385973935947, 0.007023517130445688, 0.25635837526126765, 0.049164619913119816, 0.5372990604790951, 0.26426566113517963, 0.6606641528379491, 0.07222846041118582, 0.07222846041118582, 0.794513064523044, 0.7666900275381061, 0.16263121796262855, 0.03872171856253061, 0.023233031137518366, 0.9723065791256312, 0.10886042102722543, 0.4098274673966134, 0.17289596280794628, 0.19851017952023461, 0.07043909595879293, 0.0384213250684325, 0.15989047599655554, 0.2131873013287407, 0.10659365066437035, 0.47967142798966655, 0.16093618257158435, 0.8353354238239378, 0.04496813060404564, 0.007494688434007607, 0.08244157277408368, 0.25481940675625864, 0.07494688434007607, 0.059957507472060856, 0.47216537134247927, 0.04182828645284626, 0.9202223019626178, 0.002056089267808696, 0.3536473540630957, 0.028785249749321746, 0.6147706910748001, 0.13471384666848413, 0.8082830800109048, 0.5916816845818829, 0.2836829994570671, 0.02431568566774861, 0.016210457111832405, 0.07294705700324583, 0.016210457111832405, 0.05719555179890197, 0.02178878163767694, 0.092602321960127, 0.6114476847073091, 0.1538832703160934, 0.008170793114128853, 0.013617988523548088, 0.04221576442299907, 0.9228951394471215, 0.06158762573550996, 0.9238143860326494, 0.09104559071789803, 0.02167752159949953, 0.5506090486272881, 0.16041365983629655, 0.052026051838798874, 0.026013025919399437, 0.09104559071789803, 0.022734869624704043, 0.011367434812352022, 0.6024740450546572, 0.11367434812352023, 0.2614510006840965, 0.9213894371980015, 0.045240039966885734, 0.29657359533847316, 0.5629871640323558, 0.010053342214863497, 0.08042673771890797, 0.8584110109354989, 0.10300932131225986, 0.03433644043741996, 0.16849745470856164, 0.7582385461885274, 0.08760405631675164, 0.7884365068507648, 0.08760405631675164, 0.6012561316197484, 0.016701559211659677, 0.2839265065982145, 0.016701559211659677, 0.050104677634979035, 0.1805089532504646, 0.24067860433395277, 0.5716116852931379, 0.14860215691730075, 0.196154847130837, 0.3724960733393672, 0.0019813620922306766, 0.025757707198998798, 0.12284444971830195, 0.015850896737845413, 0.11690036344160992, 0.17911716121936805, 0.05970572040645602, 0.11941144081291204, 0.5970572040645602, 0.8222948716219622, 0.08222948716219622, 0.13514098665995974, 0.06757049332997987, 0.2029918554809354, 0.2004684760619735, 0.0442993275773312, 0.09252391202860315, 0.05859847761811533, 0.021028161824682534, 0.11411282483527722, 0.06336486096504337, 0.7737836824092721, 0.1406879422562313, 0.07034397112811565, 0.9293212262864667, 0.9254796938877687, 0.3117967625794034, 0.12471870503176136, 0.4988748201270454, 0.04157290167725379, 0.6742388350753411, 0.20334187089573777, 0.04280881492541848, 0.04280881492541848, 0.04280881492541848, 0.7274259358040053, 0.24885624119610705, 0.07264266898775645, 0.8717120278530773, 0.920551028306549, 0.05753443926915931, 0.02885973554493943, 0.07214933886234857, 0.043289603317409144, 0.4761856364915006, 0.21644801658704574, 0.15872854549716686, 0.09831415181145539, 0.39325660724582157, 0.5056156378874849, 0.1887255732331214, 0.0943627866165607, 0.10615813494363077, 0.6015627646805743, 0.3828313591075023, 0.04785391988843779, 0.5742470386612535, 0.1788375177377902, 0.03229010736932323, 0.01987083530419891, 0.12916042947729292, 0.0024838544130248636, 0.5787380782347933, 0.057128651499571866, 0.1674588249897542, 0.7535647124538939, 0.01623949479376799, 0.39380774874887375, 0.22938286396197285, 0.3592988223121168, 0.9813580186360688, 0.2136326676772297, 0.0012069642241651394, 0.1834585620731012, 0.11224767284735797, 0.23897891638469762, 0.004827856896660558, 0.0012069642241651394, 0.1774237409522755, 0.06638303232908267, 0.10868797479115472, 0.8695037983292377, 0.8722385251539144, 0.06709527116568573, 0.2150627054106833, 0.7527194689373916, 0.20124587165267874, 0.2900308150288605, 0.15981289807712723, 0.31962579615425446, 0.02959498112539393, 0.004669443402985158, 0.0009338886805970317, 0.20452162105074992, 0.041091101946269394, 0.02334721701492579, 0.01680999625074657, 0.2185299512597054, 0.3212577061253789, 0.10459553222686754, 0.06350443028059816, 0.08309289567406707, 0.1194460375314714, 0.03635314185740434, 0.21292554516479686, 0.046739753816662725, 0.08828620165369626, 0.41546447837033534, 0.1880089156703772, 0.006483066057599214, 0.06483066057599213, 0.3371194349951591, 0.40195009557115124, 0.07587404677342191, 0.07587404677342191, 0.7587404677342191, 0.0013537191625777089, 0.2761587091658526, 0.3479058247824712, 0.004061157487733127, 0.0013537191625777089, 0.05008760901537523, 0.2572066408897647, 0.054148766503108355, 0.009476034138043963, 0.9413035772582992, 0.0515782782059342, 0.9361377137565144, 0.16970655227929468, 0.5279759404244724, 0.08171056220854929, 0.043997995035372696, 0.14456484083051027, 0.025141711448784396, 0.00455154298061105, 0.07737623067038785, 0.19571634816627514, 0.20481943412749726, 0.4824635559447713, 0.0364123438448884, 0.7908988112995434, 0.15817976225990868, 0.01661446270307285, 0.1993735524368742, 0.3364428697372252, 0.08722592919113246, 0.2949067129795431, 0.0041536156757682125, 0.058150619460754976, 0.8729368369504464, 0.08423074742504308, 0.038286703375019576, 0.9520610717677908, 0.9026424977213477, 0.06645308732041484, 0.20766589787629638, 0.01661327183010371, 0.26581234928165937, 0.3073455288569187, 0.13290617464082968, 0.80805059061185, 0.14691828920215455, 0.03176650820679376, 0.11118277872377816, 0.1588325410339688, 0.06353301641358752, 0.6194469100324783, 0.5077503503365612, 0.48744033632309886, 0.5513011784986539, 0.13126218535682235, 0.2887768077850092, 0.03937865560704671, 0.08589222897589578, 0.7300839462951142, 0.12883834346384368, 0.04294611448794789, 0.9368498133477463, 0.200922590790058, 0.7702032646952223, 0.42848416261462935, 0.07498472845756014, 0.09640893658829161, 0.38563574635316644, 0.08432282386384111, 0.8432282386384111, 0.18778204287915878, 0.813722185809688, 0.22701037177613462, 0.7567012392537821, 0.7259831492155848, 0.19799540433152313, 0.9292528762215002, 0.03584533886229403, 0.19714936374261718, 0.6093707606589985, 0.1075360165868821, 0.05376800829344105, 0.21004408469832422, 0.5601175591955313, 0.07001469489944141, 0.14002938979888283, 0.06884600372886474, 0.09179467163848631, 0.7573060410175121, 0.0596665365650161, 0.018358934327697262, 0.08056140317728176, 0.05370760211818784, 0.7519064296546298, 0.05370760211818784, 0.05370760211818784, 0.9350844329843242, 0.024455373999020695, 0.007336612199706209, 0.007336612199706209, 0.1687420805932428, 0.699423696371992, 0.09293042119627865, 0.5562734268672824, 0.35133058538986256, 0.08783264634746564, 0.13491105982797, 0.8094663589678199, 0.9720913235115206, 0.017358773634134298, 0.2654006803735733, 0.6900417689712904, 0.18896494643096573, 0.7558597857238629, 0.9897080602098851, 0.19111453773128068, 0.7644581509251227, 0.8555969707110943, 0.006658342184522135, 0.13316684369044268, 0.7473961333570192, 0.22996804103292898, 0.9346052909052129, 0.05073525548627219, 0.5073525548627219, 0.4058820438901775, 0.19773840718289218, 0.7999417381489728, 0.18947148944260744, 0.7736752485573137, 0.03157858157376791, 0.050238371458799246, 0.15071511437639773, 0.7535755718819886, 0.1186626948962614, 0.7713075168256991, 0.08632281355926134, 0.776905322033352, 0.08632281355926134, 0.08632281355926134, 0.5181492990764415, 0.11514428868365366, 0.2878607217091342, 0.7493803886513434, 0.09367254858141792, 0.29548742798485284, 0.053724986906336876, 0.5775436092431214, 0.0671562336329211, 0.6331412781394009, 0.18193714889063245, 0.021832457866875894, 0.13827223315688067, 0.014554971911250596, 0.007277485955625298, 0.058665509402729736, 0.6159878487286623, 0.08799826410409461, 0.058665509402729736, 0.14666377350682436, 0.011909475160018196, 0.11909475160018196, 0.27391792868041853, 0.5835642828408916, 0.02516020014708757, 0.012580100073543784, 0.18870150110315675, 0.5157841030152951, 0.012580100073543784, 0.2390219013973319, 0.24791986557957785, 0.5219365591149007, 0.013048413977872517, 0.06524206988936258, 0.039145241933617556, 0.11743572580085265, 0.9536688688498638, 0.741255754712134, 0.1853139386780335, 0.09265696933901675, 0.35582385155821017, 0.27601289419935926, 0.08978732702870723, 0.03990547867942544, 0.03658002212280665, 0.06650913113237573, 0.13634371882137025, 0.9200561670712398, 0.0438121984319638, 0.0438121984319638, 0.4114114991470766, 0.14729547500327433, 0.005079154310457736, 0.4317281163889075, 0.15502391547673866, 0.7751195773836933, 0.4133651012909502, 0.5683770142750566, 0.1651772070533777, 0.1651772070533777, 0.6607088282135108, 0.24752665819306466, 0.742579974579194, 0.02123865549880194, 0.06371596649640582, 0.02123865549880194, 0.8283075644532757, 0.06371596649640582, 0.348410098823223, 0.024886435630230214, 0.5972744551255251, 0.024886435630230214, 0.9643122713250584, 0.18926586533554296, 0.8201520831206862, 0.9027032772324441, 0.14163797887469068, 0.15737553208298963, 0.015737553208298963, 0.22032574491618548, 0.4721265962489689, 0.04015653650698788, 0.9236003396607212, 0.147929953929905, 0.031699275842122496, 0.7713490454916474, 0.04226570112283, 0.010920014693415532, 0.6442808669115164, 0.0982801322407398, 0.010920014693415532, 0.22932030856172617, 0.6962837874187131, 0.0773648652687459, 0.1547297305374918, 0.31054759405936927, 0.44166768932888073, 0.11041692233222018, 0.12421903762374771, 0.7399755636818048, 0.0822195070757561, 0.0822195070757561, 0.9599427102501256, 0.032430496967909644, 0.7795576831036419, 0.1559115366207284, 0.9088501664887348, 0.9830326036792, 0.061656012457299056, 0.1695540342575724, 0.6628021339159649, 0.015414003114324764, 0.07707001557162382, 0.10392704620302785, 0.2713650650856838, 0.14434311972642758, 0.05196352310151393, 0.07505842225774234, 0.2136278171951128, 0.01732117436717131, 0.06928469746868524, 0.05196352310151393, 0.4308371423922967, 0.058593851365352355, 0.03446697139138374, 0.13442118842639658, 0.17922825123519542, 0.032743622821814554, 0.03446697139138374, 0.07410398849147504, 0.018956834265261055, 0.003446697139138374, 0.9090213469463467, 0.03787588945609778, 0.9720858223849717, 0.03838070970422751, 0.01279356990140917, 0.19190354852113756, 0.1663164087183192, 0.26866496792959255, 0.3326328174366384, 0.08767863689763433, 0.21919659224408583, 0.5699111398346232, 0.043839318448817166, 0.05639763011755062, 0.8741632668220346, 0.02819881505877531, 0.8711423362285984, 0.004208417083229944, 0.004208417083229944, 0.11362726124720848, 0.008416834166459887, 0.23509034320406152, 0.2321145160748962, 0.3332926384665176, 0.050589061195810706, 0.0743956782291334, 0.0743956782291334, 0.2020195560679368, 0.1010097780339684, 0.6565635572207946, 0.13473779004352227, 0.4042133701305668, 0.4042133701305668, 0.7712525384056953, 0.17689278403800351, 0.00707571136152014, 0.042454268169120846, 0.3882587082252931, 0.1865658727835824, 0.06807133196157736, 0.08319829461970567, 0.06555017151855598, 0.010084641772085534, 0.151269626581283, 0.04538088797438491, 0.13619142155697425, 0.11673550419169221, 0.7393248598807173, 0.15365986425268371, 0.02048798190035783, 0.04097596380071566, 0.010243990950178914, 0.2253678009039361, 0.17414784615304155, 0.06146394570107348, 0.010243990950178914, 0.30731972850536743, 0.3377716754672291, 0.06857018975650515, 0.09396655633298855, 0.14475928948595532, 0.11428364959417525, 0.035554913207076745, 0.015237819945890034, 0.10920437627887858, 0.08126837304474685, 0.7949217681875551, 0.11111809662836791, 0.09402300483938823, 0.04810448569030254, 0.8177762567351431, 0.04810448569030254, 0.01832131489478197, 0.18321314894781968, 0.21985577873738363, 0.09160657447390984, 0.12824920426347378, 0.03664262978956394, 0.31146235321129345, 0.059264030287116645, 0.8000644088760747, 0.11852806057423329, 0.08964257351263154, 0.33615965067236825, 0.007470214459385962, 0.04482128675631577, 0.08217235905324557, 0.1344638602689473, 0.23904686270035078, 0.04482128675631577, 0.022410643378157884, 0.9087821823131992, 0.2347813123730658, 0.6862838361674231, 0.054180302855322875, 0.01806010095177429, 0.07061654636865793, 0.8944762540030005, 0.023538848789552643, 0.03489288415346751, 0.8025363355297528, 0.10467865246040253, 0.2619270888258866, 0.7109449553845494, 0.018709077773277617, 0.7993626823371336, 0.0470213342551255, 0.1410640027653765, 0.05442310195769202, 0.06122598970240352, 0.10884620391538403, 0.19048085685192206, 0.5782454583004777, 0.9828776632140224, 0.10645936575507478, 0.6387561945304486, 0.24840518676184115, 0.0059144092086152655, 0.151905417665465, 0.8101622275491468, 0.28533566162308593, 0.6420052386519434, 0.9775943654940349, 0.18001091658820773, 0.022501364573525966, 0.07875477600734089, 0.5287820674778603, 0.18001091658820773, 0.03328949226932948, 0.09986847680798845, 0.49934238403994224, 0.03328949226932948, 0.09986847680798845, 0.23302644588530638, 0.26090927379437195, 0.6914095755550856, 0.05218185475887439, 0.13721932180172003, 0.24699477924309607, 0.05488772872068801, 0.13721932180172003, 0.4116579654051601, 0.05285041074120193, 0.05285041074120193, 0.8984569826004327, 0.20257811506370269, 0.20257811506370269, 0.1350520767091351, 0.40515623012740537, 0.13111391869535555, 0.31841951683157776, 0.08241446317993778, 0.1610828143971511, 0.10114502299356, 0.09365279906811111, 0.07492223925448889, 0.011238335888173332, 0.029968895701795555, 0.06746873639701022, 0.07217585754098767, 0.004707121143977457, 0.03922600953314547, 0.2055442899536823, 0.047071211439774566, 0.12238514974341387, 0.3451888838916802, 0.004707121143977457, 0.0910043421168975, 0.17193248075133977, 0.001999214892457439, 0.16593483607396745, 0.04198351274160622, 0.38384925935182834, 0.005997644677372318, 0.22791049774014807, 0.019469430032938592, 0.525674610889342, 0.02595924004391812, 0.00648981001097953, 0.05191848008783624, 0.18171468030742685, 0.00648981001097953, 0.18171468030742685, 0.2607712414048917, 0.7388518506471932, 0.18070536899132988, 0.7679978182131519], \"Term\": [\"100\", \"100\", \"100\", \"100\", \"14k\", \"14k\", \"14k\", \"14k\", \"14k\", \"15k\", \"15k\", \"1st\", \"1st\", \"2000\", \"2000\", \"2000\", \"2000\", \"2018\", \"2018\", \"4000\", \"4000\", \"4000mah\", \"4000mah\", \"5mp\", \"64gb\", \"64gb\", \"absolutely\", \"absolutely\", \"absolutely\", \"ago\", \"ago\", \"ago\", \"airtel\", \"airtel\", \"amazing\", \"amazing\", \"amazing\", \"amazing\", \"amazing\", \"amazon\", \"amazon\", \"amazon\", \"amazon\", \"amazon\", \"amazon\", \"android\", \"android\", \"android\", \"android\", \"android\", \"android\", \"apart\", \"apart\", \"app\", \"app\", \"app\", \"app\", \"app\", \"app\", \"application\", \"application\", \"application\", \"application\", \"application\", \"apps\", \"apps\", \"apps\", \"apps\", \"apps\", \"apps\", \"apps\", \"ask\", \"ask\", \"asked\", \"asked\", \"atmos\", \"atmos\", \"atmos\", \"atmos\", \"audio\", \"audio\", \"audio\", \"audio\", \"audio\", \"audio\", \"aur\", \"auto\", \"auto\", \"auto\", \"auto\", \"automatically\", \"automatically\", \"automatically\", \"automatically\", \"available\", \"available\", \"available\", \"available\", \"available\", \"available\", \"average\", \"average\", \"average\", \"average\", \"average\", \"average\", \"awesome\", \"awesome\", \"awesome\", \"awsome\", \"awsome\", \"background\", \"background\", \"backup\", \"backup\", \"backup\", \"backup\", \"backup\", \"bad\", \"bad\", \"bad\", \"bad\", \"bad\", \"bad\", \"bad\", \"badly\", \"badly\", \"badly\", \"badly\", \"bahut\", \"bahut\", \"basic\", \"basic\", \"basic\", \"basic\", \"basic\", \"battery\", \"battery\", \"battery\", \"battery\", \"battery\", \"battery\", \"battery\", \"battery\", \"battery\", \"beast\", \"beast\", \"beautiful\", \"beautiful\", \"bed\", \"bed\", \"bed\", \"best\", \"best\", \"best\", \"best\", \"better\", \"better\", \"better\", \"better\", \"better\", \"better\", \"better\", \"better\", \"better\", \"better\", \"bettery\", \"bettery\", \"bhi\", \"bit\", \"bit\", \"bit\", \"bluetooth\", \"bluetooth\", \"bluetooth\", \"bluetooth\", \"bluetooth\", \"bluetooth\", \"blurred\", \"bokeh\", \"bought\", \"bought\", \"bought\", \"bought\", \"bought\", \"bought\", \"bought\", \"box\", \"box\", \"box\", \"broke\", \"broke\", \"broke\", \"broken\", \"broken\", \"budget\", \"budget\", \"budget\", \"budget\", \"buy\", \"buy\", \"buy\", \"buy\", \"buy\", \"buy\", \"buy\", \"buy\", \"buy\", \"buying\", \"buying\", \"buying\", \"buying\", \"buying\", \"buying\", \"buying\", \"bye\", \"calling\", \"calling\", \"calling\", \"calling\", \"camera\", \"camera\", \"camera\", \"camera\", \"camera\", \"camera\", \"camera\", \"camera\", \"capacity\", \"care\", \"care\", \"care\", \"care\", \"cash\", \"cash\", \"cast\", \"cast\", \"cell\", \"cell\", \"center\", \"centre\", \"centre\", \"change\", \"change\", \"change\", \"change\", \"changed\", \"changed\", \"charge\", \"charge\", \"charged\", \"charged\", \"charger\", \"charger\", \"charger\", \"charger\", \"charger\", \"charging\", \"charging\", \"charging\", \"charging\", \"charging\", \"charging\", \"charging\", \"cheating\", \"cheating\", \"cheating\", \"checked\", \"checked\", \"clarity\", \"clarity\", \"clarity\", \"class\", \"class\", \"class\", \"common\", \"common\", \"compare\", \"compare\", \"compare\", \"condition\", \"condition\", \"condition\", \"condition\", \"connect\", \"connect\", \"connect\", \"connect\", \"connection\", \"connection\", \"connection\", \"cons\", \"cons\", \"cons\", \"considering\", \"considering\", \"contact\", \"contact\", \"contact\", \"contact\", \"contact\", \"contacted\", \"cool\", \"cool\", \"core\", \"core\", \"coz\", \"coz\", \"cracked\", \"curved\", \"customer\", \"customer\", \"customer\", \"customer\", \"customization\", \"daily\", \"daily\", \"damage\", \"damage\", \"damage\", \"damaged\", \"date\", \"date\", \"date\", \"date\", \"date\", \"day\", \"day\", \"day\", \"day\", \"day\", \"day\", \"day\", \"day\", \"day\", \"dead\", \"dead\", \"deal\", \"deal\", \"deal\", \"deca\", \"decent\", \"decent\", \"decent\", \"decent\", \"decision\", \"defective\", \"defective\", \"delivered\", \"delivered\", \"delivered\", \"delivered\", \"delivered\", \"delivery\", \"delivery\", \"delivery\", \"delivery\", \"delivery\", \"depth\", \"depth\", \"device\", \"device\", \"device\", \"device\", \"device\", \"device\", \"device\", \"device\", \"device\", \"difficult\", \"difficult\", \"difficult\", \"directly\", \"directly\", \"dis\", \"dis\", \"dis\", \"display\", \"display\", \"display\", \"display\", \"display\", \"display\", \"display\", \"display\", \"dnt\", \"dolby\", \"dolby\", \"dolby\", \"dolby\", \"dont\", \"dont\", \"dont\", \"dont\", \"dont\", \"drain\", \"drain\", \"drain\", \"drain\", \"drain\", \"drained\", \"draining\", \"draining\", \"draining\", \"drains\", \"drains\", \"drains\", \"drawback\", \"drawback\", \"drawback\", \"dslr\", \"dslr\", \"dual\", \"dual\", \"dual\", \"dual\", \"dual\", \"dual\", \"ear\", \"ear\", \"ear\", \"ear\", \"earphone\", \"earphone\", \"easy\", \"easy\", \"easy\", \"easy\", \"edge\", \"effect\", \"effect\", \"effect\", \"excellent\", \"excellent\", \"exchange\", \"exchange\", \"expected\", \"expected\", \"expected\", \"expected\", \"expected\", \"expected\", \"expected\", \"expected\", \"expected\", \"experience\", \"experience\", \"experience\", \"experience\", \"experience\", \"experience\", \"experience\", \"experience\", \"experience\", \"extremely\", \"extremely\", \"facility\", \"facility\", \"facility\", \"failed\", \"failed\", \"fall\", \"fan\", \"fan\", \"fast\", \"fast\", \"fast\", \"fast\", \"fast\", \"fast\", \"fastly\", \"fault\", \"feature\", \"feature\", \"feature\", \"feature\", \"feature\", \"feature\", \"feature\", \"features\", \"features\", \"features\", \"feel\", \"feel\", \"feel\", \"feel\", \"feel\", \"feel\", \"finger\", \"fingerprint\", \"fingerprint\", \"fingerprint\", \"fingerprint\", \"fit\", \"fit\", \"flash\", \"flash\", \"flash\", \"flash\", \"focus\", \"focus\", \"focus\", \"foot\", \"foot\", \"foot\", \"forum\", \"forum\", \"friendly\", \"friendly\", \"friendly\", \"friendly\", \"fully\", \"fully\", \"fully\", \"fully\", \"fully\", \"fully\", \"functioning\", \"functioning\", \"g5s\", \"g5s\", \"game\", \"game\", \"game\", \"gets\", \"gets\", \"gets\", \"gets\", \"gets\", \"gets\", \"gets\", \"getting\", \"getting\", \"getting\", \"getting\", \"getting\", \"getting\", \"getting\", \"given\", \"given\", \"given\", \"given\", \"given\", \"given\", \"given\", \"glass\", \"glass\", \"good\", \"good\", \"good\", \"good\", \"good\", \"good\", \"good\", \"good\", \"gorilla\", \"gorilla\", \"got\", \"got\", \"got\", \"got\", \"got\", \"got\", \"got\", \"got\", \"great\", \"great\", \"great\", \"great\", \"great\", \"great\", \"great\", \"guard\", \"gud\", \"gud\", \"gud\", \"gud\", \"gud\", \"hai\", \"handle\", \"handle\", \"handling\", \"handling\", \"handling\", \"handset\", \"handset\", \"handset\", \"handset\", \"handset\", \"handy\", \"hanging\", \"hanging\", \"hanging\", \"hanging\", \"hanging\", \"hanging\", \"happened\", \"happened\", \"happened\", \"happy\", \"happy\", \"happy\", \"hate\", \"hate\", \"head\", \"head\", \"headphone\", \"headphone\", \"headphone\", \"headphone\", \"headphone\", \"headphone\", \"heat\", \"heat\", \"heat\", \"heat\", \"heat\", \"heat\", \"heat\", \"heated\", \"heated\", \"heating\", \"heating\", \"heating\", \"heating\", \"heating\", \"heating\", \"heating\", \"heating\", \"help\", \"help\", \"help\", \"help\", \"hitting\", \"hitting\", \"hitting\", \"hold\", \"hold\", \"hold\", \"home\", \"home\", \"honor\", \"honor\", \"hope\", \"hope\", \"hope\", \"hope\", \"horrible\", \"hot\", \"hot\", \"hot\", \"hot\", \"hot\", \"hour\", \"hour\", \"hours\", \"hours\", \"hrs\", \"hrs\", \"impressive\", \"improve\", \"improve\", \"improve\", \"improvement\", \"improvement\", \"incoming\", \"incoming\", \"incoming\", \"india\", \"india\", \"information\", \"information\", \"information\", \"internal\", \"internal\", \"internal\", \"invoice\", \"iphone\", \"iphone\", \"issue\", \"issue\", \"issue\", \"issue\", \"issue\", \"issue\", \"issue\", \"issue\", \"jio\", \"k8note\", \"k8note\", \"killer\", \"killer\", \"killer\", \"kindly\", \"kindly\", \"kindly\", \"know\", \"know\", \"know\", \"know\", \"know\", \"know\", \"koi\", \"koi\", \"lack\", \"lack\", \"lasting\", \"lasting\", \"late\", \"late\", \"lenova\", \"lenova\", \"lenova\", \"lenova\", \"lenovo\", \"lenovo\", \"lenovo\", \"lenovo\", \"lenovo\", \"lenovo\", \"lenovo\", \"lenovo\", \"lenovo\", \"life\", \"life\", \"life\", \"life\", \"life\", \"life\", \"life\", \"life\", \"light\", \"light\", \"light\", \"light\", \"light\", \"like\", \"like\", \"like\", \"like\", \"like\", \"like\", \"like\", \"like\", \"like\", \"like\", \"liked\", \"liked\", \"liked\", \"little\", \"little\", \"little\", \"long\", \"long\", \"long\", \"long\", \"look\", \"look\", \"look\", \"look\", \"look\", \"looking\", \"looking\", \"looking\", \"looking\", \"looking\", \"loss\", \"loss\", \"loss\", \"love\", \"love\", \"love\", \"love\", \"love\", \"loved\", \"loved\", \"loved\", \"low\", \"low\", \"low\", \"low\", \"low\", \"low\", \"low\", \"low\", \"low\", \"lte\", \"mah\", \"mah\", \"mah\", \"management\", \"management\", \"management\", \"manufacturing\", \"manufacturing\", \"manufacturing\", \"mat\", \"meet\", \"meet\", \"memory\", \"memory\", \"memory\", \"memory\", \"menu\", \"menu\", \"mera\", \"message\", \"message\", \"message\", \"message\", \"metal\", \"metal\", \"min\", \"min\", \"min\", \"mind\", \"minimum\", \"minute\", \"minute\", \"minute\", \"minute\", \"minute\", \"mirror\", \"mirror\", \"mirroring\", \"miss\", \"miss\", \"miss\", \"miss\", \"missing\", \"missing\", \"missing\", \"missing\", \"mistake\", \"mistake\", \"mobile\", \"mobile\", \"mobile\", \"mobile\", \"mobile\", \"mobile\", \"mobile\", \"mobile\", \"mobile\", \"mode\", \"mode\", \"mode\", \"mode\", \"money\", \"money\", \"money\", \"money\", \"money\", \"month\", \"month\", \"month\", \"month\", \"month\", \"movie\", \"movie\", \"msg\", \"msg\", \"msg\", \"music\", \"music\", \"music\", \"music\", \"nahi\", \"need\", \"need\", \"need\", \"need\", \"need\", \"need\", \"needs\", \"needs\", \"needs\", \"needs\", \"network\", \"network\", \"new\", \"new\", \"new\", \"new\", \"new\", \"new\", \"new\", \"nhi\", \"nhi\", \"nice\", \"nice\", \"nice\", \"nice\", \"noise\", \"noise\", \"normal\", \"normal\", \"normal\", \"normal\", \"normal\", \"normal\", \"note\", \"note\", \"note\", \"note\", \"note\", \"note\", \"note\", \"note\", \"object\", \"offer\", \"offer\", \"option\", \"option\", \"option\", \"option\", \"option\", \"option\", \"option\", \"oreo\", \"oreo\", \"oreo\", \"oreo\", \"oreo\", \"osm\", \"overall\", \"overall\", \"overall\", \"overall\", \"overall\", \"overheating\", \"overheating\", \"overheating\", \"pack\", \"pack\", \"par\", \"par\", \"par\", \"people\", \"people\", \"people\", \"people\", \"people\", \"perfect\", \"perfect\", \"perfect\", \"performance\", \"performance\", \"performance\", \"performance\", \"performance\", \"performance\", \"performance\", \"performance\", \"performing\", \"performing\", \"performing\", \"performing\", \"period\", \"period\", \"phone\", \"phone\", \"phone\", \"phone\", \"phone\", \"phone\", \"phone\", \"phone\", \"phone\", \"phone\", \"photo\", \"photo\", \"photo\", \"photography\", \"photos\", \"pic\", \"pic\", \"pic\", \"pic\", \"picture\", \"picture\", \"picture\", \"picture\", \"picture\", \"piece\", \"piece\", \"pixel\", \"pixel\", \"player\", \"player\", \"pls\", \"pls\", \"pls\", \"pls\", \"pls\", \"pls\", \"plus\", \"plus\", \"plus\", \"plz\", \"plz\", \"plz\", \"plz\", \"policy\", \"policy\", \"policy\", \"poor\", \"poor\", \"poor\", \"poor\", \"poor\", \"poor\", \"poor\", \"prefer\", \"prefer\", \"price\", \"price\", \"price\", \"price\", \"print\", \"problem\", \"problem\", \"problem\", \"problem\", \"problem\", \"problem\", \"problem\", \"problem\", \"problem\", \"process\", \"process\", \"processer\", \"processer\", \"processing\", \"processing\", \"processor\", \"processor\", \"processor\", \"processor\", \"processor\", \"product\", \"product\", \"product\", \"product\", \"product\", \"product\", \"product\", \"product\", \"product\", \"product\", \"properly\", \"properly\", \"properly\", \"properly\", \"properly\", \"properly\", \"properly\", \"purchase\", \"purchase\", \"purchase\", \"purchase\", \"purchase\", \"purpose\", \"purpose\", \"purpose\", \"quality\", \"quality\", \"quality\", \"quality\", \"quality\", \"quality\", \"quality\", \"quality\", \"quality\", \"quickly\", \"quickly\", \"raha\", \"ram\", \"ram\", \"ram\", \"ram\", \"ram\", \"ram\", \"range\", \"range\", \"range\", \"range\", \"range\", \"range\", \"rapidly\", \"rapidly\", \"really\", \"really\", \"really\", \"really\", \"really\", \"really\", \"really\", \"rear\", \"rear\", \"rear\", \"reasonable\", \"reboot\", \"received\", \"received\", \"received\", \"received\", \"received\", \"received\", \"recent\", \"recent\", \"recommend\", \"recommend\", \"recommend\", \"recommend\", \"recommend\", \"recorder\", \"recorder\", \"refund\", \"refund\", \"refund\", \"refund\", \"regret\", \"regret\", \"regret\", \"regret\", \"repair\", \"replaced\", \"replaced\", \"replacement\", \"replacement\", \"replacement\", \"replacement\", \"report\", \"report\", \"required\", \"required\", \"resolution\", \"resolution\", \"resolve\", \"resolve\", \"resolved\", \"restart\", \"restart\", \"restart\", \"restart\", \"restart\", \"result\", \"result\", \"result\", \"result\", \"return\", \"return\", \"return\", \"return\", \"return\", \"sale\", \"sale\", \"sale\", \"sale\", \"sale\", \"saying\", \"screen\", \"screen\", \"screen\", \"screen\", \"screen\", \"screen\", \"segment\", \"segment\", \"segment\", \"select\", \"select\", \"selfie\", \"selfie\", \"seller\", \"seller\", \"selling\", \"selling\", \"sensor\", \"separate\", \"separate\", \"service\", \"service\", \"service\", \"setting\", \"setting\", \"shortcut\", \"shown\", \"shown\", \"shown\", \"signal\", \"signal\", \"sim\", \"sim\", \"sim\", \"simply\", \"simply\", \"simply\", \"sims\", \"sims\", \"sir\", \"sir\", \"sir\", \"sir\", \"size\", \"size\", \"size\", \"slight\", \"slight\", \"slot\", \"slot\", \"slot\", \"slot\", \"slow\", \"slow\", \"slow\", \"slow\", \"slow\", \"slow\", \"small\", \"small\", \"small\", \"small\", \"small\", \"smart\", \"smart\", \"smart\", \"smart\", \"smartphone\", \"smartphone\", \"smartphone\", \"smartphone\", \"smartphone\", \"smartphone\", \"smooth\", \"smooth\", \"smooth\", \"smooth\", \"smooth\", \"smooth\", \"snapdragon\", \"solution\", \"solution\", \"solution\", \"sound\", \"sound\", \"sound\", \"sound\", \"sound\", \"sound\", \"sound\", \"space\", \"space\", \"space\", \"speaker\", \"speaker\", \"speaker\", \"speaker\", \"special\", \"special\", \"specially\", \"specially\", \"specs\", \"specs\", \"specs\", \"split\", \"split\", \"stock\", \"stock\", \"stock\", \"stock\", \"stock\", \"stopped\", \"stopped\", \"stopped\", \"stopped\", \"strength\", \"suck\", \"suck\", \"sucks\", \"suggest\", \"suggest\", \"suggest\", \"suggest\", \"suggest\", \"suggestion\", \"suggestion\", \"super\", \"super\", \"super\", \"super\", \"superb\", \"superb\", \"superb\", \"superb\", \"superb\", \"supplied\", \"supplied\", \"supplied\", \"support\", \"support\", \"support\", \"support\", \"switching\", \"switching\", \"switching\", \"takes\", \"takes\", \"tech\", \"tech\", \"tempered\", \"thank\", \"thanks\", \"thanks\", \"thanks\", \"thanks\", \"thanks\", \"thing\", \"thing\", \"thing\", \"thing\", \"thing\", \"thing\", \"thing\", \"thing\", \"thing\", \"time\", \"time\", \"time\", \"time\", \"time\", \"time\", \"time\", \"time\", \"time\", \"time\", \"told\", \"told\", \"total\", \"totally\", \"totally\", \"totally\", \"totally\", \"totally\", \"totally\", \"trust\", \"trust\", \"trust\", \"trust\", \"try\", \"try\", \"try\", \"turbo\", \"turbo\", \"turbo\", \"turbo\", \"turbo\", \"update\", \"update\", \"update\", \"update\", \"update\", \"update\", \"updating\", \"updating\", \"updating\", \"upgrade\", \"upgrade\", \"upgrade\", \"usage\", \"usage\", \"usage\", \"usage\", \"use\", \"use\", \"use\", \"use\", \"use\", \"use\", \"use\", \"use\", \"useless\", \"useless\", \"useless\", \"user\", \"user\", \"user\", \"user\", \"user\", \"user\", \"user\", \"user\", \"user\", \"using\", \"using\", \"using\", \"using\", \"using\", \"using\", \"using\", \"using\", \"using\", \"value\", \"value\", \"value\", \"venom\", \"venom\", \"venom\", \"version\", \"version\", \"version\", \"version\", \"version\", \"version\", \"version\", \"vibe\", \"vibe\", \"vibe\", \"video\", \"video\", \"video\", \"video\", \"video\", \"video\", \"video\", \"video\", \"video\", \"visited\", \"voice\", \"voice\", \"voice\", \"voice\", \"volta\", \"volta\", \"volta\", \"volte\", \"volte\", \"volte\", \"volume\", \"volume\", \"volume\", \"wait\", \"wait\", \"wait\", \"want\", \"want\", \"want\", \"want\", \"want\", \"warranty\", \"waste\", \"waste\", \"waste\", \"waste\", \"wasted\", \"wasted\", \"watch\", \"watch\", \"watching\", \"week\", \"week\", \"week\", \"week\", \"week\", \"weight\", \"weight\", \"weight\", \"weight\", \"weight\", \"weight\", \"wifi\", \"wifi\", \"wifi\", \"wise\", \"wise\", \"wise\", \"wise\", \"wise\", \"wonderful\", \"wonderful\", \"wonderful\", \"word\", \"word\", \"word\", \"word\", \"work\", \"work\", \"work\", \"work\", \"work\", \"work\", \"work\", \"work\", \"work\", \"working\", \"working\", \"working\", \"working\", \"working\", \"working\", \"working\", \"working\", \"working\", \"working\", \"worst\", \"worst\", \"worst\", \"worst\", \"worst\", \"worst\", \"worst\", \"worth\", \"worth\", \"worth\", \"worth\", \"worth\", \"worth\", \"worth\", \"worth\", \"wrost\", \"wrost\", \"yes\", \"yes\"]}, \"R\": 30, \"lambda.step\": 0.01, \"plot.opts\": {\"xlab\": \"PC1\", \"ylab\": \"PC2\"}, \"topic.order\": [1, 7, 5, 10, 9, 8, 3, 6, 4, 2]};\n",
       "\n",
       "function LDAvis_load_lib(url, callback){\n",
       "  var s = document.createElement('script');\n",
       "  s.src = url;\n",
       "  s.async = true;\n",
       "  s.onreadystatechange = s.onload = callback;\n",
       "  s.onerror = function(){console.warn(\"failed to load library \" + url);};\n",
       "  document.getElementsByTagName(\"head\")[0].appendChild(s);\n",
       "}\n",
       "\n",
       "if(typeof(LDAvis) !== \"undefined\"){\n",
       "   // already loaded: just create the visualization\n",
       "   !function(LDAvis){\n",
       "       new LDAvis(\"#\" + \"ldavis_el1031406984202457526076615026\", ldavis_el1031406984202457526076615026_data);\n",
       "   }(LDAvis);\n",
       "}else if(typeof define === \"function\" && define.amd){\n",
       "   // require.js is available: use it to load d3/LDAvis\n",
       "   require.config({paths: {d3: \"https://cdnjs.cloudflare.com/ajax/libs/d3/3.5.5/d3.min\"}});\n",
       "   require([\"d3\"], function(d3){\n",
       "      window.d3 = d3;\n",
       "      LDAvis_load_lib(\"https://cdn.rawgit.com/bmabey/pyLDAvis/files/ldavis.v1.0.0.js\", function(){\n",
       "        new LDAvis(\"#\" + \"ldavis_el1031406984202457526076615026\", ldavis_el1031406984202457526076615026_data);\n",
       "      });\n",
       "    });\n",
       "}else{\n",
       "    // require.js not available: dynamically load d3 & LDAvis\n",
       "    LDAvis_load_lib(\"https://cdnjs.cloudflare.com/ajax/libs/d3/3.5.5/d3.min.js\", function(){\n",
       "         LDAvis_load_lib(\"https://cdn.rawgit.com/bmabey/pyLDAvis/files/ldavis.v1.0.0.js\", function(){\n",
       "                 new LDAvis(\"#\" + \"ldavis_el1031406984202457526076615026\", ldavis_el1031406984202457526076615026_data);\n",
       "            })\n",
       "         });\n",
       "}\n",
       "</script>"
      ],
      "text/plain": [
       "PreparedData(topic_coordinates=               x          y  topics  cluster       Freq\n",
       "topic                                                  \n",
       "0      32.420952   8.115230       1        1  16.211204\n",
       "6       0.648955  71.707100       2        1  13.411330\n",
       "4      71.019684   9.971006       3        1  12.503739\n",
       "9       3.785981  33.185135       4        1  11.327230\n",
       "8     -42.666500  -9.222070       5        1  11.281865\n",
       "7      -3.621689 -43.526516       6        1   8.699663\n",
       "2      -3.632402  -4.171708       7        1   7.920677\n",
       "5     -36.584400  35.804413       8        1   7.167679\n",
       "3      44.391380  50.615383       9        1   6.002520\n",
       "1      40.235809 -31.591665      10        1   5.474093, topic_info=           Term         Freq        Total Category  logprob  loglift\n",
       "333        good  2642.000000  2642.000000  Default  30.0000  30.0000\n",
       "517      mobile  1300.000000  1300.000000  Default  29.0000  29.0000\n",
       "112      camera  1845.000000  1845.000000  Default  28.0000  28.0000\n",
       "67      battery  1781.000000  1781.000000  Default  27.0000  27.0000\n",
       "543        nice   486.000000   486.000000  Default  26.0000  26.0000\n",
       "..          ...          ...          ...      ...      ...      ...\n",
       "453        like    44.075586   533.735942  Topic10  -4.4479   0.4111\n",
       "112      camera    66.143775  1845.435162  Topic10  -4.0420  -0.4235\n",
       "266  experience    27.406896   185.997915  Topic10  -4.9230   0.9902\n",
       "447      lenovo    40.828807  1248.927882  Topic10  -4.5245  -0.5155\n",
       "549        note    30.530310   734.322839  Topic10  -4.8151  -0.2751\n",
       "\n",
       "[591 rows x 6 columns], token_table=      Topic      Freq   Term\n",
       "term                        \n",
       "0         1  0.729779    100\n",
       "0         4  0.133793    100\n",
       "0         5  0.072978    100\n",
       "0         6  0.060815    100\n",
       "5         1  0.150033    14k\n",
       "...     ...       ...    ...\n",
       "939       9  0.181715  worth\n",
       "944       4  0.260771  wrost\n",
       "944       9  0.738852  wrost\n",
       "947       1  0.180705    yes\n",
       "947       6  0.767998    yes\n",
       "\n",
       "[1524 rows x 3 columns], R=30, lambda_step=0.01, plot_opts={'xlab': 'PC1', 'ylab': 'PC2'}, topic_order=[1, 7, 5, 10, 9, 8, 3, 6, 4, 2])"
      ]
     },
     "execution_count": 332,
     "metadata": {
      "tags": []
     },
     "output_type": "execute_result"
    }
   ],
   "source": [
    "pyLDAvis.enable_notebook()\n",
    "panel = pyLDAvis.sklearn.prepare(best_lda_model, data_vectorized, vectorizer, mds='tsne')\n",
    "panel"
   ]
  },
  {
   "cell_type": "code",
   "execution_count": 333,
   "metadata": {
    "colab": {
     "base_uri": "https://localhost:8080/",
     "height": 253
    },
    "id": "q_YFlJBIfsM2",
    "outputId": "92ebeb46-1a1d-47e0-8400-a4635dda2aee"
   },
   "outputs": [
    {
     "data": {
      "text/html": [
       "<div>\n",
       "<style scoped>\n",
       "    .dataframe tbody tr th:only-of-type {\n",
       "        vertical-align: middle;\n",
       "    }\n",
       "\n",
       "    .dataframe tbody tr th {\n",
       "        vertical-align: top;\n",
       "    }\n",
       "\n",
       "    .dataframe thead th {\n",
       "        text-align: right;\n",
       "    }\n",
       "</style>\n",
       "<table border=\"1\" class=\"dataframe\">\n",
       "  <thead>\n",
       "    <tr style=\"text-align: right;\">\n",
       "      <th></th>\n",
       "      <th>100</th>\n",
       "      <th>1000</th>\n",
       "      <th>12000</th>\n",
       "      <th>13999</th>\n",
       "      <th>13mp</th>\n",
       "      <th>14k</th>\n",
       "      <th>15k</th>\n",
       "      <th>1st</th>\n",
       "      <th>2000</th>\n",
       "      <th>2017</th>\n",
       "      <th>2018</th>\n",
       "      <th>2nd</th>\n",
       "      <th>3gb</th>\n",
       "      <th>3rd</th>\n",
       "      <th>4000</th>\n",
       "      <th>4000mah</th>\n",
       "      <th>4gb</th>\n",
       "      <th>5mp</th>\n",
       "      <th>64gb</th>\n",
       "      <th>aap</th>\n",
       "      <th>able</th>\n",
       "      <th>absolutely</th>\n",
       "      <th>according</th>\n",
       "      <th>action</th>\n",
       "      <th>actually</th>\n",
       "      <th>add</th>\n",
       "      <th>added</th>\n",
       "      <th>affordable</th>\n",
       "      <th>ago</th>\n",
       "      <th>airtel</th>\n",
       "      <th>amazing</th>\n",
       "      <th>amazon</th>\n",
       "      <th>android</th>\n",
       "      <th>annoying</th>\n",
       "      <th>answer</th>\n",
       "      <th>apart</th>\n",
       "      <th>app</th>\n",
       "      <th>application</th>\n",
       "      <th>approx</th>\n",
       "      <th>apps</th>\n",
       "      <th>...</th>\n",
       "      <th>want</th>\n",
       "      <th>wanted</th>\n",
       "      <th>warm</th>\n",
       "      <th>warranty</th>\n",
       "      <th>waste</th>\n",
       "      <th>wasted</th>\n",
       "      <th>watch</th>\n",
       "      <th>watching</th>\n",
       "      <th>water</th>\n",
       "      <th>way</th>\n",
       "      <th>weak</th>\n",
       "      <th>week</th>\n",
       "      <th>weight</th>\n",
       "      <th>went</th>\n",
       "      <th>whatsapp</th>\n",
       "      <th>white</th>\n",
       "      <th>wifi</th>\n",
       "      <th>wise</th>\n",
       "      <th>wish</th>\n",
       "      <th>wonderful</th>\n",
       "      <th>wont</th>\n",
       "      <th>word</th>\n",
       "      <th>work</th>\n",
       "      <th>worked</th>\n",
       "      <th>working</th>\n",
       "      <th>works</th>\n",
       "      <th>worse</th>\n",
       "      <th>worst</th>\n",
       "      <th>worth</th>\n",
       "      <th>worthless</th>\n",
       "      <th>worthy</th>\n",
       "      <th>writing</th>\n",
       "      <th>wrong</th>\n",
       "      <th>wrost</th>\n",
       "      <th>x23</th>\n",
       "      <th>year</th>\n",
       "      <th>yes</th>\n",
       "      <th>yesterday</th>\n",
       "      <th>youtube</th>\n",
       "      <th>zero</th>\n",
       "    </tr>\n",
       "  </thead>\n",
       "  <tbody>\n",
       "    <tr>\n",
       "      <th>Topic0</th>\n",
       "      <td>61.840087</td>\n",
       "      <td>0.100013</td>\n",
       "      <td>0.100012</td>\n",
       "      <td>0.100008</td>\n",
       "      <td>0.100002</td>\n",
       "      <td>3.687455</td>\n",
       "      <td>1.234250</td>\n",
       "      <td>0.100007</td>\n",
       "      <td>0.100026</td>\n",
       "      <td>2.995907</td>\n",
       "      <td>0.100008</td>\n",
       "      <td>0.100032</td>\n",
       "      <td>1.422084</td>\n",
       "      <td>1.162489</td>\n",
       "      <td>55.462698</td>\n",
       "      <td>64.365008</td>\n",
       "      <td>7.552752</td>\n",
       "      <td>0.106815</td>\n",
       "      <td>0.100009</td>\n",
       "      <td>0.100007</td>\n",
       "      <td>0.100021</td>\n",
       "      <td>3.615534</td>\n",
       "      <td>0.100013</td>\n",
       "      <td>0.176409</td>\n",
       "      <td>0.100056</td>\n",
       "      <td>0.100013</td>\n",
       "      <td>0.100098</td>\n",
       "      <td>0.100011</td>\n",
       "      <td>0.100013</td>\n",
       "      <td>0.100017</td>\n",
       "      <td>0.100009</td>\n",
       "      <td>0.100162</td>\n",
       "      <td>17.443902</td>\n",
       "      <td>1.538148</td>\n",
       "      <td>0.100017</td>\n",
       "      <td>0.100036</td>\n",
       "      <td>6.454253</td>\n",
       "      <td>10.719875</td>\n",
       "      <td>4.613545</td>\n",
       "      <td>25.629134</td>\n",
       "      <td>...</td>\n",
       "      <td>8.710792</td>\n",
       "      <td>2.465519</td>\n",
       "      <td>21.591024</td>\n",
       "      <td>0.100006</td>\n",
       "      <td>0.100012</td>\n",
       "      <td>0.100015</td>\n",
       "      <td>0.100006</td>\n",
       "      <td>18.099842</td>\n",
       "      <td>0.100011</td>\n",
       "      <td>12.739229</td>\n",
       "      <td>0.100005</td>\n",
       "      <td>16.443165</td>\n",
       "      <td>1.274727</td>\n",
       "      <td>0.100010</td>\n",
       "      <td>5.919955</td>\n",
       "      <td>0.100029</td>\n",
       "      <td>0.100081</td>\n",
       "      <td>5.112697</td>\n",
       "      <td>0.100030</td>\n",
       "      <td>0.100030</td>\n",
       "      <td>2.702622</td>\n",
       "      <td>3.034015</td>\n",
       "      <td>36.419210</td>\n",
       "      <td>4.294912</td>\n",
       "      <td>44.916758</td>\n",
       "      <td>2.045416</td>\n",
       "      <td>3.642677</td>\n",
       "      <td>89.302668</td>\n",
       "      <td>3.337076</td>\n",
       "      <td>0.344234</td>\n",
       "      <td>0.100013</td>\n",
       "      <td>5.938336</td>\n",
       "      <td>0.100021</td>\n",
       "      <td>0.100016</td>\n",
       "      <td>0.306847</td>\n",
       "      <td>0.100011</td>\n",
       "      <td>4.589215</td>\n",
       "      <td>0.100032</td>\n",
       "      <td>8.647518</td>\n",
       "      <td>0.100004</td>\n",
       "    </tr>\n",
       "    <tr>\n",
       "      <th>Topic1</th>\n",
       "      <td>0.100003</td>\n",
       "      <td>0.100021</td>\n",
       "      <td>0.100051</td>\n",
       "      <td>0.100000</td>\n",
       "      <td>0.100004</td>\n",
       "      <td>12.154314</td>\n",
       "      <td>0.100008</td>\n",
       "      <td>0.100000</td>\n",
       "      <td>0.100072</td>\n",
       "      <td>3.384224</td>\n",
       "      <td>0.100008</td>\n",
       "      <td>2.335768</td>\n",
       "      <td>0.100019</td>\n",
       "      <td>1.214770</td>\n",
       "      <td>0.100008</td>\n",
       "      <td>0.100004</td>\n",
       "      <td>0.100013</td>\n",
       "      <td>0.100004</td>\n",
       "      <td>0.100010</td>\n",
       "      <td>0.100000</td>\n",
       "      <td>0.100003</td>\n",
       "      <td>0.100002</td>\n",
       "      <td>0.100031</td>\n",
       "      <td>0.100034</td>\n",
       "      <td>0.239274</td>\n",
       "      <td>0.100000</td>\n",
       "      <td>0.100007</td>\n",
       "      <td>0.100019</td>\n",
       "      <td>0.100002</td>\n",
       "      <td>0.100000</td>\n",
       "      <td>19.564976</td>\n",
       "      <td>0.100022</td>\n",
       "      <td>11.842956</td>\n",
       "      <td>0.100009</td>\n",
       "      <td>0.100000</td>\n",
       "      <td>0.100006</td>\n",
       "      <td>11.615912</td>\n",
       "      <td>0.100018</td>\n",
       "      <td>0.100002</td>\n",
       "      <td>7.853015</td>\n",
       "      <td>...</td>\n",
       "      <td>0.100020</td>\n",
       "      <td>0.100003</td>\n",
       "      <td>0.100007</td>\n",
       "      <td>0.100009</td>\n",
       "      <td>0.529503</td>\n",
       "      <td>0.100003</td>\n",
       "      <td>0.100021</td>\n",
       "      <td>0.100002</td>\n",
       "      <td>0.100008</td>\n",
       "      <td>4.432380</td>\n",
       "      <td>0.100068</td>\n",
       "      <td>0.100013</td>\n",
       "      <td>6.954893</td>\n",
       "      <td>0.100006</td>\n",
       "      <td>0.209821</td>\n",
       "      <td>0.100008</td>\n",
       "      <td>0.100001</td>\n",
       "      <td>15.196861</td>\n",
       "      <td>0.100025</td>\n",
       "      <td>0.100016</td>\n",
       "      <td>0.100003</td>\n",
       "      <td>6.565411</td>\n",
       "      <td>7.680381</td>\n",
       "      <td>0.100000</td>\n",
       "      <td>58.779520</td>\n",
       "      <td>0.100009</td>\n",
       "      <td>1.488831</td>\n",
       "      <td>0.100066</td>\n",
       "      <td>0.100016</td>\n",
       "      <td>0.100016</td>\n",
       "      <td>0.100018</td>\n",
       "      <td>0.100003</td>\n",
       "      <td>0.100000</td>\n",
       "      <td>0.100001</td>\n",
       "      <td>0.100007</td>\n",
       "      <td>1.883421</td>\n",
       "      <td>0.234345</td>\n",
       "      <td>0.100007</td>\n",
       "      <td>0.100006</td>\n",
       "      <td>0.100000</td>\n",
       "    </tr>\n",
       "    <tr>\n",
       "      <th>Topic2</th>\n",
       "      <td>0.100006</td>\n",
       "      <td>0.100009</td>\n",
       "      <td>1.880827</td>\n",
       "      <td>0.100042</td>\n",
       "      <td>5.325077</td>\n",
       "      <td>0.100025</td>\n",
       "      <td>0.100000</td>\n",
       "      <td>0.100003</td>\n",
       "      <td>1.147278</td>\n",
       "      <td>2.188324</td>\n",
       "      <td>0.100003</td>\n",
       "      <td>0.100012</td>\n",
       "      <td>3.606575</td>\n",
       "      <td>4.976819</td>\n",
       "      <td>0.100009</td>\n",
       "      <td>1.834882</td>\n",
       "      <td>8.200336</td>\n",
       "      <td>28.093073</td>\n",
       "      <td>16.647935</td>\n",
       "      <td>0.100015</td>\n",
       "      <td>12.315424</td>\n",
       "      <td>0.100010</td>\n",
       "      <td>5.872006</td>\n",
       "      <td>0.100017</td>\n",
       "      <td>2.808186</td>\n",
       "      <td>0.100018</td>\n",
       "      <td>0.100010</td>\n",
       "      <td>0.100001</td>\n",
       "      <td>0.100008</td>\n",
       "      <td>1.430765</td>\n",
       "      <td>0.202399</td>\n",
       "      <td>123.031394</td>\n",
       "      <td>0.103543</td>\n",
       "      <td>3.147779</td>\n",
       "      <td>0.100111</td>\n",
       "      <td>0.100004</td>\n",
       "      <td>0.100015</td>\n",
       "      <td>34.260922</td>\n",
       "      <td>0.100012</td>\n",
       "      <td>0.100022</td>\n",
       "      <td>...</td>\n",
       "      <td>86.272832</td>\n",
       "      <td>0.100028</td>\n",
       "      <td>0.100053</td>\n",
       "      <td>0.100009</td>\n",
       "      <td>109.695056</td>\n",
       "      <td>15.909061</td>\n",
       "      <td>0.100009</td>\n",
       "      <td>0.100005</td>\n",
       "      <td>0.242761</td>\n",
       "      <td>4.512453</td>\n",
       "      <td>0.100022</td>\n",
       "      <td>0.100003</td>\n",
       "      <td>0.100018</td>\n",
       "      <td>3.704054</td>\n",
       "      <td>0.100007</td>\n",
       "      <td>0.100031</td>\n",
       "      <td>0.100307</td>\n",
       "      <td>5.067620</td>\n",
       "      <td>1.368801</td>\n",
       "      <td>0.100010</td>\n",
       "      <td>5.712515</td>\n",
       "      <td>0.100009</td>\n",
       "      <td>24.966261</td>\n",
       "      <td>3.796166</td>\n",
       "      <td>79.757786</td>\n",
       "      <td>0.100008</td>\n",
       "      <td>0.100053</td>\n",
       "      <td>195.970585</td>\n",
       "      <td>28.353540</td>\n",
       "      <td>2.760655</td>\n",
       "      <td>2.752079</td>\n",
       "      <td>0.100009</td>\n",
       "      <td>0.100009</td>\n",
       "      <td>0.100014</td>\n",
       "      <td>0.109612</td>\n",
       "      <td>2.840547</td>\n",
       "      <td>0.100009</td>\n",
       "      <td>9.187683</td>\n",
       "      <td>0.100016</td>\n",
       "      <td>0.100003</td>\n",
       "    </tr>\n",
       "    <tr>\n",
       "      <th>Topic3</th>\n",
       "      <td>0.100000</td>\n",
       "      <td>2.462933</td>\n",
       "      <td>0.100002</td>\n",
       "      <td>0.100038</td>\n",
       "      <td>0.100008</td>\n",
       "      <td>1.309040</td>\n",
       "      <td>8.965665</td>\n",
       "      <td>0.100005</td>\n",
       "      <td>7.914635</td>\n",
       "      <td>0.100006</td>\n",
       "      <td>0.100007</td>\n",
       "      <td>2.474342</td>\n",
       "      <td>0.100160</td>\n",
       "      <td>6.606933</td>\n",
       "      <td>0.100006</td>\n",
       "      <td>0.100010</td>\n",
       "      <td>0.100015</td>\n",
       "      <td>0.100005</td>\n",
       "      <td>0.100000</td>\n",
       "      <td>8.383011</td>\n",
       "      <td>0.117245</td>\n",
       "      <td>0.100004</td>\n",
       "      <td>9.526710</td>\n",
       "      <td>0.100001</td>\n",
       "      <td>0.109655</td>\n",
       "      <td>0.100023</td>\n",
       "      <td>0.100004</td>\n",
       "      <td>6.669937</td>\n",
       "      <td>0.100011</td>\n",
       "      <td>0.100004</td>\n",
       "      <td>8.321670</td>\n",
       "      <td>3.233487</td>\n",
       "      <td>0.100009</td>\n",
       "      <td>0.100005</td>\n",
       "      <td>0.100010</td>\n",
       "      <td>0.100009</td>\n",
       "      <td>0.100268</td>\n",
       "      <td>3.005199</td>\n",
       "      <td>1.595300</td>\n",
       "      <td>0.263410</td>\n",
       "      <td>...</td>\n",
       "      <td>0.100031</td>\n",
       "      <td>1.377583</td>\n",
       "      <td>0.100010</td>\n",
       "      <td>0.100006</td>\n",
       "      <td>42.615824</td>\n",
       "      <td>0.100006</td>\n",
       "      <td>9.140977</td>\n",
       "      <td>0.100008</td>\n",
       "      <td>4.006733</td>\n",
       "      <td>5.120846</td>\n",
       "      <td>0.100023</td>\n",
       "      <td>0.100121</td>\n",
       "      <td>0.100007</td>\n",
       "      <td>0.100005</td>\n",
       "      <td>0.100004</td>\n",
       "      <td>0.100000</td>\n",
       "      <td>3.773957</td>\n",
       "      <td>0.100013</td>\n",
       "      <td>3.981524</td>\n",
       "      <td>16.911712</td>\n",
       "      <td>1.021066</td>\n",
       "      <td>2.289834</td>\n",
       "      <td>2.663497</td>\n",
       "      <td>0.100046</td>\n",
       "      <td>3.465612</td>\n",
       "      <td>2.187102</td>\n",
       "      <td>0.100021</td>\n",
       "      <td>114.237324</td>\n",
       "      <td>28.258738</td>\n",
       "      <td>0.100018</td>\n",
       "      <td>4.363685</td>\n",
       "      <td>0.100041</td>\n",
       "      <td>0.100011</td>\n",
       "      <td>16.747542</td>\n",
       "      <td>0.100002</td>\n",
       "      <td>0.100032</td>\n",
       "      <td>0.100014</td>\n",
       "      <td>0.100016</td>\n",
       "      <td>0.100015</td>\n",
       "      <td>0.100014</td>\n",
       "    </tr>\n",
       "    <tr>\n",
       "      <th>Topic4</th>\n",
       "      <td>0.100007</td>\n",
       "      <td>5.609898</td>\n",
       "      <td>0.100021</td>\n",
       "      <td>7.659555</td>\n",
       "      <td>0.100038</td>\n",
       "      <td>0.100041</td>\n",
       "      <td>0.100015</td>\n",
       "      <td>0.100011</td>\n",
       "      <td>3.099904</td>\n",
       "      <td>0.100011</td>\n",
       "      <td>0.100002</td>\n",
       "      <td>0.100008</td>\n",
       "      <td>2.158553</td>\n",
       "      <td>0.100009</td>\n",
       "      <td>0.100012</td>\n",
       "      <td>0.100029</td>\n",
       "      <td>0.100015</td>\n",
       "      <td>0.100006</td>\n",
       "      <td>0.100021</td>\n",
       "      <td>0.100007</td>\n",
       "      <td>0.100008</td>\n",
       "      <td>0.100019</td>\n",
       "      <td>0.100011</td>\n",
       "      <td>0.100011</td>\n",
       "      <td>0.100008</td>\n",
       "      <td>0.100032</td>\n",
       "      <td>0.100000</td>\n",
       "      <td>4.336092</td>\n",
       "      <td>0.100009</td>\n",
       "      <td>0.100022</td>\n",
       "      <td>83.607368</td>\n",
       "      <td>0.432458</td>\n",
       "      <td>0.195128</td>\n",
       "      <td>2.969504</td>\n",
       "      <td>0.100000</td>\n",
       "      <td>14.621071</td>\n",
       "      <td>0.100022</td>\n",
       "      <td>7.300350</td>\n",
       "      <td>0.100012</td>\n",
       "      <td>3.320330</td>\n",
       "      <td>...</td>\n",
       "      <td>0.100010</td>\n",
       "      <td>0.100000</td>\n",
       "      <td>6.154754</td>\n",
       "      <td>0.100001</td>\n",
       "      <td>0.100004</td>\n",
       "      <td>0.100003</td>\n",
       "      <td>0.100000</td>\n",
       "      <td>0.100005</td>\n",
       "      <td>0.100011</td>\n",
       "      <td>0.227582</td>\n",
       "      <td>0.100006</td>\n",
       "      <td>7.152579</td>\n",
       "      <td>16.261319</td>\n",
       "      <td>0.100004</td>\n",
       "      <td>0.100010</td>\n",
       "      <td>3.426829</td>\n",
       "      <td>0.100011</td>\n",
       "      <td>0.100027</td>\n",
       "      <td>0.100013</td>\n",
       "      <td>0.100005</td>\n",
       "      <td>0.100003</td>\n",
       "      <td>0.100008</td>\n",
       "      <td>0.100013</td>\n",
       "      <td>0.100008</td>\n",
       "      <td>2.955082</td>\n",
       "      <td>8.384071</td>\n",
       "      <td>0.100004</td>\n",
       "      <td>0.100009</td>\n",
       "      <td>85.017767</td>\n",
       "      <td>0.100003</td>\n",
       "      <td>7.032790</td>\n",
       "      <td>0.100019</td>\n",
       "      <td>0.100019</td>\n",
       "      <td>0.100003</td>\n",
       "      <td>0.100005</td>\n",
       "      <td>0.100031</td>\n",
       "      <td>0.100022</td>\n",
       "      <td>0.100001</td>\n",
       "      <td>0.100011</td>\n",
       "      <td>0.100000</td>\n",
       "    </tr>\n",
       "  </tbody>\n",
       "</table>\n",
       "<p>5 rows × 951 columns</p>\n",
       "</div>"
      ],
      "text/plain": [
       "              100      1000     12000  ...  yesterday   youtube      zero\n",
       "Topic0  61.840087  0.100013  0.100012  ...   0.100032  8.647518  0.100004\n",
       "Topic1   0.100003  0.100021  0.100051  ...   0.100007  0.100006  0.100000\n",
       "Topic2   0.100006  0.100009  1.880827  ...   9.187683  0.100016  0.100003\n",
       "Topic3   0.100000  2.462933  0.100002  ...   0.100016  0.100015  0.100014\n",
       "Topic4   0.100007  5.609898  0.100021  ...   0.100001  0.100011  0.100000\n",
       "\n",
       "[5 rows x 951 columns]"
      ]
     },
     "execution_count": 333,
     "metadata": {
      "tags": []
     },
     "output_type": "execute_result"
    }
   ],
   "source": [
    "# Topic-Keyword Matrix\n",
    "df_topic_keywords = pd.DataFrame(best_lda_model.components_)\n",
    "\n",
    "# Assign Column and Index\n",
    "df_topic_keywords.columns = vectorizer.get_feature_names()\n",
    "df_topic_keywords.index   = topicnames\n",
    "\n",
    "# View\n",
    "df_topic_keywords.head()"
   ]
  },
  {
   "cell_type": "code",
   "execution_count": 334,
   "metadata": {
    "id": "OUPYObDFgFzY"
   },
   "outputs": [],
   "source": [
    "# Show top n keywords for each topic\n",
    "def show_topics(vectorizer=vectorizer, lda_model=lda_model, n_words=20):\n",
    "    keywords = np.array(vectorizer.get_feature_names())\n",
    "    topic_keywords = []\n",
    "    \n",
    "    for topic_weights in lda_model.components_:\n",
    "        top_keyword_locs = (-topic_weights).argsort()[:n_words]\n",
    "        topic_keywords.append(keywords.take(top_keyword_locs))\n",
    "        \n",
    "    return topic_keywords"
   ]
  },
  {
   "cell_type": "code",
   "execution_count": 335,
   "metadata": {
    "id": "K1pkXmFvgH2W"
   },
   "outputs": [],
   "source": [
    "topic_keywords = show_topics(vectorizer=vectorizer, lda_model=best_lda_model, n_words=15)        "
   ]
  },
  {
   "cell_type": "code",
   "execution_count": 336,
   "metadata": {
    "colab": {
     "base_uri": "https://localhost:8080/",
     "height": 359
    },
    "id": "JM3_c3gtgKCO",
    "outputId": "d19fb8a2-84d0-44c9-be7c-038ef398e1bc"
   },
   "outputs": [
    {
     "data": {
      "text/html": [
       "<div>\n",
       "<style scoped>\n",
       "    .dataframe tbody tr th:only-of-type {\n",
       "        vertical-align: middle;\n",
       "    }\n",
       "\n",
       "    .dataframe tbody tr th {\n",
       "        vertical-align: top;\n",
       "    }\n",
       "\n",
       "    .dataframe thead th {\n",
       "        text-align: right;\n",
       "    }\n",
       "</style>\n",
       "<table border=\"1\" class=\"dataframe\">\n",
       "  <thead>\n",
       "    <tr style=\"text-align: right;\">\n",
       "      <th></th>\n",
       "      <th>Word 0</th>\n",
       "      <th>Word 1</th>\n",
       "      <th>Word 2</th>\n",
       "      <th>Word 3</th>\n",
       "      <th>Word 4</th>\n",
       "      <th>Word 5</th>\n",
       "      <th>Word 6</th>\n",
       "      <th>Word 7</th>\n",
       "      <th>Word 8</th>\n",
       "      <th>Word 9</th>\n",
       "      <th>Word 10</th>\n",
       "      <th>Word 11</th>\n",
       "      <th>Word 12</th>\n",
       "      <th>Word 13</th>\n",
       "      <th>Word 14</th>\n",
       "    </tr>\n",
       "  </thead>\n",
       "  <tbody>\n",
       "    <tr>\n",
       "      <th>Topic 0</th>\n",
       "      <td>battery</td>\n",
       "      <td>charging</td>\n",
       "      <td>phone</td>\n",
       "      <td>charge</td>\n",
       "      <td>heating</td>\n",
       "      <td>time</td>\n",
       "      <td>fast</td>\n",
       "      <td>hour</td>\n",
       "      <td>issue</td>\n",
       "      <td>turbo</td>\n",
       "      <td>day</td>\n",
       "      <td>mobile</td>\n",
       "      <td>good</td>\n",
       "      <td>problem</td>\n",
       "      <td>backup</td>\n",
       "    </tr>\n",
       "    <tr>\n",
       "      <th>Topic 1</th>\n",
       "      <td>mobile</td>\n",
       "      <td>nice</td>\n",
       "      <td>good</td>\n",
       "      <td>phone</td>\n",
       "      <td>excellent</td>\n",
       "      <td>best</td>\n",
       "      <td>feature</td>\n",
       "      <td>dolby</td>\n",
       "      <td>killer</td>\n",
       "      <td>product</td>\n",
       "      <td>camera</td>\n",
       "      <td>performance</td>\n",
       "      <td>working</td>\n",
       "      <td>look</td>\n",
       "      <td>budget</td>\n",
       "    </tr>\n",
       "    <tr>\n",
       "      <th>Topic 2</th>\n",
       "      <td>camera</td>\n",
       "      <td>money</td>\n",
       "      <td>product</td>\n",
       "      <td>poor</td>\n",
       "      <td>phone</td>\n",
       "      <td>worst</td>\n",
       "      <td>quality</td>\n",
       "      <td>return</td>\n",
       "      <td>bad</td>\n",
       "      <td>buy</td>\n",
       "      <td>amazon</td>\n",
       "      <td>waste</td>\n",
       "      <td>value</td>\n",
       "      <td>want</td>\n",
       "      <td>battery</td>\n",
       "    </tr>\n",
       "    <tr>\n",
       "      <th>Topic 3</th>\n",
       "      <td>phone</td>\n",
       "      <td>buy</td>\n",
       "      <td>mobile</td>\n",
       "      <td>price</td>\n",
       "      <td>worst</td>\n",
       "      <td>product</td>\n",
       "      <td>range</td>\n",
       "      <td>hanging</td>\n",
       "      <td>earphone</td>\n",
       "      <td>dont</td>\n",
       "      <td>best</td>\n",
       "      <td>purchase</td>\n",
       "      <td>box</td>\n",
       "      <td>heating</td>\n",
       "      <td>problem</td>\n",
       "    </tr>\n",
       "    <tr>\n",
       "      <th>Topic 4</th>\n",
       "      <td>good</td>\n",
       "      <td>phone</td>\n",
       "      <td>camera</td>\n",
       "      <td>battery</td>\n",
       "      <td>heating</td>\n",
       "      <td>quality</td>\n",
       "      <td>product</td>\n",
       "      <td>awesome</td>\n",
       "      <td>price</td>\n",
       "      <td>performance</td>\n",
       "      <td>backup</td>\n",
       "      <td>nice</td>\n",
       "      <td>problem</td>\n",
       "      <td>issue</td>\n",
       "      <td>overall</td>\n",
       "    </tr>\n",
       "    <tr>\n",
       "      <th>Topic 5</th>\n",
       "      <td>product</td>\n",
       "      <td>bad</td>\n",
       "      <td>working</td>\n",
       "      <td>amazon</td>\n",
       "      <td>month</td>\n",
       "      <td>problem</td>\n",
       "      <td>hai</td>\n",
       "      <td>got</td>\n",
       "      <td>mobile</td>\n",
       "      <td>speaker</td>\n",
       "      <td>properly</td>\n",
       "      <td>phone</td>\n",
       "      <td>day</td>\n",
       "      <td>happy</td>\n",
       "      <td>glass</td>\n",
       "    </tr>\n",
       "    <tr>\n",
       "      <th>Topic 6</th>\n",
       "      <td>camera</td>\n",
       "      <td>good</td>\n",
       "      <td>phone</td>\n",
       "      <td>dual</td>\n",
       "      <td>quality</td>\n",
       "      <td>mode</td>\n",
       "      <td>depth</td>\n",
       "      <td>battery</td>\n",
       "      <td>better</td>\n",
       "      <td>rear</td>\n",
       "      <td>sound</td>\n",
       "      <td>music</td>\n",
       "      <td>performance</td>\n",
       "      <td>average</td>\n",
       "      <td>low</td>\n",
       "    </tr>\n",
       "    <tr>\n",
       "      <th>Topic 7</th>\n",
       "      <td>phone</td>\n",
       "      <td>screen</td>\n",
       "      <td>lenovo</td>\n",
       "      <td>feature</td>\n",
       "      <td>great</td>\n",
       "      <td>cast</td>\n",
       "      <td>note</td>\n",
       "      <td>price</td>\n",
       "      <td>android</td>\n",
       "      <td>stock</td>\n",
       "      <td>really</td>\n",
       "      <td>display</td>\n",
       "      <td>best</td>\n",
       "      <td>core</td>\n",
       "      <td>glass</td>\n",
       "    </tr>\n",
       "    <tr>\n",
       "      <th>Topic 8</th>\n",
       "      <td>lenovo</td>\n",
       "      <td>note</td>\n",
       "      <td>mobile</td>\n",
       "      <td>network</td>\n",
       "      <td>problem</td>\n",
       "      <td>phone</td>\n",
       "      <td>sim</td>\n",
       "      <td>working</td>\n",
       "      <td>option</td>\n",
       "      <td>time</td>\n",
       "      <td>signal</td>\n",
       "      <td>issue</td>\n",
       "      <td>jio</td>\n",
       "      <td>like</td>\n",
       "      <td>app</td>\n",
       "    </tr>\n",
       "    <tr>\n",
       "      <th>Topic 9</th>\n",
       "      <td>phone</td>\n",
       "      <td>lenovo</td>\n",
       "      <td>issue</td>\n",
       "      <td>service</td>\n",
       "      <td>amazon</td>\n",
       "      <td>buy</td>\n",
       "      <td>update</td>\n",
       "      <td>bought</td>\n",
       "      <td>customer</td>\n",
       "      <td>day</td>\n",
       "      <td>center</td>\n",
       "      <td>problem</td>\n",
       "      <td>worst</td>\n",
       "      <td>time</td>\n",
       "      <td>month</td>\n",
       "    </tr>\n",
       "  </tbody>\n",
       "</table>\n",
       "</div>"
      ],
      "text/plain": [
       "          Word 0    Word 1   Word 2  ...      Word 12  Word 13  Word 14\n",
       "Topic 0  battery  charging    phone  ...         good  problem   backup\n",
       "Topic 1   mobile      nice     good  ...      working     look   budget\n",
       "Topic 2   camera     money  product  ...        value     want  battery\n",
       "Topic 3    phone       buy   mobile  ...          box  heating  problem\n",
       "Topic 4     good     phone   camera  ...      problem    issue  overall\n",
       "Topic 5  product       bad  working  ...          day    happy    glass\n",
       "Topic 6   camera      good    phone  ...  performance  average      low\n",
       "Topic 7    phone    screen   lenovo  ...         best     core    glass\n",
       "Topic 8   lenovo      note   mobile  ...          jio     like      app\n",
       "Topic 9    phone    lenovo    issue  ...        worst     time    month\n",
       "\n",
       "[10 rows x 15 columns]"
      ]
     },
     "execution_count": 336,
     "metadata": {
      "tags": []
     },
     "output_type": "execute_result"
    }
   ],
   "source": [
    "# Topic - Keywords Dataframe\n",
    "df_topic_keywords = pd.DataFrame(topic_keywords)\n",
    "df_topic_keywords.columns = ['Word '+str(i) for i in range(df_topic_keywords.shape[1])]\n",
    "df_topic_keywords.index = ['Topic '+str(i) for i in range(df_topic_keywords.shape[0])]\n",
    "df_topic_keywords"
   ]
  },
  {
   "cell_type": "code",
   "execution_count": 337,
   "metadata": {
    "colab": {
     "base_uri": "https://localhost:8080/"
    },
    "id": "MWB6f9UagL39",
    "outputId": "afd5bda9-cd40-4fb9-bd97-b43ddd289c66"
   },
   "outputs": [
    {
     "name": "stdout",
     "output_type": "stream",
     "text": [
      "Component's weights: \n",
      " [[ 0.44  0.19  0.18  0.17  0.74  0.18  0.22  0.14  0.21  0.16]\n",
      " [ 0.75  0.04  0.08  0.06 -0.61  0.08  0.12  0.04  0.12  0.12]]\n",
      "Perc of Variance Explained: \n",
      " [0.06 0.19]\n"
     ]
    }
   ],
   "source": [
    "# Construct the k-means clusters\n",
    "from sklearn.cluster import KMeans\n",
    "clusters = KMeans(n_clusters=15, random_state=100).fit_predict(lda_output)\n",
    "\n",
    "# Build the Singular Value Decomposition(SVD) model\n",
    "svd_model = TruncatedSVD(n_components=2)  # 2 components\n",
    "lda_output_svd = svd_model.fit_transform(lda_output)\n",
    "\n",
    "# X and Y axes of the plot using SVD decomposition\n",
    "x = lda_output_svd[:, 0]\n",
    "y = lda_output_svd[:, 1]\n",
    "\n",
    "# Weights for the 15 columns of lda_output, for each component\n",
    "print(\"Component's weights: \\n\", np.round(svd_model.components_, 2))\n",
    "\n",
    "# Percentage of total information in 'lda_output' explained by the two components\n",
    "print(\"Perc of Variance Explained: \\n\", np.round(svd_model.explained_variance_ratio_, 2))\n",
    "\n",
    "\n"
   ]
  },
  {
   "cell_type": "code",
   "execution_count": 338,
   "metadata": {
    "colab": {
     "base_uri": "https://localhost:8080/",
     "height": 747
    },
    "id": "QMZ1GxPHgObL",
    "outputId": "0fabdf17-e320-4960-f303-ff6d246bbd06"
   },
   "outputs": [
    {
     "data": {
      "text/plain": [
       "Text(0.5, 1.0, 'Segregation of Topic Clusters')"
      ]
     },
     "execution_count": 338,
     "metadata": {
      "tags": []
     },
     "output_type": "execute_result"
    },
    {
     "data": {
      "image/png": "[encoded data removed]",
      "text/plain": [
       "<Figure size 864x864 with 1 Axes>"
      ]
     },
     "metadata": {
      "needs_background": "light",
      "tags": []
     },
     "output_type": "display_data"
    }
   ],
   "source": [
    "# Plot\n",
    "plt.figure(figsize=(12, 12))\n",
    "plt.scatter(x, y, c=clusters)\n",
    "plt.xlabel('Component 2')\n",
    "plt.xlabel('Component 1')\n",
    "plt.title(\"Segregation of Topic Clusters\", )\n",
    "\n",
    "#these are the clusters that we acn group together."
   ]
  },
  {
   "cell_type": "code",
   "execution_count": null,
   "metadata": {
    "id": "QGvdL52j0-9M"
   },
   "outputs": [],
   "source": [
    "#here is another approach to apply lda model on the lemmatized data and get the coherence score for the LDA model"
   ]
  },
  {
   "cell_type": "code",
   "execution_count": 339,
   "metadata": {
    "colab": {
     "base_uri": "https://localhost:8080/"
    },
    "id": "OL458r-ggQZM",
    "outputId": "ec4d8182-bb3b-431d-be00-a8a37ad303b0"
   },
   "outputs": [
    {
     "name": "stdout",
     "output_type": "stream",
     "text": [
      "[['good', 'need', 'update', 'improvement']]\n"
     ]
    }
   ],
   "source": [
    "#using gensim simple preprocess funtion to clean the data\n",
    "def sent_to_words(sentences):\n",
    "    for sentence in sentences:\n",
    "        yield(gensim.utils.simple_preprocess(str(sentence), deacc=True))  # deacc=True removes punctuations\n",
    "\n",
    "data_words = list(sent_to_words(data))\n",
    "\n",
    "print(data_words[:1])"
   ]
  },
  {
   "cell_type": "code",
   "execution_count": 340,
   "metadata": {
    "colab": {
     "base_uri": "https://localhost:8080/"
    },
    "id": "zr89zjVXgWtb",
    "outputId": "c9063bf2-6ba7-44c2-fb94-a2c9d32b306e"
   },
   "outputs": [
    {
     "name": "stdout",
     "output_type": "stream",
     "text": [
      "['good', 'need', 'update', 'improvement']\n"
     ]
    }
   ],
   "source": [
    "#converting the data into a list for better computation\n",
    "data = reviews.clean_lemma_pos.values.tolist()\n",
    "data_words = list(sent_to_words(data))\n",
    "\n",
    "print(data_words[:1][0][:30])"
   ]
  },
  {
   "cell_type": "code",
   "execution_count": 341,
   "metadata": {
    "id": "IJy1n8l0gbsS"
   },
   "outputs": [],
   "source": [
    "# Build the bigram and trigram models\n",
    "bigram  = gensim.models.Phrases(data_words, min_count=5, threshold=100) # higher threshold fewer phrases.\n",
    "trigram = gensim.models.Phrases(bigram[data_words], threshold=100)  \n",
    "\n",
    "# Faster way to get a sentence clubbed as a trigram/bigram\n",
    "bigram_mod  = gensim.models.phrases.Phraser(bigram)\n",
    "trigram_mod = gensim.models.phrases.Phraser(trigram)"
   ]
  },
  {
   "cell_type": "code",
   "execution_count": 342,
   "metadata": {
    "id": "8gX2ygKCgd6K"
   },
   "outputs": [],
   "source": [
    "#user defined funtion for making the bigram trigram and lemmatization\n",
    "def make_bigrams(texts):\n",
    "    return [bigram_mod[doc] for doc in texts]\n",
    "\n",
    "def make_trigrams(texts):\n",
    "    return [trigram_mod[bigram_mod[doc]] for doc in texts]\n",
    "\n",
    "def lemmatization(texts):\n",
    "    \"\"\"https://spacy.io/api/annotation\"\"\"\n",
    "    texts_out = []\n",
    "    for sent in texts:\n",
    "        doc = nlp(\" \".join(sent)) \n",
    "        texts_out.append([token.lemma_ for token in doc])\n",
    "    return texts_out"
   ]
  },
  {
   "cell_type": "code",
   "execution_count": 343,
   "metadata": {
    "colab": {
     "base_uri": "https://localhost:8080/"
    },
    "id": "dZ_lrvveggWh",
    "outputId": "0b1f8059-fc3f-4f5b-f399-bd09741b8e0e"
   },
   "outputs": [
    {
     "name": "stdout",
     "output_type": "stream",
     "text": [
      "[['good', 'need', 'update', 'improvement']]\n"
     ]
    }
   ],
   "source": [
    "# Do lemmatization\n",
    "nlp = spacy.load(\"en_core_web_sm\", disable=['parser', 'ner'])\n",
    "data_lemmatized = lemmatization(data_words)\n",
    "\n",
    "print(data_lemmatized[:1])"
   ]
  },
  {
   "cell_type": "code",
   "execution_count": 344,
   "metadata": {
    "colab": {
     "base_uri": "https://localhost:8080/"
    },
    "id": "Qp77Y5pFgiqY",
    "outputId": "7773db3d-b8b0-4b17-99af-5ca3c2cb32c8"
   },
   "outputs": [
    {
     "name": "stdout",
     "output_type": "stream",
     "text": [
      "[(0, 1), (1, 1), (2, 1), (3, 1)]\n"
     ]
    }
   ],
   "source": [
    "import gensim.corpora as corpora\n",
    "\n",
    "# Create Dictionary\n",
    "id2word = corpora.Dictionary(data_lemmatized)\n",
    "\n",
    "# Create Corpus\n",
    "texts = data_lemmatized\n",
    "\n",
    "# Term Document Frequency\n",
    "corpus = [id2word.doc2bow(text) for text in texts]\n",
    "\n",
    "# View\n",
    "print(corpus[:1][0][:30])"
   ]
  },
  {
   "cell_type": "code",
   "execution_count": 345,
   "metadata": {
    "id": "tLxBG1_BglmJ"
   },
   "outputs": [],
   "source": [
    "# Build LDA model\n",
    "lda_model = gensim.models.LdaMulticore(corpus=corpus,\n",
    "                                       id2word=id2word,\n",
    "                                       num_topics=10, \n",
    "                                       random_state=100,\n",
    "                                       chunksize=100,\n",
    "                                       passes=10,\n",
    "                                       per_word_topics=True)"
   ]
  },
  {
   "cell_type": "code",
   "execution_count": 346,
   "metadata": {
    "colab": {
     "base_uri": "https://localhost:8080/"
    },
    "id": "C5JSMdJbgoIz",
    "outputId": "fb6e6fc6-d69b-4540-e687-325cc41a4d4e"
   },
   "outputs": [
    {
     "name": "stdout",
     "output_type": "stream",
     "text": [
      "[(0,\n",
      "  '0.056*\"product\" + 0.041*\"amazon\" + 0.034*\"bad\" + 0.033*\"problem\" + '\n",
      "  '0.030*\"return\" + 0.028*\"lenovo\" + 0.028*\"service\" + 0.023*\"mobile\" + '\n",
      "  '0.016*\"buy\" + 0.016*\"purchase\"'),\n",
      " (1,\n",
      "  '0.109*\"camera\" + 0.088*\"good\" + 0.045*\"battery\" + 0.044*\"quality\" + '\n",
      "  '0.040*\"phone\" + 0.018*\"backup\" + 0.016*\"performance\" + 0.016*\"dual\" + '\n",
      "  '0.013*\"poor\" + 0.012*\"sound\"'),\n",
      " (2,\n",
      "  '0.129*\"good\" + 0.085*\"phone\" + 0.051*\"mobile\" + 0.051*\"product\" + '\n",
      "  '0.045*\"very\" + 0.045*\"price\" + 0.031*\"-PRON-\" + 0.026*\"nice\" + '\n",
      "  '0.023*\"money\" + 0.023*\"awesome\"'),\n",
      " (3,\n",
      "  '0.069*\"phone\" + 0.033*\"issue\" + 0.032*\"get\" + 0.028*\"buy\" + 0.028*\"use\" + '\n",
      "  '0.027*\"-PRON-\" + 0.021*\"do\" + 0.019*\"time\" + 0.017*\"update\" + 0.016*\"heat\"'),\n",
      " (4,\n",
      "  '0.045*\"work\" + 0.021*\"phone\" + 0.020*\"screen\" + 0.018*\"-PRON-\" + '\n",
      "  '0.017*\"properly\" + 0.016*\"gb\" + 0.016*\"speaker\" + 0.015*\"device\" + '\n",
      "  '0.014*\"app\" + 0.014*\"sim\"'),\n",
      " (5,\n",
      "  '0.025*\"photo\" + 0.021*\"ok\" + 0.021*\"notification\" + 0.021*\"no\" + '\n",
      "  '0.019*\"always\" + 0.018*\"earphone\" + 0.017*\"send\" + 0.016*\"gallery\" + '\n",
      "  '0.014*\"possible\" + 0.013*\"improve\"'),\n",
      " (6,\n",
      "  '0.030*\"delivery\" + 0.029*\"be\" + 0.029*\"touch\" + 0.024*\"thank\" + '\n",
      "  '0.021*\"high\" + 0.020*\"amazon\" + 0.018*\"for\" + 0.015*\"at\" + 0.013*\"response\" '\n",
      "  '+ 0.013*\"become\"'),\n",
      " (7,\n",
      "  '0.116*\"battery\" + 0.061*\"charge\" + 0.043*\"drain\" + 0.034*\"fast\" + '\n",
      "  '0.031*\"hour\" + 0.025*\"take\" + 0.020*\"low\" + 0.019*\"-PRON-\" + 0.015*\"full\" + '\n",
      "  '0.015*\"poor\"'),\n",
      " (8,\n",
      "  '0.062*\"call\" + 0.033*\"hai\" + 0.023*\"option\" + 0.023*\"cast\" + 0.021*\"screen\" '\n",
      "  '+ 0.020*\"set\" + 0.019*\"not\" + 0.017*\"feature\" + 0.017*\"record\" + '\n",
      "  '0.015*\"app\"'),\n",
      " (9,\n",
      "  '0.126*\"lenovo\" + 0.100*\"note\" + 0.035*\"better\" + 0.032*\"android\" + '\n",
      "  '0.022*\"dolby\" + 0.017*\"power\" + 0.017*\"like\" + 0.016*\"stock\" + '\n",
      "  '0.014*\"atmos\" + 0.013*\"pls\"')]\n"
     ]
    }
   ],
   "source": [
    "from pprint import pprint\n",
    "\n",
    "# Print the Keyword in the 10 topics\n",
    "pprint(lda_model.print_topics())\n",
    "doc_lda = lda_model[corpus]"
   ]
  },
  {
   "cell_type": "code",
   "execution_count": 347,
   "metadata": {
    "id": "lEm-J3Z2gsYo"
   },
   "outputs": [],
   "source": [
    "lda_model = gensim.models.LdaMulticore(corpus=corpus,\n",
    "                                       id2word=id2word,\n",
    "                                       num_topics=10, \n",
    "                                       random_state=100,\n",
    "                                       chunksize=100,\n",
    "                                       passes=10,\n",
    "                                       per_word_topics=True)"
   ]
  },
  {
   "cell_type": "code",
   "execution_count": 348,
   "metadata": {
    "colab": {
     "base_uri": "https://localhost:8080/"
    },
    "id": "wz3nSwC_gwJN",
    "outputId": "64fcf790-a603-481f-d178-b70d8683cbb8"
   },
   "outputs": [
    {
     "name": "stdout",
     "output_type": "stream",
     "text": [
      "Coherence Score:  0.49113291932882\n"
     ]
    }
   ],
   "source": [
    "from gensim.models import CoherenceModel\n",
    "\n",
    "# Compute Coherence Score\n",
    "coherence_model_lda = CoherenceModel(model=lda_model, texts=data_lemmatized, dictionary=id2word, coherence='c_v')\n",
    "\n",
    "coherence_lda = coherence_model_lda.get_coherence()\n",
    "print('Coherence Score: ', coherence_lda)"
   ]
  },
  {
   "cell_type": "code",
   "execution_count": 349,
   "metadata": {
    "id": "V8_nlwJZgy44"
   },
   "outputs": [],
   "source": [
    "#checking for optimal number of topics \n",
    "def compute_coherence_values(dictionary, corpus, texts, limit, start=2, step=3):\n",
    "    \"\"\"\n",
    "    Compute c_v coherence for various number of topics\n",
    "\n",
    "    Parameters:\n",
    "    ----------\n",
    "    dictionary : Gensim dictionary\n",
    "    corpus : Gensim corpus\n",
    "    texts : List of input texts\n",
    "    limit : Max num of topics\n",
    "\n",
    "    Returns:\n",
    "    -------\n",
    "    model_list : List of LDA topic models\n",
    "    coherence_values : Coherence values corresponding to the LDA model with respective number of topics\n",
    "    \"\"\"\n",
    "    coherence_values = []\n",
    "    model_list = []\n",
    "    for num_topics in range(start, limit, step):\n",
    "        model = gensim.models.LdaMulticore(corpus=corpus,\n",
    "                                       id2word=id2word,\n",
    "                                       num_topics=num_topics, \n",
    "                                       random_state=100,\n",
    "                                       chunksize=100,\n",
    "                                       passes=10,\n",
    "                                       per_word_topics=True)\n",
    "        model_list.append(model)\n",
    "        coherencemodel = CoherenceModel(model=model, texts=texts, dictionary=dictionary, coherence='c_v')\n",
    "        coherence_values.append(coherencemodel.get_coherence())\n",
    "\n",
    "    return model_list, coherence_values"
   ]
  },
  {
   "cell_type": "code",
   "execution_count": 350,
   "metadata": {
    "id": "5GcMVMpsg1X-"
   },
   "outputs": [],
   "source": [
    "model_list, coherence_values = compute_coherence_values(dictionary=id2word, corpus=corpus, texts=data_lemmatized, start=2, limit=40, step=6)"
   ]
  },
  {
   "cell_type": "code",
   "execution_count": 351,
   "metadata": {
    "colab": {
     "base_uri": "https://localhost:8080/",
     "height": 279
    },
    "id": "eSzBsKbVg4Fk",
    "outputId": "20504a8b-7e4d-4056-9281-9bde109631f1"
   },
   "outputs": [
    {
     "data": {
      "image/png": "[encoded data removed]",
      "text/plain": [
       "<Figure size 432x288 with 1 Axes>"
      ]
     },
     "metadata": {
      "needs_background": "light",
      "tags": []
     },
     "output_type": "display_data"
    }
   ],
   "source": [
    "limit=40; start=2; step=6;\n",
    "x = range(start, limit, step)\n",
    "plt.plot(x, coherence_values)\n",
    "plt.xlabel(\"Num Topics\")\n",
    "plt.ylabel(\"Coherence score\")\n",
    "plt.legend((\"coherence_values\"), loc='best')\n",
    "plt.show()"
   ]
  },
  {
   "cell_type": "code",
   "execution_count": 352,
   "metadata": {
    "colab": {
     "base_uri": "https://localhost:8080/"
    },
    "id": "F-TknA8Eg7p-",
    "outputId": "811227b2-ca67-4790-ca07-44bccc7dc3e6"
   },
   "outputs": [
    {
     "name": "stdout",
     "output_type": "stream",
     "text": [
      "Num Topics = 2  has Coherence Value of 0.507\n",
      "Num Topics = 8  has Coherence Value of 0.5263\n",
      "Num Topics = 14  has Coherence Value of 0.4945\n",
      "Num Topics = 20  has Coherence Value of 0.4446\n",
      "Num Topics = 26  has Coherence Value of 0.4168\n",
      "Num Topics = 32  has Coherence Value of 0.4091\n",
      "Num Topics = 38  has Coherence Value of 0.4147\n"
     ]
    }
   ],
   "source": [
    "# Print the coherence scores\n",
    "for m, cv in zip(x, coherence_values):\n",
    "    print(\"Num Topics =\", m, \" has Coherence Value of\", round(cv, 4))\n",
    "    #we can observe that 8 is the number of topics for getting the optimal number of topics"
   ]
  },
  {
   "cell_type": "code",
   "execution_count": 353,
   "metadata": {
    "colab": {
     "base_uri": "https://localhost:8080/"
    },
    "id": "6AQ_UzOvhBcd",
    "outputId": "8809b42f-a374-4238-b528-e07f3aefcc0f"
   },
   "outputs": [
    {
     "name": "stdout",
     "output_type": "stream",
     "text": [
      "[(0,\n",
      "  '0.034*\"service\" + 0.030*\"amazon\" + 0.028*\"call\" + 0.024*\"hai\" + '\n",
      "  '0.017*\"support\" + 0.016*\"product\" + 0.016*\"network\" + 0.013*\"replace\" + '\n",
      "  '0.013*\"customer\" + 0.012*\"return\"'),\n",
      " (1,\n",
      "  '0.105*\"camera\" + 0.067*\"good\" + 0.042*\"battery\" + 0.040*\"quality\" + '\n",
      "  '0.028*\"phone\" + 0.018*\"performance\" + 0.017*\"dual\" + 0.016*\"low\" + '\n",
      "  '0.016*\"poor\" + 0.015*\"backup\"'),\n",
      " (2,\n",
      "  '0.023*\"money\" + 0.022*\"value\" + 0.015*\"jack\" + 0.014*\"wise\" + '\n",
      "  '0.013*\"already\" + 0.010*\"anyone\" + 0.010*\"headphone\" + 0.010*\"nhi\" + '\n",
      "  '0.010*\"ho\" + 0.010*\"bhi\"'),\n",
      " (3,\n",
      "  '0.065*\"phone\" + 0.051*\"buy\" + 0.037*\"bad\" + 0.031*\"problem\" + '\n",
      "  '0.029*\"product\" + 0.028*\"-PRON-\" + 0.028*\"issue\" + 0.028*\"mobile\" + '\n",
      "  '0.025*\"do\" + 0.024*\"lenovo\"'),\n",
      " (4,\n",
      "  '0.032*\"phone\" + 0.023*\"lenovo\" + 0.022*\"work\" + 0.019*\"note\" + '\n",
      "  '0.018*\"-PRON-\" + 0.018*\"use\" + 0.015*\"get\" + 0.014*\"one\" + 0.013*\"month\" + '\n",
      "  '0.012*\"app\"'),\n",
      " (5,\n",
      "  '0.138*\"good\" + 0.075*\"phone\" + 0.037*\"price\" + 0.030*\"mobile\" + '\n",
      "  '0.030*\"nice\" + 0.027*\"camera\" + 0.026*\"product\" + 0.022*\"awesome\" + '\n",
      "  '0.021*\"feature\" + 0.020*\"great\"'),\n",
      " (6,\n",
      "  '0.036*\"work\" + 0.028*\"come\" + 0.024*\"update\" + 0.021*\"properly\" + '\n",
      "  '0.020*\"bluetooth\" + 0.016*\"device\" + 0.014*\"problem\" + 0.013*\"change\" + '\n",
      "  '0.012*\"screen\" + 0.011*\"pls\"'),\n",
      " (7,\n",
      "  '0.092*\"battery\" + 0.068*\"charge\" + 0.032*\"drain\" + 0.027*\"get\" + '\n",
      "  '0.026*\"time\" + 0.026*\"day\" + 0.024*\"fast\" + 0.024*\"take\" + 0.023*\"hour\" + '\n",
      "  '0.019*\"heat\"')]\n"
     ]
    }
   ],
   "source": [
    "# Select the model and print the topics\n",
    "optimal_model = model_list[1]\n",
    "model_topics = optimal_model.show_topics(formatted=False)\n",
    "pprint(optimal_model.print_topics(num_words=10))"
   ]
  },
  {
   "cell_type": "code",
   "execution_count": null,
   "metadata": {
    "id": "VwEaNvjehFtG"
   },
   "outputs": [],
   "source": [
    "-------------------------End-----------------------------"
   ]
  },
  {
   "cell_type": "code",
   "execution_count": null,
   "metadata": {},
   "outputs": [],
   "source": [
    "ford torino  buick skylark 320  amc rebel sst  amc rebel sst  plymouth satellite"
   ]
  }
 ],
 "metadata": {
  "colab": {
   "name": "K8ReviewLDA-Sayar-Samanta.ipynb",
   "provenance": []
  },
  "kernelspec": {
   "display_name": "Python 3",
   "language": "python",
   "name": "python3"
  },
  "language_info": {
   "codemirror_mode": {
    "name": "ipython",
    "version": 3
   },
   "file_extension": ".py",
   "mimetype": "text/x-python",
   "name": "python",
   "nbconvert_exporter": "python",
   "pygments_lexer": "ipython3",
   "version": "3.7.6"
  }
 },
 "nbformat": 4,
 "nbformat_minor": 4
}
