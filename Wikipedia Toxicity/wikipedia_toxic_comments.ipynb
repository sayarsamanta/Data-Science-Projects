{
 "cells": [
  {
   "cell_type": "code",
   "execution_count": 1,
   "metadata": {},
   "outputs": [],
   "source": [
    "#DESCRIPTION\n",
    "\n",
    "#Using NLP and machine learning, make a model to identify toxic comments from the Talk edit pages on Wikipedia. Help identify the words that make a comment toxic.\n",
    "\n",
    "#Problem Statement:  \n",
    "\n",
    "#Wikipedia is the world’s largest and most popular reference work on the internet with about 500 million unique visitors per month. It also has millions of contributors who can make edits to pages. The Talk edit pages, the key community interaction forum where the contributing community interacts or discusses or debates about the changes pertaining to a particular topic. \n",
    "\n",
    "#Wikipedia continuously strives to help online discussion become more productive and respectful. You are a data scientist at Wikipedia who will help Wikipedia to build a predictive model that identifies toxic comments in the discussion and marks them for cleanup by using NLP and machine learning. Post that, help identify the top terms from the toxic comments. \n",
    "\n",
    "#Domain: Internet\n",
    "\n",
    "#Analysis to be done: Build a text classification model using NLP and machine learning that detects toxic comments.\n",
    "\n",
    "#Content: \n",
    "\n",
    "#id: identifier number of the comment\n",
    "\n",
    "#comment_text: the text in the comment\n",
    "\n",
    "#toxic: 0 (non-toxic) /1 (toxic)"
   ]
  },
  {
   "cell_type": "code",
   "execution_count": 2,
   "metadata": {},
   "outputs": [
    {
     "name": "stderr",
     "output_type": "stream",
     "text": [
      "[nltk_data] Downloading package punkt to\n",
      "[nltk_data]     /Users/sayarsamanta/nltk_data...\n",
      "[nltk_data]   Package punkt is already up-to-date!\n",
      "[nltk_data] Downloading package stopwords to\n",
      "[nltk_data]     /Users/sayarsamanta/nltk_data...\n",
      "[nltk_data]   Package stopwords is already up-to-date!\n",
      "[nltk_data] Downloading package averaged_perceptron_tagger to\n",
      "[nltk_data]     /Users/sayarsamanta/nltk_data...\n",
      "[nltk_data]   Package averaged_perceptron_tagger is already up-to-\n",
      "[nltk_data]       date!\n",
      "[nltk_data] Downloading package wordnet to\n",
      "[nltk_data]     /Users/sayarsamanta/nltk_data...\n",
      "[nltk_data]   Package wordnet is already up-to-date!\n"
     ]
    },
    {
     "data": {
      "text/plain": [
       "True"
      ]
     },
     "execution_count": 2,
     "metadata": {},
     "output_type": "execute_result"
    }
   ],
   "source": [
    "import nltk\n",
    "nltk.download('punkt')\n",
    "nltk.download('stopwords')\n",
    "nltk.download('averaged_perceptron_tagger')\n",
    "nltk.download('wordnet')"
   ]
  },
  {
   "cell_type": "code",
   "execution_count": 3,
   "metadata": {},
   "outputs": [
    {
     "name": "stdout",
     "output_type": "stream",
     "text": [
      "Requirement already satisfied: imbalanced-learn in /Volumes/Samsung_T5/Anaconda/anaconda3/lib/python3.7/site-packages (0.8.0)\n",
      "Requirement already satisfied: numpy>=1.13.3 in /Volumes/Samsung_T5/Anaconda/anaconda3/lib/python3.7/site-packages (from imbalanced-learn) (1.18.1)\n",
      "Requirement already satisfied: scikit-learn>=0.24 in /Volumes/Samsung_T5/Anaconda/anaconda3/lib/python3.7/site-packages (from imbalanced-learn) (0.24.1)\n",
      "Requirement already satisfied: scipy>=0.19.1 in /Volumes/Samsung_T5/Anaconda/anaconda3/lib/python3.7/site-packages (from imbalanced-learn) (1.4.1)\n",
      "Requirement already satisfied: joblib>=0.11 in /Volumes/Samsung_T5/Anaconda/anaconda3/lib/python3.7/site-packages (from imbalanced-learn) (0.14.1)\n",
      "Requirement already satisfied: threadpoolctl>=2.0.0 in /Volumes/Samsung_T5/Anaconda/anaconda3/lib/python3.7/site-packages (from scikit-learn>=0.24->imbalanced-learn) (2.1.0)\n"
     ]
    }
   ],
   "source": [
    "!pip install imbalanced-learn"
   ]
  },
  {
   "cell_type": "code",
   "execution_count": 4,
   "metadata": {},
   "outputs": [
    {
     "name": "stdout",
     "output_type": "stream",
     "text": [
      "Requirement already satisfied: cufflinks in /Volumes/Samsung_T5/Anaconda/anaconda3/lib/python3.7/site-packages (0.17.3)\n",
      "Requirement already satisfied: numpy>=1.9.2 in /Volumes/Samsung_T5/Anaconda/anaconda3/lib/python3.7/site-packages (from cufflinks) (1.18.1)\n",
      "Requirement already satisfied: ipywidgets>=7.0.0 in /Volumes/Samsung_T5/Anaconda/anaconda3/lib/python3.7/site-packages (from cufflinks) (7.5.1)\n",
      "Requirement already satisfied: pandas>=0.19.2 in /Volumes/Samsung_T5/Anaconda/anaconda3/lib/python3.7/site-packages (from cufflinks) (1.2.0)\n",
      "Requirement already satisfied: colorlover>=0.2.1 in /Volumes/Samsung_T5/Anaconda/anaconda3/lib/python3.7/site-packages (from cufflinks) (0.3.0)\n",
      "Requirement already satisfied: ipython>=5.3.0 in /Volumes/Samsung_T5/Anaconda/anaconda3/lib/python3.7/site-packages (from cufflinks) (7.12.0)\n",
      "Requirement already satisfied: six>=1.9.0 in /Volumes/Samsung_T5/Anaconda/anaconda3/lib/python3.7/site-packages (from cufflinks) (1.14.0)\n",
      "Requirement already satisfied: setuptools>=34.4.1 in /Volumes/Samsung_T5/Anaconda/anaconda3/lib/python3.7/site-packages (from cufflinks) (46.0.0.post20200309)\n",
      "Requirement already satisfied: plotly>=4.1.1 in /Volumes/Samsung_T5/Anaconda/anaconda3/lib/python3.7/site-packages (from cufflinks) (4.14.3)\n",
      "Requirement already satisfied: traitlets>=4.3.1 in /Volumes/Samsung_T5/Anaconda/anaconda3/lib/python3.7/site-packages (from ipywidgets>=7.0.0->cufflinks) (4.3.3)\n",
      "Requirement already satisfied: widgetsnbextension~=3.5.0 in /Volumes/Samsung_T5/Anaconda/anaconda3/lib/python3.7/site-packages (from ipywidgets>=7.0.0->cufflinks) (3.5.1)\n",
      "Requirement already satisfied: ipykernel>=4.5.1 in /Volumes/Samsung_T5/Anaconda/anaconda3/lib/python3.7/site-packages (from ipywidgets>=7.0.0->cufflinks) (5.1.4)\n",
      "Requirement already satisfied: nbformat>=4.2.0 in /Volumes/Samsung_T5/Anaconda/anaconda3/lib/python3.7/site-packages (from ipywidgets>=7.0.0->cufflinks) (5.0.4)\n",
      "Requirement already satisfied: python-dateutil>=2.7.3 in /Volumes/Samsung_T5/Anaconda/anaconda3/lib/python3.7/site-packages (from pandas>=0.19.2->cufflinks) (2.8.1)\n",
      "Requirement already satisfied: pytz>=2017.3 in /Volumes/Samsung_T5/Anaconda/anaconda3/lib/python3.7/site-packages (from pandas>=0.19.2->cufflinks) (2019.3)\n",
      "Requirement already satisfied: pygments in /Volumes/Samsung_T5/Anaconda/anaconda3/lib/python3.7/site-packages (from ipython>=5.3.0->cufflinks) (2.5.2)\n",
      "Requirement already satisfied: pickleshare in /Volumes/Samsung_T5/Anaconda/anaconda3/lib/python3.7/site-packages (from ipython>=5.3.0->cufflinks) (0.7.5)\n",
      "Requirement already satisfied: jedi>=0.10 in /Volumes/Samsung_T5/Anaconda/anaconda3/lib/python3.7/site-packages (from ipython>=5.3.0->cufflinks) (0.14.1)\n",
      "Requirement already satisfied: backcall in /Volumes/Samsung_T5/Anaconda/anaconda3/lib/python3.7/site-packages (from ipython>=5.3.0->cufflinks) (0.1.0)\n",
      "Requirement already satisfied: appnope; sys_platform == \"darwin\" in /Volumes/Samsung_T5/Anaconda/anaconda3/lib/python3.7/site-packages (from ipython>=5.3.0->cufflinks) (0.1.0)\n",
      "Requirement already satisfied: decorator in /Volumes/Samsung_T5/Anaconda/anaconda3/lib/python3.7/site-packages (from ipython>=5.3.0->cufflinks) (4.4.1)\n",
      "Requirement already satisfied: prompt-toolkit!=3.0.0,!=3.0.1,<3.1.0,>=2.0.0 in /Volumes/Samsung_T5/Anaconda/anaconda3/lib/python3.7/site-packages (from ipython>=5.3.0->cufflinks) (3.0.3)\n",
      "Requirement already satisfied: pexpect; sys_platform != \"win32\" in /Volumes/Samsung_T5/Anaconda/anaconda3/lib/python3.7/site-packages (from ipython>=5.3.0->cufflinks) (4.8.0)\n",
      "Requirement already satisfied: retrying>=1.3.3 in /Volumes/Samsung_T5/Anaconda/anaconda3/lib/python3.7/site-packages (from plotly>=4.1.1->cufflinks) (1.3.3)\n",
      "Requirement already satisfied: ipython-genutils in /Volumes/Samsung_T5/Anaconda/anaconda3/lib/python3.7/site-packages (from traitlets>=4.3.1->ipywidgets>=7.0.0->cufflinks) (0.2.0)\n",
      "Requirement already satisfied: notebook>=4.4.1 in /Volumes/Samsung_T5/Anaconda/anaconda3/lib/python3.7/site-packages (from widgetsnbextension~=3.5.0->ipywidgets>=7.0.0->cufflinks) (6.0.3)\n",
      "Requirement already satisfied: tornado>=4.2 in /Volumes/Samsung_T5/Anaconda/anaconda3/lib/python3.7/site-packages (from ipykernel>=4.5.1->ipywidgets>=7.0.0->cufflinks) (6.0.3)\n",
      "Requirement already satisfied: jupyter-client in /Volumes/Samsung_T5/Anaconda/anaconda3/lib/python3.7/site-packages (from ipykernel>=4.5.1->ipywidgets>=7.0.0->cufflinks) (5.3.4)\n",
      "Requirement already satisfied: jsonschema!=2.5.0,>=2.4 in /Volumes/Samsung_T5/Anaconda/anaconda3/lib/python3.7/site-packages (from nbformat>=4.2.0->ipywidgets>=7.0.0->cufflinks) (3.2.0)\n",
      "Requirement already satisfied: jupyter-core in /Volumes/Samsung_T5/Anaconda/anaconda3/lib/python3.7/site-packages (from nbformat>=4.2.0->ipywidgets>=7.0.0->cufflinks) (4.6.1)\n",
      "Requirement already satisfied: parso>=0.5.0 in /Volumes/Samsung_T5/Anaconda/anaconda3/lib/python3.7/site-packages (from jedi>=0.10->ipython>=5.3.0->cufflinks) (0.5.2)\n",
      "Requirement already satisfied: wcwidth in /Volumes/Samsung_T5/Anaconda/anaconda3/lib/python3.7/site-packages (from prompt-toolkit!=3.0.0,!=3.0.1,<3.1.0,>=2.0.0->ipython>=5.3.0->cufflinks) (0.1.8)\n",
      "Requirement already satisfied: ptyprocess>=0.5 in /Volumes/Samsung_T5/Anaconda/anaconda3/lib/python3.7/site-packages (from pexpect; sys_platform != \"win32\"->ipython>=5.3.0->cufflinks) (0.6.0)\n",
      "Requirement already satisfied: jinja2 in /Volumes/Samsung_T5/Anaconda/anaconda3/lib/python3.7/site-packages (from notebook>=4.4.1->widgetsnbextension~=3.5.0->ipywidgets>=7.0.0->cufflinks) (2.11.1)\n",
      "Requirement already satisfied: Send2Trash in /Volumes/Samsung_T5/Anaconda/anaconda3/lib/python3.7/site-packages (from notebook>=4.4.1->widgetsnbextension~=3.5.0->ipywidgets>=7.0.0->cufflinks) (1.5.0)\n",
      "Requirement already satisfied: prometheus-client in /Volumes/Samsung_T5/Anaconda/anaconda3/lib/python3.7/site-packages (from notebook>=4.4.1->widgetsnbextension~=3.5.0->ipywidgets>=7.0.0->cufflinks) (0.7.1)\n",
      "Requirement already satisfied: nbconvert in /Volumes/Samsung_T5/Anaconda/anaconda3/lib/python3.7/site-packages (from notebook>=4.4.1->widgetsnbextension~=3.5.0->ipywidgets>=7.0.0->cufflinks) (5.6.1)\n",
      "Requirement already satisfied: pyzmq>=17 in /Volumes/Samsung_T5/Anaconda/anaconda3/lib/python3.7/site-packages (from notebook>=4.4.1->widgetsnbextension~=3.5.0->ipywidgets>=7.0.0->cufflinks) (18.1.1)\n",
      "Requirement already satisfied: terminado>=0.8.1 in /Volumes/Samsung_T5/Anaconda/anaconda3/lib/python3.7/site-packages (from notebook>=4.4.1->widgetsnbextension~=3.5.0->ipywidgets>=7.0.0->cufflinks) (0.8.3)\n",
      "Requirement already satisfied: importlib-metadata; python_version < \"3.8\" in /Volumes/Samsung_T5/Anaconda/anaconda3/lib/python3.7/site-packages (from jsonschema!=2.5.0,>=2.4->nbformat>=4.2.0->ipywidgets>=7.0.0->cufflinks) (1.5.0)\n",
      "Requirement already satisfied: attrs>=17.4.0 in /Volumes/Samsung_T5/Anaconda/anaconda3/lib/python3.7/site-packages (from jsonschema!=2.5.0,>=2.4->nbformat>=4.2.0->ipywidgets>=7.0.0->cufflinks) (19.3.0)\n",
      "Requirement already satisfied: pyrsistent>=0.14.0 in /Volumes/Samsung_T5/Anaconda/anaconda3/lib/python3.7/site-packages (from jsonschema!=2.5.0,>=2.4->nbformat>=4.2.0->ipywidgets>=7.0.0->cufflinks) (0.15.7)\n",
      "Requirement already satisfied: MarkupSafe>=0.23 in /Volumes/Samsung_T5/Anaconda/anaconda3/lib/python3.7/site-packages (from jinja2->notebook>=4.4.1->widgetsnbextension~=3.5.0->ipywidgets>=7.0.0->cufflinks) (1.1.1)\n",
      "Requirement already satisfied: pandocfilters>=1.4.1 in /Volumes/Samsung_T5/Anaconda/anaconda3/lib/python3.7/site-packages (from nbconvert->notebook>=4.4.1->widgetsnbextension~=3.5.0->ipywidgets>=7.0.0->cufflinks) (1.4.2)\n",
      "Requirement already satisfied: testpath in /Volumes/Samsung_T5/Anaconda/anaconda3/lib/python3.7/site-packages (from nbconvert->notebook>=4.4.1->widgetsnbextension~=3.5.0->ipywidgets>=7.0.0->cufflinks) (0.4.4)\n",
      "Requirement already satisfied: bleach in /Volumes/Samsung_T5/Anaconda/anaconda3/lib/python3.7/site-packages (from nbconvert->notebook>=4.4.1->widgetsnbextension~=3.5.0->ipywidgets>=7.0.0->cufflinks) (3.1.0)\n",
      "Requirement already satisfied: mistune<2,>=0.8.1 in /Volumes/Samsung_T5/Anaconda/anaconda3/lib/python3.7/site-packages (from nbconvert->notebook>=4.4.1->widgetsnbextension~=3.5.0->ipywidgets>=7.0.0->cufflinks) (0.8.4)\n",
      "Requirement already satisfied: entrypoints>=0.2.2 in /Volumes/Samsung_T5/Anaconda/anaconda3/lib/python3.7/site-packages (from nbconvert->notebook>=4.4.1->widgetsnbextension~=3.5.0->ipywidgets>=7.0.0->cufflinks) (0.3)\n",
      "Requirement already satisfied: defusedxml in /Volumes/Samsung_T5/Anaconda/anaconda3/lib/python3.7/site-packages (from nbconvert->notebook>=4.4.1->widgetsnbextension~=3.5.0->ipywidgets>=7.0.0->cufflinks) (0.6.0)\n",
      "Requirement already satisfied: zipp>=0.5 in /Volumes/Samsung_T5/Anaconda/anaconda3/lib/python3.7/site-packages (from importlib-metadata; python_version < \"3.8\"->jsonschema!=2.5.0,>=2.4->nbformat>=4.2.0->ipywidgets>=7.0.0->cufflinks) (2.2.0)\n",
      "Requirement already satisfied: webencodings in /Volumes/Samsung_T5/Anaconda/anaconda3/lib/python3.7/site-packages (from bleach->nbconvert->notebook>=4.4.1->widgetsnbextension~=3.5.0->ipywidgets>=7.0.0->cufflinks) (0.5.1)\n"
     ]
    }
   ],
   "source": [
    "!pip install cufflinks"
   ]
  },
  {
   "cell_type": "code",
   "execution_count": 5,
   "metadata": {},
   "outputs": [
    {
     "name": "stdout",
     "output_type": "stream",
     "text": [
      "Requirement already satisfied: chart_studio in /Volumes/Samsung_T5/Anaconda/anaconda3/lib/python3.7/site-packages (1.1.0)\n",
      "Requirement already satisfied: plotly in /Volumes/Samsung_T5/Anaconda/anaconda3/lib/python3.7/site-packages (from chart_studio) (4.14.3)\n",
      "Requirement already satisfied: requests in /Volumes/Samsung_T5/Anaconda/anaconda3/lib/python3.7/site-packages (from chart_studio) (2.25.1)\n",
      "Requirement already satisfied: retrying>=1.3.3 in /Volumes/Samsung_T5/Anaconda/anaconda3/lib/python3.7/site-packages (from chart_studio) (1.3.3)\n",
      "Requirement already satisfied: six in /Volumes/Samsung_T5/Anaconda/anaconda3/lib/python3.7/site-packages (from chart_studio) (1.14.0)\n",
      "Requirement already satisfied: idna<3,>=2.5 in /Volumes/Samsung_T5/Anaconda/anaconda3/lib/python3.7/site-packages (from requests->chart_studio) (2.8)\n",
      "Requirement already satisfied: urllib3<1.27,>=1.21.1 in /Volumes/Samsung_T5/Anaconda/anaconda3/lib/python3.7/site-packages (from requests->chart_studio) (1.25.8)\n",
      "Requirement already satisfied: chardet<5,>=3.0.2 in /Volumes/Samsung_T5/Anaconda/anaconda3/lib/python3.7/site-packages (from requests->chart_studio) (3.0.4)\n",
      "Requirement already satisfied: certifi>=2017.4.17 in /Volumes/Samsung_T5/Anaconda/anaconda3/lib/python3.7/site-packages (from requests->chart_studio) (2019.11.28)\n"
     ]
    }
   ],
   "source": [
    "!pip install chart_studio"
   ]
  },
  {
   "cell_type": "code",
   "execution_count": 168,
   "metadata": {},
   "outputs": [],
   "source": [
    "#Import libraries\n",
    "import pandas as pd\n",
    "import numpy as np\n",
    "import string\n",
    "from nltk.corpus import stopwords\n",
    "from nltk.stem.wordnet import WordNetLemmatizer\n",
    "#from wordcloud import WordCloud\n",
    "from nltk.tokenize import TweetTokenizer\n",
    "import re\n",
    "import matplotlib.pyplot as plt\n",
    "%matplotlib inline\n",
    "from bs4 import BeautifulSoup\n",
    "from sklearn.feature_extraction.text import CountVectorizer\n",
    "from sklearn.feature_extraction.text import TfidfTransformer\n",
    "from sklearn.model_selection import train_test_split\n",
    "from sklearn.feature_extraction.text import TfidfVectorizer\n",
    "from sklearn.linear_model import LogisticRegression\n",
    "from sklearn.metrics import confusion_matrix\n",
    "from sklearn.metrics import classification_report\n",
    "from imblearn.over_sampling import SMOTE\n",
    "from sklearn.model_selection import GridSearchCV,StratifiedKFold\n",
    "import seaborn as sns\n",
    "from sklearn.metrics import recall_score\n",
    "from imblearn.pipeline import make_pipeline\n",
    "from string import punctuation\n",
    "from nltk import tokenize,WordNetLemmatizer, PorterStemmer\n",
    "from nltk.corpus import wordnet"
   ]
  },
  {
   "cell_type": "code",
   "execution_count": 169,
   "metadata": {},
   "outputs": [
    {
     "data": {
      "text/html": [
       "<div>\n",
       "<style scoped>\n",
       "    .dataframe tbody tr th:only-of-type {\n",
       "        vertical-align: middle;\n",
       "    }\n",
       "\n",
       "    .dataframe tbody tr th {\n",
       "        vertical-align: top;\n",
       "    }\n",
       "\n",
       "    .dataframe thead th {\n",
       "        text-align: right;\n",
       "    }\n",
       "</style>\n",
       "<table border=\"1\" class=\"dataframe\">\n",
       "  <thead>\n",
       "    <tr style=\"text-align: right;\">\n",
       "      <th></th>\n",
       "      <th>id</th>\n",
       "      <th>comment_text</th>\n",
       "      <th>toxic</th>\n",
       "    </tr>\n",
       "  </thead>\n",
       "  <tbody>\n",
       "    <tr>\n",
       "      <th>0</th>\n",
       "      <td>e617e2489abe9bca</td>\n",
       "      <td>\"\\r\\n\\r\\n A barnstar for you! \\r\\n\\r\\n  The De...</td>\n",
       "      <td>0</td>\n",
       "    </tr>\n",
       "    <tr>\n",
       "      <th>1</th>\n",
       "      <td>9250cf637294e09d</td>\n",
       "      <td>\"\\r\\n\\r\\nThis seems unbalanced.  whatever I ha...</td>\n",
       "      <td>0</td>\n",
       "    </tr>\n",
       "    <tr>\n",
       "      <th>2</th>\n",
       "      <td>ce1aa4592d5240ca</td>\n",
       "      <td>Marya Dzmitruk was born in Minsk, Belarus in M...</td>\n",
       "      <td>0</td>\n",
       "    </tr>\n",
       "    <tr>\n",
       "      <th>3</th>\n",
       "      <td>48105766ff7f075b</td>\n",
       "      <td>\"\\r\\n\\r\\nTalkback\\r\\n\\r\\n Dear Celestia...  \"</td>\n",
       "      <td>0</td>\n",
       "    </tr>\n",
       "    <tr>\n",
       "      <th>4</th>\n",
       "      <td>0543d4f82e5470b6</td>\n",
       "      <td>New Categories \\r\\n\\r\\nI honestly think that w...</td>\n",
       "      <td>0</td>\n",
       "    </tr>\n",
       "  </tbody>\n",
       "</table>\n",
       "</div>"
      ],
      "text/plain": [
       "                 id                                       comment_text  toxic\n",
       "0  e617e2489abe9bca  \"\\r\\n\\r\\n A barnstar for you! \\r\\n\\r\\n  The De...      0\n",
       "1  9250cf637294e09d  \"\\r\\n\\r\\nThis seems unbalanced.  whatever I ha...      0\n",
       "2  ce1aa4592d5240ca  Marya Dzmitruk was born in Minsk, Belarus in M...      0\n",
       "3  48105766ff7f075b      \"\\r\\n\\r\\nTalkback\\r\\n\\r\\n Dear Celestia...  \"      0\n",
       "4  0543d4f82e5470b6  New Categories \\r\\n\\r\\nI honestly think that w...      0"
      ]
     },
     "execution_count": 169,
     "metadata": {},
     "output_type": "execute_result"
    }
   ],
   "source": [
    "df=pd.read_csv('train-2.csv')\n",
    "df.head()"
   ]
  },
  {
   "cell_type": "code",
   "execution_count": 170,
   "metadata": {},
   "outputs": [
    {
     "name": "stdout",
     "output_type": "stream",
     "text": [
      "Size of data is:  (5000, 3) \n",
      "\n",
      "id              0\n",
      "comment_text    0\n",
      "toxic           0\n",
      "dtype: int64\n"
     ]
    }
   ],
   "source": [
    "#Check for null values\n",
    "print(\"Size of data is: \", df.shape, \"\\n\" )\n",
    "print(df.isnull().sum())"
   ]
  },
  {
   "cell_type": "code",
   "execution_count": 171,
   "metadata": {},
   "outputs": [
    {
     "data": {
      "text/html": [
       "<div>\n",
       "<style scoped>\n",
       "    .dataframe tbody tr th:only-of-type {\n",
       "        vertical-align: middle;\n",
       "    }\n",
       "\n",
       "    .dataframe tbody tr th {\n",
       "        vertical-align: top;\n",
       "    }\n",
       "\n",
       "    .dataframe thead th {\n",
       "        text-align: right;\n",
       "    }\n",
       "</style>\n",
       "<table border=\"1\" class=\"dataframe\">\n",
       "  <thead>\n",
       "    <tr style=\"text-align: right;\">\n",
       "      <th></th>\n",
       "      <th>comment_text</th>\n",
       "      <th>toxic</th>\n",
       "    </tr>\n",
       "  </thead>\n",
       "  <tbody>\n",
       "    <tr>\n",
       "      <th>0</th>\n",
       "      <td>\"\\r\\n\\r\\n A barnstar for you! \\r\\n\\r\\n  The De...</td>\n",
       "      <td>0</td>\n",
       "    </tr>\n",
       "    <tr>\n",
       "      <th>1</th>\n",
       "      <td>\"\\r\\n\\r\\nThis seems unbalanced.  whatever I ha...</td>\n",
       "      <td>0</td>\n",
       "    </tr>\n",
       "    <tr>\n",
       "      <th>2</th>\n",
       "      <td>Marya Dzmitruk was born in Minsk, Belarus in M...</td>\n",
       "      <td>0</td>\n",
       "    </tr>\n",
       "  </tbody>\n",
       "</table>\n",
       "</div>"
      ],
      "text/plain": [
       "                                        comment_text  toxic\n",
       "0  \"\\r\\n\\r\\n A barnstar for you! \\r\\n\\r\\n  The De...      0\n",
       "1  \"\\r\\n\\r\\nThis seems unbalanced.  whatever I ha...      0\n",
       "2  Marya Dzmitruk was born in Minsk, Belarus in M...      0"
      ]
     },
     "execution_count": 171,
     "metadata": {},
     "output_type": "execute_result"
    }
   ],
   "source": [
    "#Drop irrelevant variables. Here Id is not required for analysis\n",
    "df.drop(['id'],axis=1,inplace=True)\n",
    "df.head(3)"
   ]
  },
  {
   "cell_type": "code",
   "execution_count": 172,
   "metadata": {},
   "outputs": [
    {
     "data": {
      "text/plain": [
       "0    4563\n",
       "1     437\n",
       "Name: toxic, dtype: int64"
      ]
     },
     "execution_count": 172,
     "metadata": {},
     "output_type": "execute_result"
    }
   ],
   "source": [
    "#Check if the label data is Balanced/Unbalanced. Checking class imbalance\n",
    "df.toxic.value_counts()"
   ]
  },
  {
   "cell_type": "code",
   "execution_count": 173,
   "metadata": {},
   "outputs": [
    {
     "data": {
      "text/plain": [
       "<AxesSubplot:xlabel='toxic', ylabel='count'>"
      ]
     },
     "execution_count": 173,
     "metadata": {},
     "output_type": "execute_result"
    },
    {
     "data": {
      "image/png": "[encoded data removed]",
      "text/plain": [
       "<Figure size 432x288 with 1 Axes>"
      ]
     },
     "metadata": {
      "needs_background": "light"
     },
     "output_type": "display_data"
    }
   ],
   "source": [
    "#Plot the label data to visualise the class imbalance\n",
    "sns.countplot(x=\"toxic\", data=df)"
   ]
  },
  {
   "cell_type": "code",
   "execution_count": 174,
   "metadata": {},
   "outputs": [
    {
     "name": "stderr",
     "output_type": "stream",
     "text": [
      "/Volumes/Samsung_T5/Anaconda/anaconda3/lib/python3.7/site-packages/seaborn/_decorators.py:43: FutureWarning: Pass the following variables as keyword args: x, y. From version 0.12, the only valid positional argument will be `data`, and passing other arguments without an explicit keyword will result in an error or misinterpretation.\n",
      "  FutureWarning\n"
     ]
    },
    {
     "data": {
      "image/png": "[encoded data removed]",
      "text/plain": [
       "<Figure size 432x288 with 1 Axes>"
      ]
     },
     "metadata": {
      "needs_background": "light"
     },
     "output_type": "display_data"
    }
   ],
   "source": [
    "#Exploratory Data Analysis\n",
    "df['length'] = df['comment_text'].apply(len)\n",
    "fig1 = sns.barplot('toxic','length',data = df,palette='PRGn')\n",
    "plt.title('Average Word Length vs label')\n",
    "plot = fig1.get_figure()\n",
    "plot.savefig('Barplot.png')"
   ]
  },
  {
   "cell_type": "code",
   "execution_count": 175,
   "metadata": {},
   "outputs": [
    {
     "data": {
      "image/png": "[encoded data removed]",
      "text/plain": [
       "<Figure size 432x288 with 1 Axes>"
      ]
     },
     "metadata": {
      "needs_background": "light"
     },
     "output_type": "display_data"
    }
   ],
   "source": [
    "#bar graph to count positive negative label\n",
    "fig2 = sns.countplot(x= 'toxic',data = df)\n",
    "plt.title('Label Counts')\n",
    "plot = fig2.get_figure()\n",
    "plot.savefig('Count Plot.png')"
   ]
  },
  {
   "cell_type": "code",
   "execution_count": 176,
   "metadata": {},
   "outputs": [],
   "source": [
    "def vectorization(table):\n",
    "    #CountVectorizer will convert a collection of text documents to a matrix of token counts\n",
    "    #Produces a sparse representation of the counts \n",
    "    #Initialize\n",
    "    vector = CountVectorizer()\n",
    "    #We fit and transform the vector created\n",
    "    frequency_matrix = vector.fit_transform(table.toxic)\n",
    "    #frequency_matrix\n",
    "    #Sum all the frequencies for each word\n",
    "    sum_frequencies = np.sum(frequency_matrix, axis=0)\n",
    "    #Now we use squeeze to remove single-dimensional entries from the shape of an array that we got from applying np.asarray to\n",
    "    #the sum of frequencies.\n",
    "    corpus = [str (item) for item in sum_frequencies]\n",
    "    frequency = np.squeeze(np.asarray(corpus))\n",
    "    #Now we get into a dataframe all the frequencies and the words that they correspond to\n",
    "    frequency_df = pd.DataFrame([frequency], columns=vector.get_feature_names()).transpose()\n",
    "    return frequency_df"
   ]
  },
  {
   "cell_type": "code",
   "execution_count": 177,
   "metadata": {},
   "outputs": [],
   "source": [
    "def graph(word_frequency, sent):\n",
    "    labels = word_frequency[0][1:51].index\n",
    "    title = \"Word Frequency for %s\" %sent\n",
    "    #Plot the figures\n",
    "    plt.figure(figsize=(10,5))\n",
    "    plt.bar(np.arange(50), word_frequency[0][1:51], width = 0.8, color = sns.color_palette(\"bwr\"), alpha=0.5, \n",
    "            edgecolor = \"black\", capsize=8, linewidth=1);\n",
    "    plt.xticks(np.arange(50), labels, rotation=90, size=14);\n",
    "    plt.xlabel(\"50 more frequent words\", size=14);\n",
    "    plt.ylabel(\"Frequency\", size=14);\n",
    "    #plt.title('Word Frequency for %s', size=18) %sent;\n",
    "    plt.title(title, size=18)\n",
    "    plt.grid(False);\n",
    "    plt.gca().spines[\"top\"].set_visible(False);\n",
    "    plt.gca().spines[\"right\"].set_visible(False);\n",
    "    plt.show()"
   ]
  },
  {
   "cell_type": "code",
   "execution_count": 178,
   "metadata": {},
   "outputs": [],
   "source": [
    "#converting into list for better computation\n",
    "data = df.comment_text.values.tolist()"
   ]
  },
  {
   "cell_type": "code",
   "execution_count": 179,
   "metadata": {},
   "outputs": [
    {
     "name": "stdout",
     "output_type": "stream",
     "text": [
      "['i', 'me', 'my', 'myself', 'we', 'our', 'ours', 'ourselves', 'you', \"you're\", \"you've\"]\n",
      "\n",
      "length of stopwords list:  179\n"
     ]
    },
    {
     "data": {
      "text/plain": [
       "list"
      ]
     },
     "execution_count": 179,
     "metadata": {},
     "output_type": "execute_result"
    }
   ],
   "source": [
    "stopwords1 = list(stopwords.words('english'))\n",
    "print(stopwords1[0:11])\n",
    "print('\\nlength of stopwords list: ', len(stopwords1))\n",
    "type(stopwords1)"
   ]
  },
  {
   "cell_type": "code",
   "execution_count": 180,
   "metadata": {},
   "outputs": [
    {
     "data": {
      "text/plain": [
       "'!\"#$%&\\'()*+,-./:;<=>?@[\\\\]^_`{|}~'"
      ]
     },
     "execution_count": 180,
     "metadata": {},
     "output_type": "execute_result"
    }
   ],
   "source": [
    "punctuation"
   ]
  },
  {
   "cell_type": "code",
   "execution_count": 181,
   "metadata": {},
   "outputs": [],
   "source": [
    "stopwords1 = list(stopwords.words('english'))+list(punctuation)"
   ]
  },
  {
   "cell_type": "code",
   "execution_count": 182,
   "metadata": {},
   "outputs": [
    {
     "name": "stdout",
     "output_type": "stream",
     "text": [
      "211\n",
      "\n",
      "['i', 'me', 'my', 'myself', 'we', 'our', 'ours', 'ourselves', 'you', \"you're\", \"you've\", \"you'll\", \"you'd\", 'your', 'yours', 'yourself', 'yourselves', 'he', 'him', 'his', 'himself', 'she', \"she's\", 'her', 'hers', 'herself', 'it', \"it's\", 'its', 'itself', 'they', 'them', 'their', 'theirs', 'themselves', 'what', 'which', 'who', 'whom', 'this', 'that', \"that'll\", 'these', 'those', 'am', 'is', 'are', 'was', 'were', 'be', 'been', 'being', 'have', 'has', 'had', 'having', 'do', 'does', 'did', 'doing', 'a', 'an', 'the', 'and', 'but', 'if', 'or', 'because', 'as', 'until', 'while', 'of', 'at', 'by', 'for', 'with', 'about', 'against', 'between', 'into', 'through', 'during', 'before', 'after', 'above', 'below', 'to', 'from', 'up', 'down', 'in', 'out', 'on', 'off', 'over', 'under', 'again', 'further', 'then', 'once', 'here', 'there', 'when', 'where', 'why', 'how', 'all', 'any', 'both', 'each', 'few', 'more', 'most', 'other', 'some', 'such', 'no', 'nor', 'not', 'only', 'own', 'same', 'so', 'than', 'too', 'very', 's', 't', 'can', 'will', 'just', 'don', \"don't\", 'should', \"should've\", 'now', 'd', 'll', 'm', 'o', 're', 've', 'y', 'ain', 'aren', \"aren't\", 'couldn', \"couldn't\", 'didn', \"didn't\", 'doesn', \"doesn't\", 'hadn', \"hadn't\", 'hasn', \"hasn't\", 'haven', \"haven't\", 'isn', \"isn't\", 'ma', 'mightn', \"mightn't\", 'mustn', \"mustn't\", 'needn', \"needn't\", 'shan', \"shan't\", 'shouldn', \"shouldn't\", 'wasn', \"wasn't\", 'weren', \"weren't\", 'won', \"won't\", 'wouldn', \"wouldn't\", '!', '\"', '#', '$', '%', '&', \"'\", '(', ')', '*', '+', ',', '-', '.', '/', ':', ';', '<', '=', '>', '?', '@', '[', '\\\\', ']', '^', '_', '`', '{', '|', '}', '~']\n"
     ]
    }
   ],
   "source": [
    "print(len(stopwords1),stopwords1,sep='\\n\\n')"
   ]
  },
  {
   "cell_type": "code",
   "execution_count": 183,
   "metadata": {},
   "outputs": [
    {
     "name": "stderr",
     "output_type": "stream",
     "text": [
      "/Volumes/Samsung_T5/Anaconda/anaconda3/lib/python3.7/site-packages/seaborn/distributions.py:2557: FutureWarning: `distplot` is a deprecated function and will be removed in a future version. Please adapt your code to use either `displot` (a figure-level function with similar flexibility) or `histplot` (an axes-level function for histograms).\n",
      "  warnings.warn(msg, FutureWarning)\n"
     ]
    },
    {
     "data": {
      "text/plain": [
       "<AxesSubplot:xlabel='length', ylabel='Density'>"
      ]
     },
     "execution_count": 183,
     "metadata": {},
     "output_type": "execute_result"
    },
    {
     "data": {
      "image/png": "[encoded data removed]",
      "text/plain": [
       "<Figure size 432x288 with 1 Axes>"
      ]
     },
     "metadata": {
      "needs_background": "light"
     },
     "output_type": "display_data"
    }
   ],
   "source": [
    "sns.distplot(a=df['length'],bins=30)"
   ]
  },
  {
   "cell_type": "code",
   "execution_count": 184,
   "metadata": {},
   "outputs": [
    {
     "data": {
      "text/plain": [
       "array([<AxesSubplot:title={'center':'0'}>,\n",
       "       <AxesSubplot:title={'center':'1'}>], dtype=object)"
      ]
     },
     "execution_count": 184,
     "metadata": {},
     "output_type": "execute_result"
    },
    {
     "data": {
      "image/png": "[encoded data removed]",
      "text/plain": [
       "<Figure size 864x288 with 2 Axes>"
      ]
     },
     "metadata": {
      "needs_background": "light"
     },
     "output_type": "display_data"
    }
   ],
   "source": [
    "df.hist(column='length', by='toxic', bins=50,figsize=(12,4))"
   ]
  },
  {
   "cell_type": "code",
   "execution_count": 185,
   "metadata": {},
   "outputs": [],
   "source": [
    "#removing url from text\n",
    "import re\n",
    "\n",
    "def remove_url(text_data):\n",
    "  \"\"\"remove_url takes raw text and removes urls from the text.\n",
    "     https://stackoverflow.com/questions/11331982/how-to-remove-any-url-within-a-string-in-python/40823105#40823105\n",
    "     \"\"\"\n",
    "  return re.sub(r\"http\\S+\", \"\", text_data)"
   ]
  },
  {
   "cell_type": "code",
   "execution_count": 186,
   "metadata": {},
   "outputs": [],
   "source": [
    "df['comment_text'] = df['comment_text'].apply(remove_url)"
   ]
  },
  {
   "cell_type": "code",
   "execution_count": 187,
   "metadata": {},
   "outputs": [],
   "source": [
    "#removing ip address from text\n",
    "def remove_ip(text_data):\n",
    "    return re.sub(r\"\\b(?:[0-9]{1,3}\\.){3}[0-9]{1,3}\\b\",\"\",text_data)"
   ]
  },
  {
   "cell_type": "code",
   "execution_count": 188,
   "metadata": {},
   "outputs": [],
   "source": [
    "df['comment_text'] = df['comment_text'].apply(remove_ip)"
   ]
  },
  {
   "cell_type": "code",
   "execution_count": 189,
   "metadata": {},
   "outputs": [],
   "source": [
    "# Removing Stopwords and punctuatons\n",
    "def clean_text(a):\n",
    "    ls = [i.lower() for i in tokenize.word_tokenize(a) if i not in stopwords1]\n",
    "    if len(ls)>3:\n",
    "        val= ' '.join(ls)\n",
    "        return val\n",
    "    else :\n",
    "        return None\n",
    "    \n",
    "    \n",
    "# Lemmatization without POS Tags\n",
    "def clean_text_lemma(a):\n",
    "    val= ' '.join([lemmatizer.lemmatize(i.lower()) for i in tokenize.word_tokenize(a) if i not in stopwords1])\n",
    "    return val\n",
    "\n",
    "\n",
    "# Stemming\n",
    "def clean_text_stem(a):    \n",
    "    val= ' '.join([ps.stem(i.lower()) for i in tokenize.word_tokenize(a) if i not in stopwords1])\n",
    "    return val\n",
    "\n",
    "def removeSpecialChar(text):\n",
    "    result = text.replace(\"\\r\\n\\r\\n \",\"\")\n",
    "    result = text.replace(\"i\",\"\")\n",
    "    result = text.replace(\"Wikipedia\",\"\")\n",
    "    result = text.replace(\"page\",\"\")\n",
    "    result = text.replace(\"edit\",\"\")\n",
    "    return result\n"
   ]
  },
  {
   "cell_type": "code",
   "execution_count": 195,
   "metadata": {},
   "outputs": [
    {
     "data": {
      "text/plain": [
       "4842"
      ]
     },
     "execution_count": 195,
     "metadata": {},
     "output_type": "execute_result"
    }
   ],
   "source": [
    "df['clean_txt'] = df['comment_text'].apply(clean_text)\n",
    "df.dropna(inplace = True)\n",
    "len(df)"
   ]
  },
  {
   "cell_type": "code",
   "execution_count": 196,
   "metadata": {},
   "outputs": [
    {
     "data": {
      "text/plain": [
       "4842"
      ]
     },
     "execution_count": 196,
     "metadata": {},
     "output_type": "execute_result"
    }
   ],
   "source": [
    "df['clean_txt'] = df['clean_txt'].apply(removeSpecialChar)\n",
    "df.dropna(inplace = True)\n",
    "len(df)"
   ]
  },
  {
   "cell_type": "code",
   "execution_count": 197,
   "metadata": {},
   "outputs": [
    {
     "data": {
      "text/html": [
       "<div>\n",
       "<style scoped>\n",
       "    .dataframe tbody tr th:only-of-type {\n",
       "        vertical-align: middle;\n",
       "    }\n",
       "\n",
       "    .dataframe tbody tr th {\n",
       "        vertical-align: top;\n",
       "    }\n",
       "\n",
       "    .dataframe thead th {\n",
       "        text-align: right;\n",
       "    }\n",
       "</style>\n",
       "<table border=\"1\" class=\"dataframe\">\n",
       "  <thead>\n",
       "    <tr style=\"text-align: right;\">\n",
       "      <th></th>\n",
       "      <th>comment_text</th>\n",
       "      <th>toxic</th>\n",
       "      <th>length</th>\n",
       "      <th>clean_txt</th>\n",
       "    </tr>\n",
       "  </thead>\n",
       "  <tbody>\n",
       "    <tr>\n",
       "      <th>0</th>\n",
       "      <td>\"\\r\\n\\r\\n A barnstar for you! \\r\\n\\r\\n  The De...</td>\n",
       "      <td>0</td>\n",
       "      <td>338</td>\n",
       "      <td>`` a barnstar the defender wiki barnstar i lik...</td>\n",
       "    </tr>\n",
       "    <tr>\n",
       "      <th>1</th>\n",
       "      <td>\"\\r\\n\\r\\nThis seems unbalanced.  whatever I ha...</td>\n",
       "      <td>0</td>\n",
       "      <td>952</td>\n",
       "      <td>`` this seems unbalanced whatever i said maths...</td>\n",
       "    </tr>\n",
       "    <tr>\n",
       "      <th>2</th>\n",
       "      <td>Marya Dzmitruk was born in Minsk, Belarus in M...</td>\n",
       "      <td>0</td>\n",
       "      <td>1739</td>\n",
       "      <td>marya dzmitruk born minsk belarus march 19 199...</td>\n",
       "    </tr>\n",
       "    <tr>\n",
       "      <th>3</th>\n",
       "      <td>\"\\r\\n\\r\\nTalkback\\r\\n\\r\\n Dear Celestia...  \"</td>\n",
       "      <td>0</td>\n",
       "      <td>37</td>\n",
       "      <td>`` talkback dear celestia ... ``</td>\n",
       "    </tr>\n",
       "    <tr>\n",
       "      <th>4</th>\n",
       "      <td>New Categories \\r\\n\\r\\nI honestly think that w...</td>\n",
       "      <td>0</td>\n",
       "      <td>428</td>\n",
       "      <td>new categories i honestly think need add categ...</td>\n",
       "    </tr>\n",
       "  </tbody>\n",
       "</table>\n",
       "</div>"
      ],
      "text/plain": [
       "                                        comment_text  toxic  length  \\\n",
       "0  \"\\r\\n\\r\\n A barnstar for you! \\r\\n\\r\\n  The De...      0     338   \n",
       "1  \"\\r\\n\\r\\nThis seems unbalanced.  whatever I ha...      0     952   \n",
       "2  Marya Dzmitruk was born in Minsk, Belarus in M...      0    1739   \n",
       "3      \"\\r\\n\\r\\nTalkback\\r\\n\\r\\n Dear Celestia...  \"      0      37   \n",
       "4  New Categories \\r\\n\\r\\nI honestly think that w...      0     428   \n",
       "\n",
       "                                           clean_txt  \n",
       "0  `` a barnstar the defender wiki barnstar i lik...  \n",
       "1  `` this seems unbalanced whatever i said maths...  \n",
       "2  marya dzmitruk born minsk belarus march 19 199...  \n",
       "3                   `` talkback dear celestia ... ``  \n",
       "4  new categories i honestly think need add categ...  "
      ]
     },
     "execution_count": 197,
     "metadata": {},
     "output_type": "execute_result"
    }
   ],
   "source": [
    "df.head()"
   ]
  },
  {
   "cell_type": "code",
   "execution_count": 198,
   "metadata": {},
   "outputs": [],
   "source": [
    "def remove_numbers(text): \n",
    "    result = re.sub(r'\\d+', '', text) \n",
    "    return result"
   ]
  },
  {
   "cell_type": "code",
   "execution_count": 199,
   "metadata": {},
   "outputs": [
    {
     "data": {
      "text/plain": [
       "4842"
      ]
     },
     "execution_count": 199,
     "metadata": {},
     "output_type": "execute_result"
    }
   ],
   "source": [
    "df['clean_txt'] = df['clean_txt'].apply(remove_numbers)\n",
    "df.dropna(inplace = True)\n",
    "len(df)"
   ]
  },
  {
   "cell_type": "code",
   "execution_count": 200,
   "metadata": {},
   "outputs": [
    {
     "data": {
      "text/html": [
       "<div>\n",
       "<style scoped>\n",
       "    .dataframe tbody tr th:only-of-type {\n",
       "        vertical-align: middle;\n",
       "    }\n",
       "\n",
       "    .dataframe tbody tr th {\n",
       "        vertical-align: top;\n",
       "    }\n",
       "\n",
       "    .dataframe thead th {\n",
       "        text-align: right;\n",
       "    }\n",
       "</style>\n",
       "<table border=\"1\" class=\"dataframe\">\n",
       "  <thead>\n",
       "    <tr style=\"text-align: right;\">\n",
       "      <th></th>\n",
       "      <th>comment_text</th>\n",
       "      <th>toxic</th>\n",
       "      <th>length</th>\n",
       "      <th>clean_txt</th>\n",
       "    </tr>\n",
       "  </thead>\n",
       "  <tbody>\n",
       "    <tr>\n",
       "      <th>0</th>\n",
       "      <td>\"\\r\\n\\r\\n A barnstar for you! \\r\\n\\r\\n  The De...</td>\n",
       "      <td>0</td>\n",
       "      <td>338</td>\n",
       "      <td>`` a barnstar the defender wiki barnstar i lik...</td>\n",
       "    </tr>\n",
       "    <tr>\n",
       "      <th>1</th>\n",
       "      <td>\"\\r\\n\\r\\nThis seems unbalanced.  whatever I ha...</td>\n",
       "      <td>0</td>\n",
       "      <td>952</td>\n",
       "      <td>`` this seems unbalanced whatever i said maths...</td>\n",
       "    </tr>\n",
       "    <tr>\n",
       "      <th>2</th>\n",
       "      <td>Marya Dzmitruk was born in Minsk, Belarus in M...</td>\n",
       "      <td>0</td>\n",
       "      <td>1739</td>\n",
       "      <td>marya dzmitruk born minsk belarus march   her ...</td>\n",
       "    </tr>\n",
       "    <tr>\n",
       "      <th>3</th>\n",
       "      <td>\"\\r\\n\\r\\nTalkback\\r\\n\\r\\n Dear Celestia...  \"</td>\n",
       "      <td>0</td>\n",
       "      <td>37</td>\n",
       "      <td>`` talkback dear celestia ... ``</td>\n",
       "    </tr>\n",
       "    <tr>\n",
       "      <th>4</th>\n",
       "      <td>New Categories \\r\\n\\r\\nI honestly think that w...</td>\n",
       "      <td>0</td>\n",
       "      <td>428</td>\n",
       "      <td>new categories i honestly think need add categ...</td>\n",
       "    </tr>\n",
       "  </tbody>\n",
       "</table>\n",
       "</div>"
      ],
      "text/plain": [
       "                                        comment_text  toxic  length  \\\n",
       "0  \"\\r\\n\\r\\n A barnstar for you! \\r\\n\\r\\n  The De...      0     338   \n",
       "1  \"\\r\\n\\r\\nThis seems unbalanced.  whatever I ha...      0     952   \n",
       "2  Marya Dzmitruk was born in Minsk, Belarus in M...      0    1739   \n",
       "3      \"\\r\\n\\r\\nTalkback\\r\\n\\r\\n Dear Celestia...  \"      0      37   \n",
       "4  New Categories \\r\\n\\r\\nI honestly think that w...      0     428   \n",
       "\n",
       "                                           clean_txt  \n",
       "0  `` a barnstar the defender wiki barnstar i lik...  \n",
       "1  `` this seems unbalanced whatever i said maths...  \n",
       "2  marya dzmitruk born minsk belarus march   her ...  \n",
       "3                   `` talkback dear celestia ... ``  \n",
       "4  new categories i honestly think need add categ...  "
      ]
     },
     "execution_count": 200,
     "metadata": {},
     "output_type": "execute_result"
    }
   ],
   "source": [
    "df.head()"
   ]
  },
  {
   "cell_type": "code",
   "execution_count": 201,
   "metadata": {},
   "outputs": [],
   "source": [
    "#stemming and lemmatization\n",
    "#here we have build a custom function that will first get the noun pos tag and then\n",
    "#do the lemmatization\n",
    "\n",
    "ps=PorterStemmer()\n",
    "\n",
    "lemmatizer = WordNetLemmatizer()"
   ]
  },
  {
   "cell_type": "code",
   "execution_count": 202,
   "metadata": {},
   "outputs": [],
   "source": [
    "# function to convert nltk tag to wordnet tag\n",
    "def nltk_tag_to_wordnet_tag(nltk_tag):\n",
    "    \n",
    "    if nltk_tag.startswith('N'):\n",
    "        return wordnet.NOUN\n",
    "    else:          \n",
    "        return None\n",
    "\n",
    "def lemmatize_sentence(sentence):    \n",
    "    #tokenize the sentence and find the POS tag for each token\n",
    "    nltk_tagged = nltk.pos_tag(nltk.word_tokenize(sentence))  \n",
    "#     print(list(nltk_tagged))\n",
    "    \n",
    "    #tuple of (token, wordnet_tag)\n",
    "    wordnet_tagged = map(lambda x: (x[0], nltk_tag_to_wordnet_tag(x[1])), nltk_tagged)\n",
    "\n",
    "    \n",
    "    lemmatized_sentence = []   \n",
    "    \n",
    "    for word, tag in wordnet_tagged:\n",
    "        if tag is None:\n",
    "            #if there is no available tag, append the token as is\n",
    "            lemmatized_sentence.append(word)\n",
    "#             print('IN CASE OF NONE: ', lemmatized_sentence)\n",
    "        \n",
    "        else:        \n",
    "            #else use the tag to lemmatize the token\n",
    "            lemmatized_sentence.append(lemmatizer.lemmatize(word, tag))\n",
    "#             print('IN CASE OF ELSE : ',lemmatized_sentence)\n",
    "\n",
    "    \n",
    "    return \" \".join(lemmatized_sentence)\n",
    "\n",
    "# print(lemmatize_sentence(\" i have been working on my skills \")) #I be love it\n",
    "\n",
    "\n",
    "\n",
    "\n"
   ]
  },
  {
   "cell_type": "code",
   "execution_count": 203,
   "metadata": {},
   "outputs": [],
   "source": [
    "df['clean_lemma'] = df['clean_txt'].apply(clean_text_lemma)\n",
    "df['clean_lemma_pos'] = df['clean_txt'].apply(lemmatize_sentence)\n",
    "df['clean_stem_txt'] = df['clean_txt'].apply(clean_text_stem)"
   ]
  },
  {
   "cell_type": "code",
   "execution_count": 204,
   "metadata": {},
   "outputs": [
    {
     "data": {
      "text/html": [
       "<div>\n",
       "<style scoped>\n",
       "    .dataframe tbody tr th:only-of-type {\n",
       "        vertical-align: middle;\n",
       "    }\n",
       "\n",
       "    .dataframe tbody tr th {\n",
       "        vertical-align: top;\n",
       "    }\n",
       "\n",
       "    .dataframe thead th {\n",
       "        text-align: right;\n",
       "    }\n",
       "</style>\n",
       "<table border=\"1\" class=\"dataframe\">\n",
       "  <thead>\n",
       "    <tr style=\"text-align: right;\">\n",
       "      <th></th>\n",
       "      <th>comment_text</th>\n",
       "      <th>toxic</th>\n",
       "      <th>length</th>\n",
       "      <th>clean_txt</th>\n",
       "      <th>clean_lemma</th>\n",
       "      <th>clean_lemma_pos</th>\n",
       "      <th>clean_stem_txt</th>\n",
       "    </tr>\n",
       "  </thead>\n",
       "  <tbody>\n",
       "    <tr>\n",
       "      <th>0</th>\n",
       "      <td>\"\\r\\n\\r\\n A barnstar for you! \\r\\n\\r\\n  The De...</td>\n",
       "      <td>0</td>\n",
       "      <td>338</td>\n",
       "      <td>`` a barnstar the defender wiki barnstar i lik...</td>\n",
       "      <td>`` barnstar defender wiki barnstar like kayast...</td>\n",
       "      <td>`` a barnstar the defender wiki barnstar i lik...</td>\n",
       "      <td>`` barnstar defend wiki barnstar like kayastha...</td>\n",
       "    </tr>\n",
       "    <tr>\n",
       "      <th>1</th>\n",
       "      <td>\"\\r\\n\\r\\nThis seems unbalanced.  whatever I ha...</td>\n",
       "      <td>0</td>\n",
       "      <td>952</td>\n",
       "      <td>`` this seems unbalanced whatever i said maths...</td>\n",
       "      <td>`` seems unbalanced whatever said mathsci said...</td>\n",
       "      <td>`` this seems unbalanced whatever i said maths...</td>\n",
       "      <td>`` seem unbalanc whatev said mathsci said far ...</td>\n",
       "    </tr>\n",
       "    <tr>\n",
       "      <th>2</th>\n",
       "      <td>Marya Dzmitruk was born in Minsk, Belarus in M...</td>\n",
       "      <td>0</td>\n",
       "      <td>1739</td>\n",
       "      <td>marya dzmitruk born minsk belarus march   her ...</td>\n",
       "      <td>marya dzmitruk born minsk belarus march mother...</td>\n",
       "      <td>marya dzmitruk born minsk belarus march her mo...</td>\n",
       "      <td>marya dzmitruk born minsk belaru march mother ...</td>\n",
       "    </tr>\n",
       "    <tr>\n",
       "      <th>3</th>\n",
       "      <td>\"\\r\\n\\r\\nTalkback\\r\\n\\r\\n Dear Celestia...  \"</td>\n",
       "      <td>0</td>\n",
       "      <td>37</td>\n",
       "      <td>`` talkback dear celestia ... ``</td>\n",
       "      <td>`` talkback dear celestia ... ``</td>\n",
       "      <td>`` talkback dear celestia ... ``</td>\n",
       "      <td>`` talkback dear celestia ... ``</td>\n",
       "    </tr>\n",
       "    <tr>\n",
       "      <th>4</th>\n",
       "      <td>New Categories \\r\\n\\r\\nI honestly think that w...</td>\n",
       "      <td>0</td>\n",
       "      <td>428</td>\n",
       "      <td>new categories i honestly think need add categ...</td>\n",
       "      <td>new category honestly think need add category ...</td>\n",
       "      <td>new category i honestly think need add categor...</td>\n",
       "      <td>new categori honestli think need add categori ...</td>\n",
       "    </tr>\n",
       "  </tbody>\n",
       "</table>\n",
       "</div>"
      ],
      "text/plain": [
       "                                        comment_text  toxic  length  \\\n",
       "0  \"\\r\\n\\r\\n A barnstar for you! \\r\\n\\r\\n  The De...      0     338   \n",
       "1  \"\\r\\n\\r\\nThis seems unbalanced.  whatever I ha...      0     952   \n",
       "2  Marya Dzmitruk was born in Minsk, Belarus in M...      0    1739   \n",
       "3      \"\\r\\n\\r\\nTalkback\\r\\n\\r\\n Dear Celestia...  \"      0      37   \n",
       "4  New Categories \\r\\n\\r\\nI honestly think that w...      0     428   \n",
       "\n",
       "                                           clean_txt  \\\n",
       "0  `` a barnstar the defender wiki barnstar i lik...   \n",
       "1  `` this seems unbalanced whatever i said maths...   \n",
       "2  marya dzmitruk born minsk belarus march   her ...   \n",
       "3                   `` talkback dear celestia ... ``   \n",
       "4  new categories i honestly think need add categ...   \n",
       "\n",
       "                                         clean_lemma  \\\n",
       "0  `` barnstar defender wiki barnstar like kayast...   \n",
       "1  `` seems unbalanced whatever said mathsci said...   \n",
       "2  marya dzmitruk born minsk belarus march mother...   \n",
       "3                   `` talkback dear celestia ... ``   \n",
       "4  new category honestly think need add category ...   \n",
       "\n",
       "                                     clean_lemma_pos  \\\n",
       "0  `` a barnstar the defender wiki barnstar i lik...   \n",
       "1  `` this seems unbalanced whatever i said maths...   \n",
       "2  marya dzmitruk born minsk belarus march her mo...   \n",
       "3                   `` talkback dear celestia ... ``   \n",
       "4  new category i honestly think need add categor...   \n",
       "\n",
       "                                      clean_stem_txt  \n",
       "0  `` barnstar defend wiki barnstar like kayastha...  \n",
       "1  `` seem unbalanc whatev said mathsci said far ...  \n",
       "2  marya dzmitruk born minsk belaru march mother ...  \n",
       "3                   `` talkback dear celestia ... ``  \n",
       "4  new categori honestli think need add categori ...  "
      ]
     },
     "execution_count": 204,
     "metadata": {},
     "output_type": "execute_result"
    }
   ],
   "source": [
    "df.head()"
   ]
  },
  {
   "cell_type": "code",
   "execution_count": 231,
   "metadata": {},
   "outputs": [],
   "source": [
    "#checking the distribution of the frequent words\n",
    "import matplotlib.pyplot as plt\n",
    "from nltk import FreqDist\n",
    "# function to plot most frequent terms\n",
    "def freq_words(x, terms = 30):\n",
    "  all_words = ' '.join([text for text in x])\n",
    "  all_words = all_words.split()\n",
    "\n",
    "  fdist = FreqDist(all_words)\n",
    "  words_df = pd.DataFrame({'word':list(fdist.keys()), 'count':list(fdist.values())})\n",
    "\n",
    "  # selecting top 20 most frequent words\n",
    "  d = words_df.nlargest(columns=\"count\", n = terms) \n",
    "  plt.figure(figsize=(25,5))\n",
    "  ax = sns.barplot(data=d, x= \"word\", y = \"count\")\n",
    "  ax.set(ylabel = 'Count')\n",
    "  plt.show()"
   ]
  },
  {
   "cell_type": "code",
   "execution_count": 242,
   "metadata": {},
   "outputs": [
    {
     "data": {
      "image/png": "[encoded data removed]",
      "text/plain": [
       "<Figure size 1800x360 with 1 Axes>"
      ]
     },
     "metadata": {
      "needs_background": "light"
     },
     "output_type": "display_data"
    }
   ],
   "source": [
    "freq_words(df['clean_stem_txt'])"
   ]
  },
  {
   "cell_type": "code",
   "execution_count": 207,
   "metadata": {},
   "outputs": [
    {
     "data": {
      "text/html": [
       "<div>\n",
       "<style scoped>\n",
       "    .dataframe tbody tr th:only-of-type {\n",
       "        vertical-align: middle;\n",
       "    }\n",
       "\n",
       "    .dataframe tbody tr th {\n",
       "        vertical-align: top;\n",
       "    }\n",
       "\n",
       "    .dataframe thead th {\n",
       "        text-align: right;\n",
       "    }\n",
       "</style>\n",
       "<table border=\"1\" class=\"dataframe\">\n",
       "  <thead>\n",
       "    <tr style=\"text-align: right;\">\n",
       "      <th></th>\n",
       "      <th>comment_text</th>\n",
       "      <th>toxic</th>\n",
       "      <th>length</th>\n",
       "      <th>clean_txt</th>\n",
       "      <th>clean_lemma</th>\n",
       "      <th>clean_lemma_pos</th>\n",
       "      <th>clean_stem_txt</th>\n",
       "    </tr>\n",
       "  </thead>\n",
       "  <tbody>\n",
       "    <tr>\n",
       "      <th>0</th>\n",
       "      <td>\"\\r\\n\\r\\n A barnstar for you! \\r\\n\\r\\n  The De...</td>\n",
       "      <td>0</td>\n",
       "      <td>338</td>\n",
       "      <td>`` a barnstar the defender wiki barnstar i lik...</td>\n",
       "      <td>`` barnstar defender wiki barnstar like kayast...</td>\n",
       "      <td>`` a barnstar the defender wiki barnstar i lik...</td>\n",
       "      <td>`` barnstar defend wiki barnstar like kayastha...</td>\n",
       "    </tr>\n",
       "    <tr>\n",
       "      <th>1</th>\n",
       "      <td>\"\\r\\n\\r\\nThis seems unbalanced.  whatever I ha...</td>\n",
       "      <td>0</td>\n",
       "      <td>952</td>\n",
       "      <td>`` this seems unbalanced whatever i said maths...</td>\n",
       "      <td>`` seems unbalanced whatever said mathsci said...</td>\n",
       "      <td>`` this seems unbalanced whatever i said maths...</td>\n",
       "      <td>`` seem unbalanc whatev said mathsci said far ...</td>\n",
       "    </tr>\n",
       "    <tr>\n",
       "      <th>2</th>\n",
       "      <td>Marya Dzmitruk was born in Minsk, Belarus in M...</td>\n",
       "      <td>0</td>\n",
       "      <td>1739</td>\n",
       "      <td>marya dzmitruk born minsk belarus march   her ...</td>\n",
       "      <td>marya dzmitruk born minsk belarus march mother...</td>\n",
       "      <td>marya dzmitruk born minsk belarus march her mo...</td>\n",
       "      <td>marya dzmitruk born minsk belaru march mother ...</td>\n",
       "    </tr>\n",
       "    <tr>\n",
       "      <th>3</th>\n",
       "      <td>\"\\r\\n\\r\\nTalkback\\r\\n\\r\\n Dear Celestia...  \"</td>\n",
       "      <td>0</td>\n",
       "      <td>37</td>\n",
       "      <td>`` talkback dear celestia ... ``</td>\n",
       "      <td>`` talkback dear celestia ... ``</td>\n",
       "      <td>`` talkback dear celestia ... ``</td>\n",
       "      <td>`` talkback dear celestia ... ``</td>\n",
       "    </tr>\n",
       "    <tr>\n",
       "      <th>4</th>\n",
       "      <td>New Categories \\r\\n\\r\\nI honestly think that w...</td>\n",
       "      <td>0</td>\n",
       "      <td>428</td>\n",
       "      <td>new categories i honestly think need add categ...</td>\n",
       "      <td>new category honestly think need add category ...</td>\n",
       "      <td>new category i honestly think need add categor...</td>\n",
       "      <td>new categori honestli think need add categori ...</td>\n",
       "    </tr>\n",
       "    <tr>\n",
       "      <th>5</th>\n",
       "      <td>Looks like it is my spaces. I guess I will sta...</td>\n",
       "      <td>0</td>\n",
       "      <td>176</td>\n",
       "      <td>looks like spaces i guess i start filtering sp...</td>\n",
       "      <td>look like space guess start filtering space we...</td>\n",
       "      <td>look like space i guess i start filtering spac...</td>\n",
       "      <td>look like space guess start filter space well ...</td>\n",
       "    </tr>\n",
       "    <tr>\n",
       "      <th>6</th>\n",
       "      <td>\"\\r\\n\\r\\nI would be willing to continue the pl...</td>\n",
       "      <td>0</td>\n",
       "      <td>434</td>\n",
       "      <td>`` i would willing continue plan plan followed...</td>\n",
       "      <td>`` would willing continue plan plan followed h...</td>\n",
       "      <td>`` i would willing continue plan plan followed...</td>\n",
       "      <td>`` would will continu plan plan follow howev c...</td>\n",
       "    </tr>\n",
       "    <tr>\n",
       "      <th>7</th>\n",
       "      <td>loser - you can't block me forever you admin e...</td>\n",
       "      <td>1</td>\n",
       "      <td>61</td>\n",
       "      <td>loser ca n't block forever admin ego hippie freak</td>\n",
       "      <td>loser ca n't block forever admin ego hippie freak</td>\n",
       "      <td>loser ca n't block forever admin ego hippie freak</td>\n",
       "      <td>loser ca n't block forev admin ego hippi freak</td>\n",
       "    </tr>\n",
       "    <tr>\n",
       "      <th>8</th>\n",
       "      <td>YOU CANNOT BLOCK ME. IF YOU BLOCK ME, I WILL C...</td>\n",
       "      <td>1</td>\n",
       "      <td>115</td>\n",
       "      <td>you can not block me if you block me i will ca...</td>\n",
       "      <td>block block call dumbhead</td>\n",
       "      <td>you can not block me if you block me i will ca...</td>\n",
       "      <td>block block call dumbhead</td>\n",
       "    </tr>\n",
       "    <tr>\n",
       "      <th>9</th>\n",
       "      <td>I had not seen the source Gwern used. I ran ac...</td>\n",
       "      <td>0</td>\n",
       "      <td>127</td>\n",
       "      <td>i seen source gwern used i ran across sites li...</td>\n",
       "      <td>seen source gwern used ran across site like wo...</td>\n",
       "      <td>i seen source gwern used i ran across site lik...</td>\n",
       "      <td>seen sourc gwern use ran across site like woul...</td>\n",
       "    </tr>\n",
       "  </tbody>\n",
       "</table>\n",
       "</div>"
      ],
      "text/plain": [
       "                                        comment_text  toxic  length  \\\n",
       "0  \"\\r\\n\\r\\n A barnstar for you! \\r\\n\\r\\n  The De...      0     338   \n",
       "1  \"\\r\\n\\r\\nThis seems unbalanced.  whatever I ha...      0     952   \n",
       "2  Marya Dzmitruk was born in Minsk, Belarus in M...      0    1739   \n",
       "3      \"\\r\\n\\r\\nTalkback\\r\\n\\r\\n Dear Celestia...  \"      0      37   \n",
       "4  New Categories \\r\\n\\r\\nI honestly think that w...      0     428   \n",
       "5  Looks like it is my spaces. I guess I will sta...      0     176   \n",
       "6  \"\\r\\n\\r\\nI would be willing to continue the pl...      0     434   \n",
       "7  loser - you can't block me forever you admin e...      1      61   \n",
       "8  YOU CANNOT BLOCK ME. IF YOU BLOCK ME, I WILL C...      1     115   \n",
       "9  I had not seen the source Gwern used. I ran ac...      0     127   \n",
       "\n",
       "                                           clean_txt  \\\n",
       "0  `` a barnstar the defender wiki barnstar i lik...   \n",
       "1  `` this seems unbalanced whatever i said maths...   \n",
       "2  marya dzmitruk born minsk belarus march   her ...   \n",
       "3                   `` talkback dear celestia ... ``   \n",
       "4  new categories i honestly think need add categ...   \n",
       "5  looks like spaces i guess i start filtering sp...   \n",
       "6  `` i would willing continue plan plan followed...   \n",
       "7  loser ca n't block forever admin ego hippie freak   \n",
       "8  you can not block me if you block me i will ca...   \n",
       "9  i seen source gwern used i ran across sites li...   \n",
       "\n",
       "                                         clean_lemma  \\\n",
       "0  `` barnstar defender wiki barnstar like kayast...   \n",
       "1  `` seems unbalanced whatever said mathsci said...   \n",
       "2  marya dzmitruk born minsk belarus march mother...   \n",
       "3                   `` talkback dear celestia ... ``   \n",
       "4  new category honestly think need add category ...   \n",
       "5  look like space guess start filtering space we...   \n",
       "6  `` would willing continue plan plan followed h...   \n",
       "7  loser ca n't block forever admin ego hippie freak   \n",
       "8                          block block call dumbhead   \n",
       "9  seen source gwern used ran across site like wo...   \n",
       "\n",
       "                                     clean_lemma_pos  \\\n",
       "0  `` a barnstar the defender wiki barnstar i lik...   \n",
       "1  `` this seems unbalanced whatever i said maths...   \n",
       "2  marya dzmitruk born minsk belarus march her mo...   \n",
       "3                   `` talkback dear celestia ... ``   \n",
       "4  new category i honestly think need add categor...   \n",
       "5  look like space i guess i start filtering spac...   \n",
       "6  `` i would willing continue plan plan followed...   \n",
       "7  loser ca n't block forever admin ego hippie freak   \n",
       "8  you can not block me if you block me i will ca...   \n",
       "9  i seen source gwern used i ran across site lik...   \n",
       "\n",
       "                                      clean_stem_txt  \n",
       "0  `` barnstar defend wiki barnstar like kayastha...  \n",
       "1  `` seem unbalanc whatev said mathsci said far ...  \n",
       "2  marya dzmitruk born minsk belaru march mother ...  \n",
       "3                   `` talkback dear celestia ... ``  \n",
       "4  new categori honestli think need add categori ...  \n",
       "5  look like space guess start filter space well ...  \n",
       "6  `` would will continu plan plan follow howev c...  \n",
       "7     loser ca n't block forev admin ego hippi freak  \n",
       "8                          block block call dumbhead  \n",
       "9  seen sourc gwern use ran across site like woul...  "
      ]
     },
     "execution_count": 207,
     "metadata": {},
     "output_type": "execute_result"
    }
   ],
   "source": [
    "df.head(10)"
   ]
  },
  {
   "cell_type": "code",
   "execution_count": 276,
   "metadata": {},
   "outputs": [],
   "source": [
    "def removeSpecialChar(text):\n",
    "    result = text.replace('``','')\n",
    "    result = text.replace('i','')\n",
    "    result = text.replace('Wikipedia','')\n",
    "    result = text.replace('wikipedia','')\n",
    "    result = text.replace('page','')\n",
    "    result = text.replace('edit','')\n",
    "    result = text.replace('s','')\n",
    "    return result"
   ]
  },
  {
   "cell_type": "code",
   "execution_count": 277,
   "metadata": {},
   "outputs": [
    {
     "data": {
      "text/plain": [
       "4842"
      ]
     },
     "execution_count": 277,
     "metadata": {},
     "output_type": "execute_result"
    }
   ],
   "source": [
    "df['clean_txt'] = df['clean_txt'].apply(removeSpecialChar)\n",
    "df['clean_lemma'] = df['clean_lemma'].apply(removeSpecialChar)\n",
    "df['clean_lemma_pos'] = df['clean_lemma_pos'].apply(removeSpecialChar)\n",
    "df['clean_stem_txt'] = df['clean_stem_txt'].apply(removeSpecialChar)\n",
    "\n",
    "df.dropna(inplace = True)\n",
    "len(df)"
   ]
  },
  {
   "cell_type": "code",
   "execution_count": 247,
   "metadata": {},
   "outputs": [],
   "source": [
    "df = df.drop(['clean_stem_txt_removal'],axis=1)"
   ]
  },
  {
   "cell_type": "code",
   "execution_count": 278,
   "metadata": {},
   "outputs": [
    {
     "data": {
      "text/html": [
       "<div>\n",
       "<style scoped>\n",
       "    .dataframe tbody tr th:only-of-type {\n",
       "        vertical-align: middle;\n",
       "    }\n",
       "\n",
       "    .dataframe tbody tr th {\n",
       "        vertical-align: top;\n",
       "    }\n",
       "\n",
       "    .dataframe thead th {\n",
       "        text-align: right;\n",
       "    }\n",
       "</style>\n",
       "<table border=\"1\" class=\"dataframe\">\n",
       "  <thead>\n",
       "    <tr style=\"text-align: right;\">\n",
       "      <th></th>\n",
       "      <th>comment_text</th>\n",
       "      <th>toxic</th>\n",
       "      <th>length</th>\n",
       "      <th>clean_txt</th>\n",
       "      <th>clean_lemma</th>\n",
       "      <th>clean_lemma_pos</th>\n",
       "      <th>clean_stem_txt</th>\n",
       "    </tr>\n",
       "  </thead>\n",
       "  <tbody>\n",
       "    <tr>\n",
       "      <th>0</th>\n",
       "      <td>\"\\r\\n\\r\\n A barnstar for you! \\r\\n\\r\\n  The De...</td>\n",
       "      <td>0</td>\n",
       "      <td>338</td>\n",
       "      <td>a barntar the defender wiki barntar i like  k...</td>\n",
       "      <td>a barntar the defender wiki barntar i like  k...</td>\n",
       "      <td>a barntar the defender wiki barntar i like  k...</td>\n",
       "      <td>barntar defend wiki barntar like kayatha  let...</td>\n",
       "    </tr>\n",
       "    <tr>\n",
       "      <th>1</th>\n",
       "      <td>\"\\r\\n\\r\\nThis seems unbalanced.  whatever I ha...</td>\n",
       "      <td>0</td>\n",
       "      <td>952</td>\n",
       "      <td>thi eem unbalanced whatever i aid mathci aid ...</td>\n",
       "      <td>thi eem unbalanced whatever i aid mathci aid ...</td>\n",
       "      <td>thi eem unbalanced whatever i aid mathci aid ...</td>\n",
       "      <td>eem unbalanc whatev aid mathci aid far extrem...</td>\n",
       "    </tr>\n",
       "    <tr>\n",
       "      <th>2</th>\n",
       "      <td>Marya Dzmitruk was born in Minsk, Belarus in M...</td>\n",
       "      <td>0</td>\n",
       "      <td>1739</td>\n",
       "      <td>marya dzmitruk born mink belaru march   her mo...</td>\n",
       "      <td>marya dzmitruk born mink belaru march   her mo...</td>\n",
       "      <td>marya dzmitruk born mink belaru march   her mo...</td>\n",
       "      <td>marya dzmitruk born mink belaru march mother o...</td>\n",
       "    </tr>\n",
       "    <tr>\n",
       "      <th>3</th>\n",
       "      <td>\"\\r\\n\\r\\nTalkback\\r\\n\\r\\n Dear Celestia...  \"</td>\n",
       "      <td>0</td>\n",
       "      <td>37</td>\n",
       "      <td>talkback dear celetia ...</td>\n",
       "      <td>talkback dear celetia ...</td>\n",
       "      <td>talkback dear celetia ...</td>\n",
       "      <td>talkback dear celetia ...</td>\n",
       "    </tr>\n",
       "    <tr>\n",
       "      <th>4</th>\n",
       "      <td>New Categories \\r\\n\\r\\nI honestly think that w...</td>\n",
       "      <td>0</td>\n",
       "      <td>428</td>\n",
       "      <td>new categorie i honetly think need add categor...</td>\n",
       "      <td>new categorie i honetly think need add categor...</td>\n",
       "      <td>new categorie i honetly think need add categor...</td>\n",
       "      <td>new categori honetli think need add categori m...</td>\n",
       "    </tr>\n",
       "    <tr>\n",
       "      <th>5</th>\n",
       "      <td>Looks like it is my spaces. I guess I will sta...</td>\n",
       "      <td>0</td>\n",
       "      <td>176</td>\n",
       "      <td>look like pace i gue i tart filtering pace wel...</td>\n",
       "      <td>look like pace i gue i tart filtering pace wel...</td>\n",
       "      <td>look like pace i gue i tart filtering pace wel...</td>\n",
       "      <td>look like pace gue tart filter pace well tri c...</td>\n",
       "    </tr>\n",
       "    <tr>\n",
       "      <th>6</th>\n",
       "      <td>\"\\r\\n\\r\\nI would be willing to continue the pl...</td>\n",
       "      <td>0</td>\n",
       "      <td>434</td>\n",
       "      <td>i would willing continue plan plan followed h...</td>\n",
       "      <td>i would willing continue plan plan followed h...</td>\n",
       "      <td>i would willing continue plan plan followed h...</td>\n",
       "      <td>would will continu plan plan follow howev cur...</td>\n",
       "    </tr>\n",
       "    <tr>\n",
       "      <th>7</th>\n",
       "      <td>loser - you can't block me forever you admin e...</td>\n",
       "      <td>1</td>\n",
       "      <td>61</td>\n",
       "      <td>loer ca  block forever admin ego hippie freak</td>\n",
       "      <td>loer ca  block forever admin ego hippie freak</td>\n",
       "      <td>loer ca  block forever admin ego hippie freak</td>\n",
       "      <td>loer ca  block forev admin ego hippi freak</td>\n",
       "    </tr>\n",
       "    <tr>\n",
       "      <th>8</th>\n",
       "      <td>YOU CANNOT BLOCK ME. IF YOU BLOCK ME, I WILL C...</td>\n",
       "      <td>1</td>\n",
       "      <td>115</td>\n",
       "      <td>you can not block me if you block me i will ca...</td>\n",
       "      <td>you can not block me if you block me i will ca...</td>\n",
       "      <td>you can not block me if you block me i will ca...</td>\n",
       "      <td>block block call dumbhead</td>\n",
       "    </tr>\n",
       "    <tr>\n",
       "      <th>9</th>\n",
       "      <td>I had not seen the source Gwern used. I ran ac...</td>\n",
       "      <td>0</td>\n",
       "      <td>127</td>\n",
       "      <td>i een ource gwern ued i ran acro ite like woul...</td>\n",
       "      <td>i een ource gwern ued i ran acro ite like woul...</td>\n",
       "      <td>i een ource gwern ued i ran acro ite like woul...</td>\n",
       "      <td>een ourc gwern ue ran acro ite like would inap...</td>\n",
       "    </tr>\n",
       "  </tbody>\n",
       "</table>\n",
       "</div>"
      ],
      "text/plain": [
       "                                        comment_text  toxic  length  \\\n",
       "0  \"\\r\\n\\r\\n A barnstar for you! \\r\\n\\r\\n  The De...      0     338   \n",
       "1  \"\\r\\n\\r\\nThis seems unbalanced.  whatever I ha...      0     952   \n",
       "2  Marya Dzmitruk was born in Minsk, Belarus in M...      0    1739   \n",
       "3      \"\\r\\n\\r\\nTalkback\\r\\n\\r\\n Dear Celestia...  \"      0      37   \n",
       "4  New Categories \\r\\n\\r\\nI honestly think that w...      0     428   \n",
       "5  Looks like it is my spaces. I guess I will sta...      0     176   \n",
       "6  \"\\r\\n\\r\\nI would be willing to continue the pl...      0     434   \n",
       "7  loser - you can't block me forever you admin e...      1      61   \n",
       "8  YOU CANNOT BLOCK ME. IF YOU BLOCK ME, I WILL C...      1     115   \n",
       "9  I had not seen the source Gwern used. I ran ac...      0     127   \n",
       "\n",
       "                                           clean_txt  \\\n",
       "0   a barntar the defender wiki barntar i like  k...   \n",
       "1   thi eem unbalanced whatever i aid mathci aid ...   \n",
       "2  marya dzmitruk born mink belaru march   her mo...   \n",
       "3                         talkback dear celetia ...    \n",
       "4  new categorie i honetly think need add categor...   \n",
       "5  look like pace i gue i tart filtering pace wel...   \n",
       "6   i would willing continue plan plan followed h...   \n",
       "7      loer ca  block forever admin ego hippie freak   \n",
       "8  you can not block me if you block me i will ca...   \n",
       "9  i een ource gwern ued i ran acro ite like woul...   \n",
       "\n",
       "                                         clean_lemma  \\\n",
       "0   a barntar the defender wiki barntar i like  k...   \n",
       "1   thi eem unbalanced whatever i aid mathci aid ...   \n",
       "2  marya dzmitruk born mink belaru march   her mo...   \n",
       "3                         talkback dear celetia ...    \n",
       "4  new categorie i honetly think need add categor...   \n",
       "5  look like pace i gue i tart filtering pace wel...   \n",
       "6   i would willing continue plan plan followed h...   \n",
       "7      loer ca  block forever admin ego hippie freak   \n",
       "8  you can not block me if you block me i will ca...   \n",
       "9  i een ource gwern ued i ran acro ite like woul...   \n",
       "\n",
       "                                     clean_lemma_pos  \\\n",
       "0   a barntar the defender wiki barntar i like  k...   \n",
       "1   thi eem unbalanced whatever i aid mathci aid ...   \n",
       "2  marya dzmitruk born mink belaru march   her mo...   \n",
       "3                         talkback dear celetia ...    \n",
       "4  new categorie i honetly think need add categor...   \n",
       "5  look like pace i gue i tart filtering pace wel...   \n",
       "6   i would willing continue plan plan followed h...   \n",
       "7      loer ca  block forever admin ego hippie freak   \n",
       "8  you can not block me if you block me i will ca...   \n",
       "9  i een ource gwern ued i ran acro ite like woul...   \n",
       "\n",
       "                                      clean_stem_txt  \n",
       "0   barntar defend wiki barntar like kayatha  let...  \n",
       "1   eem unbalanc whatev aid mathci aid far extrem...  \n",
       "2  marya dzmitruk born mink belaru march mother o...  \n",
       "3                         talkback dear celetia ...   \n",
       "4  new categori honetli think need add categori m...  \n",
       "5  look like pace gue tart filter pace well tri c...  \n",
       "6   would will continu plan plan follow howev cur...  \n",
       "7         loer ca  block forev admin ego hippi freak  \n",
       "8                          block block call dumbhead  \n",
       "9  een ourc gwern ue ran acro ite like would inap...  "
      ]
     },
     "execution_count": 278,
     "metadata": {},
     "output_type": "execute_result"
    }
   ],
   "source": [
    "df.head(10)"
   ]
  },
  {
   "cell_type": "code",
   "execution_count": 280,
   "metadata": {},
   "outputs": [],
   "source": [
    "def removeCustomWords(text):\n",
    "    result = text.replace('page','')\n",
    "    return result"
   ]
  },
  {
   "cell_type": "code",
   "execution_count": 281,
   "metadata": {},
   "outputs": [],
   "source": [
    "def removeWiki(text):\n",
    "    result = text.replace('wikipedia','')\n",
    "    return result"
   ]
  },
  {
   "cell_type": "code",
   "execution_count": 282,
   "metadata": {},
   "outputs": [],
   "source": [
    "def removeEdit(text):\n",
    "    result = text.replace('edit','')\n",
    "    return result"
   ]
  },
  {
   "cell_type": "code",
   "execution_count": 283,
   "metadata": {},
   "outputs": [],
   "source": [
    "def removeEdit(text):\n",
    "    result = text.replace('i','')\n",
    "    return result"
   ]
  },
  {
   "cell_type": "code",
   "execution_count": 287,
   "metadata": {},
   "outputs": [],
   "source": [
    "def removeEdit(text):\n",
    "    result = text.replace('''''','')\n",
    "    return result"
   ]
  },
  {
   "cell_type": "code",
   "execution_count": 284,
   "metadata": {},
   "outputs": [],
   "source": [
    "df['clean_lemma_pos'] = df['clean_lemma_pos'].apply(removeCustomWords)\n",
    "df['clean_lemma_pos'] = df['clean_lemma_pos'].apply(removeWiki)\n",
    "df['clean_lemma_pos'] = df['clean_lemma_pos'].apply(removeEdit)\n"
   ]
  },
  {
   "cell_type": "code",
   "execution_count": 285,
   "metadata": {},
   "outputs": [
    {
     "data": {
      "text/html": [
       "<div>\n",
       "<style scoped>\n",
       "    .dataframe tbody tr th:only-of-type {\n",
       "        vertical-align: middle;\n",
       "    }\n",
       "\n",
       "    .dataframe tbody tr th {\n",
       "        vertical-align: top;\n",
       "    }\n",
       "\n",
       "    .dataframe thead th {\n",
       "        text-align: right;\n",
       "    }\n",
       "</style>\n",
       "<table border=\"1\" class=\"dataframe\">\n",
       "  <thead>\n",
       "    <tr style=\"text-align: right;\">\n",
       "      <th></th>\n",
       "      <th>comment_text</th>\n",
       "      <th>toxic</th>\n",
       "      <th>length</th>\n",
       "      <th>clean_txt</th>\n",
       "      <th>clean_lemma</th>\n",
       "      <th>clean_lemma_pos</th>\n",
       "      <th>clean_stem_txt</th>\n",
       "    </tr>\n",
       "  </thead>\n",
       "  <tbody>\n",
       "    <tr>\n",
       "      <th>0</th>\n",
       "      <td>\"\\r\\n\\r\\n A barnstar for you! \\r\\n\\r\\n  The De...</td>\n",
       "      <td>0</td>\n",
       "      <td>338</td>\n",
       "      <td>a barntar the defender wiki barntar i like  k...</td>\n",
       "      <td>a barntar the defender wiki barntar i like  k...</td>\n",
       "      <td>a barntar the defender wk barntar  lke  kayat...</td>\n",
       "      <td>barntar defend wiki barntar like kayatha  let...</td>\n",
       "    </tr>\n",
       "    <tr>\n",
       "      <th>1</th>\n",
       "      <td>\"\\r\\n\\r\\nThis seems unbalanced.  whatever I ha...</td>\n",
       "      <td>0</td>\n",
       "      <td>952</td>\n",
       "      <td>thi eem unbalanced whatever i aid mathci aid ...</td>\n",
       "      <td>thi eem unbalanced whatever i aid mathci aid ...</td>\n",
       "      <td>th eem unbalanced whatever  ad mathc ad far e...</td>\n",
       "      <td>eem unbalanc whatev aid mathci aid far extrem...</td>\n",
       "    </tr>\n",
       "    <tr>\n",
       "      <th>2</th>\n",
       "      <td>Marya Dzmitruk was born in Minsk, Belarus in M...</td>\n",
       "      <td>0</td>\n",
       "      <td>1739</td>\n",
       "      <td>marya dzmitruk born mink belaru march   her mo...</td>\n",
       "      <td>marya dzmitruk born mink belaru march   her mo...</td>\n",
       "      <td>marya dzmtruk born mnk belaru march   her moth...</td>\n",
       "      <td>marya dzmitruk born mink belaru march mother o...</td>\n",
       "    </tr>\n",
       "    <tr>\n",
       "      <th>3</th>\n",
       "      <td>\"\\r\\n\\r\\nTalkback\\r\\n\\r\\n Dear Celestia...  \"</td>\n",
       "      <td>0</td>\n",
       "      <td>37</td>\n",
       "      <td>talkback dear celetia ...</td>\n",
       "      <td>talkback dear celetia ...</td>\n",
       "      <td>talkback dear celeta ...</td>\n",
       "      <td>talkback dear celetia ...</td>\n",
       "    </tr>\n",
       "    <tr>\n",
       "      <th>4</th>\n",
       "      <td>New Categories \\r\\n\\r\\nI honestly think that w...</td>\n",
       "      <td>0</td>\n",
       "      <td>428</td>\n",
       "      <td>new categorie i honetly think need add categor...</td>\n",
       "      <td>new categorie i honetly think need add categor...</td>\n",
       "      <td>new categore  honetly thnk need add categore m...</td>\n",
       "      <td>new categori honetli think need add categori m...</td>\n",
       "    </tr>\n",
       "    <tr>\n",
       "      <th>5</th>\n",
       "      <td>Looks like it is my spaces. I guess I will sta...</td>\n",
       "      <td>0</td>\n",
       "      <td>176</td>\n",
       "      <td>look like pace i gue i tart filtering pace wel...</td>\n",
       "      <td>look like pace i gue i tart filtering pace wel...</td>\n",
       "      <td>look lke pace  gue  tart flterng pace well wa ...</td>\n",
       "      <td>look like pace gue tart filter pace well tri c...</td>\n",
       "    </tr>\n",
       "    <tr>\n",
       "      <th>6</th>\n",
       "      <td>\"\\r\\n\\r\\nI would be willing to continue the pl...</td>\n",
       "      <td>0</td>\n",
       "      <td>434</td>\n",
       "      <td>i would willing continue plan plan followed h...</td>\n",
       "      <td>i would willing continue plan plan followed h...</td>\n",
       "      <td>would wllng contnue plan plan followed howev...</td>\n",
       "      <td>would will continu plan plan follow howev cur...</td>\n",
       "    </tr>\n",
       "    <tr>\n",
       "      <th>7</th>\n",
       "      <td>loser - you can't block me forever you admin e...</td>\n",
       "      <td>1</td>\n",
       "      <td>61</td>\n",
       "      <td>loer ca  block forever admin ego hippie freak</td>\n",
       "      <td>loer ca  block forever admin ego hippie freak</td>\n",
       "      <td>loer ca  block forever admn ego hppe freak</td>\n",
       "      <td>loer ca  block forev admin ego hippi freak</td>\n",
       "    </tr>\n",
       "    <tr>\n",
       "      <th>8</th>\n",
       "      <td>YOU CANNOT BLOCK ME. IF YOU BLOCK ME, I WILL C...</td>\n",
       "      <td>1</td>\n",
       "      <td>115</td>\n",
       "      <td>you can not block me if you block me i will ca...</td>\n",
       "      <td>you can not block me if you block me i will ca...</td>\n",
       "      <td>you can not block me f you block me  wll call ...</td>\n",
       "      <td>block block call dumbhead</td>\n",
       "    </tr>\n",
       "    <tr>\n",
       "      <th>9</th>\n",
       "      <td>I had not seen the source Gwern used. I ran ac...</td>\n",
       "      <td>0</td>\n",
       "      <td>127</td>\n",
       "      <td>i een ource gwern ued i ran acro ite like woul...</td>\n",
       "      <td>i een ource gwern ued i ran acro ite like woul...</td>\n",
       "      <td>een ource gwern ued  ran acro te lke would na...</td>\n",
       "      <td>een ourc gwern ue ran acro ite like would inap...</td>\n",
       "    </tr>\n",
       "  </tbody>\n",
       "</table>\n",
       "</div>"
      ],
      "text/plain": [
       "                                        comment_text  toxic  length  \\\n",
       "0  \"\\r\\n\\r\\n A barnstar for you! \\r\\n\\r\\n  The De...      0     338   \n",
       "1  \"\\r\\n\\r\\nThis seems unbalanced.  whatever I ha...      0     952   \n",
       "2  Marya Dzmitruk was born in Minsk, Belarus in M...      0    1739   \n",
       "3      \"\\r\\n\\r\\nTalkback\\r\\n\\r\\n Dear Celestia...  \"      0      37   \n",
       "4  New Categories \\r\\n\\r\\nI honestly think that w...      0     428   \n",
       "5  Looks like it is my spaces. I guess I will sta...      0     176   \n",
       "6  \"\\r\\n\\r\\nI would be willing to continue the pl...      0     434   \n",
       "7  loser - you can't block me forever you admin e...      1      61   \n",
       "8  YOU CANNOT BLOCK ME. IF YOU BLOCK ME, I WILL C...      1     115   \n",
       "9  I had not seen the source Gwern used. I ran ac...      0     127   \n",
       "\n",
       "                                           clean_txt  \\\n",
       "0   a barntar the defender wiki barntar i like  k...   \n",
       "1   thi eem unbalanced whatever i aid mathci aid ...   \n",
       "2  marya dzmitruk born mink belaru march   her mo...   \n",
       "3                         talkback dear celetia ...    \n",
       "4  new categorie i honetly think need add categor...   \n",
       "5  look like pace i gue i tart filtering pace wel...   \n",
       "6   i would willing continue plan plan followed h...   \n",
       "7      loer ca  block forever admin ego hippie freak   \n",
       "8  you can not block me if you block me i will ca...   \n",
       "9  i een ource gwern ued i ran acro ite like woul...   \n",
       "\n",
       "                                         clean_lemma  \\\n",
       "0   a barntar the defender wiki barntar i like  k...   \n",
       "1   thi eem unbalanced whatever i aid mathci aid ...   \n",
       "2  marya dzmitruk born mink belaru march   her mo...   \n",
       "3                         talkback dear celetia ...    \n",
       "4  new categorie i honetly think need add categor...   \n",
       "5  look like pace i gue i tart filtering pace wel...   \n",
       "6   i would willing continue plan plan followed h...   \n",
       "7      loer ca  block forever admin ego hippie freak   \n",
       "8  you can not block me if you block me i will ca...   \n",
       "9  i een ource gwern ued i ran acro ite like woul...   \n",
       "\n",
       "                                     clean_lemma_pos  \\\n",
       "0   a barntar the defender wk barntar  lke  kayat...   \n",
       "1   th eem unbalanced whatever  ad mathc ad far e...   \n",
       "2  marya dzmtruk born mnk belaru march   her moth...   \n",
       "3                          talkback dear celeta ...    \n",
       "4  new categore  honetly thnk need add categore m...   \n",
       "5  look lke pace  gue  tart flterng pace well wa ...   \n",
       "6    would wllng contnue plan plan followed howev...   \n",
       "7         loer ca  block forever admn ego hppe freak   \n",
       "8  you can not block me f you block me  wll call ...   \n",
       "9   een ource gwern ued  ran acro te lke would na...   \n",
       "\n",
       "                                      clean_stem_txt  \n",
       "0   barntar defend wiki barntar like kayatha  let...  \n",
       "1   eem unbalanc whatev aid mathci aid far extrem...  \n",
       "2  marya dzmitruk born mink belaru march mother o...  \n",
       "3                         talkback dear celetia ...   \n",
       "4  new categori honetli think need add categori m...  \n",
       "5  look like pace gue tart filter pace well tri c...  \n",
       "6   would will continu plan plan follow howev cur...  \n",
       "7         loer ca  block forev admin ego hippi freak  \n",
       "8                          block block call dumbhead  \n",
       "9  een ourc gwern ue ran acro ite like would inap...  "
      ]
     },
     "execution_count": 285,
     "metadata": {},
     "output_type": "execute_result"
    }
   ],
   "source": [
    "df.head(10)"
   ]
  },
  {
   "cell_type": "code",
   "execution_count": 286,
   "metadata": {},
   "outputs": [
    {
     "data": {
      "image/png": "[encoded data removed]",
      "text/plain": [
       "<Figure size 1800x360 with 1 Axes>"
      ]
     },
     "metadata": {
      "needs_background": "light"
     },
     "output_type": "display_data"
    }
   ],
   "source": [
    "freq_words(df['clean_lemma_pos'])"
   ]
  },
  {
   "cell_type": "code",
   "execution_count": 288,
   "metadata": {},
   "outputs": [
    {
     "data": {
      "image/png": "[encoded data removed]",
      "text/plain": [
       "<Figure size 1800x360 with 1 Axes>"
      ]
     },
     "metadata": {
      "needs_background": "light"
     },
     "output_type": "display_data"
    }
   ],
   "source": [
    "freq_words(df['clean_stem_txt'])"
   ]
  },
  {
   "cell_type": "code",
   "execution_count": 289,
   "metadata": {},
   "outputs": [
    {
     "data": {
      "image/png": "[encoded data removed]",
      "text/plain": [
       "<Figure size 1800x360 with 1 Axes>"
      ]
     },
     "metadata": {
      "needs_background": "light"
     },
     "output_type": "display_data"
    }
   ],
   "source": [
    "freq_words(df['clean_txt'])"
   ]
  },
  {
   "cell_type": "code",
   "execution_count": 290,
   "metadata": {},
   "outputs": [
    {
     "data": {
      "image/png": "[encoded data removed]",
      "text/plain": [
       "<Figure size 1800x360 with 1 Axes>"
      ]
     },
     "metadata": {
      "needs_background": "light"
     },
     "output_type": "display_data"
    }
   ],
   "source": [
    "freq_words(df['clean_lemma'])"
   ]
  },
  {
   "cell_type": "code",
   "execution_count": 292,
   "metadata": {},
   "outputs": [],
   "source": [
    "x=pd.DataFrame(df['clean_stem_txt'])\n",
    "y=pd.DataFrame(df['toxic'])"
   ]
  },
  {
   "cell_type": "code",
   "execution_count": 294,
   "metadata": {},
   "outputs": [],
   "source": [
    "from sklearn.model_selection import train_test_split\n",
    "x_train, x_test, y_train, y_test = train_test_split(x, y, test_size=0.3, random_state=4242)"
   ]
  },
  {
   "cell_type": "code",
   "execution_count": 295,
   "metadata": {},
   "outputs": [
    {
     "name": "stdout",
     "output_type": "stream",
     "text": [
      "(3389, 1)\n",
      "(1453, 1)\n",
      "(3389, 1)\n",
      "(1453, 1)\n"
     ]
    }
   ],
   "source": [
    "print(x_train.shape)\n",
    "print(x_test.shape)\n",
    "print(y_train.shape)\n",
    "print(y_test.shape)"
   ]
  },
  {
   "cell_type": "code",
   "execution_count": null,
   "metadata": {},
   "outputs": [],
   "source": []
  },
  {
   "cell_type": "code",
   "execution_count": null,
   "metadata": {},
   "outputs": [],
   "source": []
  }
 ],
 "metadata": {
  "kernelspec": {
   "display_name": "Python 3",
   "language": "python",
   "name": "python3"
  },
  "language_info": {
   "codemirror_mode": {
    "name": "ipython",
    "version": 3
   },
   "file_extension": ".py",
   "mimetype": "text/x-python",
   "name": "python",
   "nbconvert_exporter": "python",
   "pygments_lexer": "ipython3",
   "version": "3.7.6"
  }
 },
 "nbformat": 4,
 "nbformat_minor": 4
}
